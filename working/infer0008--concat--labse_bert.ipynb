{
 "cells": [
  {
   "cell_type": "code",
   "execution_count": 1,
   "metadata": {},
   "outputs": [
    {
     "name": "stdout",
     "output_type": "stream",
     "text": [
      "Modules to reload:\n",
      "all-except-skipped\n",
      "\n",
      "Modules to skip:\n",
      "\n",
      "Sat Apr  3 19:05:56 2021       \r\n",
      "+-----------------------------------------------------------------------------+\r\n",
      "| NVIDIA-SMI 440.59       Driver Version: 440.59       CUDA Version: 10.2     |\r\n",
      "|-------------------------------+----------------------+----------------------+\r\n",
      "| GPU  Name        Persistence-M| Bus-Id        Disp.A | Volatile Uncorr. ECC |\r\n",
      "| Fan  Temp  Perf  Pwr:Usage/Cap|         Memory-Usage | GPU-Util  Compute M. |\r\n",
      "|===============================+======================+======================|\r\n",
      "|   0  Tesla V100-SXM2...  Off  | 00000000:00:1E.0 Off |                    0 |\r\n",
      "| N/A   34C    P0    23W / 300W |     11MiB / 16160MiB |      0%      Default |\r\n",
      "+-------------------------------+----------------------+----------------------+\r\n",
      "                                                                               \r\n",
      "+-----------------------------------------------------------------------------+\r\n",
      "| Processes:                                                       GPU Memory |\r\n",
      "|  GPU       PID   Type   Process name                             Usage      |\r\n",
      "|=============================================================================|\r\n",
      "|  No running processes found                                                 |\r\n",
      "+-----------------------------------------------------------------------------+\r\n"
     ]
    }
   ],
   "source": [
    "%load_ext autoreload\n",
    "%autoreload 2\n",
    "%aimport\n",
    "\n",
    "!nvidia-smi"
   ]
  },
  {
   "cell_type": "markdown",
   "metadata": {},
   "source": [
    "- https://www.kaggle.com/boliu0/landmark-recognition-2020-third-place-submission\n",
    "- https://github.com/haqishen/Google-Landmark-Recognition-2020-3rd-Place-Solution\n",
    "- https://www.kaggle.com/zzy990106/b0-bert-cv0-9\n",
    "- https://github.com/yang-zhang/product_category/blob/dev/notebooks/transformer_20210307E1--pin_memory."
   ]
  },
  {
   "cell_type": "markdown",
   "metadata": {},
   "source": [
    "# setup"
   ]
  },
  {
   "cell_type": "code",
   "execution_count": 2,
   "metadata": {},
   "outputs": [],
   "source": [
    "HOME = \"/data/git/shopee-product-matching\"\n",
    "# p_out = f'{HOME}/output/infer0005'\n",
    "# !mkdir -p {p_out}\n",
    "p_prp = f'{HOME}/output/prep001/train_prep.csv'\n",
    "\n",
    "FOLD = 0\n",
    "\n",
    "import sys\n",
    "sys.path.append(f\"{HOME}/src\")\n",
    "\n",
    "import pandas as pd\n",
    "from pl_model import ShpModel\n",
    "import os\n",
    "import torch\n",
    "import numpy as np\n",
    "from tqdm import tqdm\n",
    "\n",
    "os.environ[\"TOKENIZERS_PARALLELISM\"] = \"false\"\n",
    "\n",
    "df = pd.read_csv(p_prp)#.head(256)\n",
    "pids = df.posting_id.values\n",
    "\n",
    "NUM_WORKERS = 8"
   ]
  },
  {
   "cell_type": "markdown",
   "metadata": {},
   "source": [
    "# inference model"
   ]
  },
  {
   "cell_type": "code",
   "execution_count": 3,
   "metadata": {},
   "outputs": [],
   "source": [
    "import os\n",
    "import cv2\n",
    "import glob\n",
    "import math\n",
    "import pickle\n",
    "import numpy as np # linear algebra\n",
    "import pandas as pd # data processing, CSV file I/O (e.g. pd.read_csv)\n",
    "import albumentations\n",
    "import matplotlib.pyplot as plt\n",
    "from tqdm.notebook import tqdm as tqdm\n",
    "\n",
    "import torch\n",
    "from torch.utils.data import DataLoader, Dataset\n",
    "import torch.nn as nn\n",
    "import torch.nn.functional as F\n",
    "\n",
    "import geffnet\n",
    "\n",
    "from dataset import ShopeeDataset, get_transforms\n",
    "from torch.utils.data import DataLoader\n",
    "\n",
    "class ArcMarginProduct_subcenter(nn.Module):\n",
    "    def __init__(self, in_features, out_features, k=3):\n",
    "        super().__init__()\n",
    "        self.weight = nn.Parameter(torch.FloatTensor(out_features*k, in_features))\n",
    "        self.reset_parameters()\n",
    "        self.k = k\n",
    "        self.out_features = out_features\n",
    "        \n",
    "    def reset_parameters(self):\n",
    "        stdv = 1. / math.sqrt(self.weight.size(1))\n",
    "        self.weight.data.uniform_(-stdv, stdv)\n",
    "        \n",
    "    def forward(self, features):\n",
    "        cosine_all = F.linear(F.normalize(features), F.normalize(self.weight))\n",
    "        cosine_all = cosine_all.view(-1, self.out_features, self.k)\n",
    "        cosine, _ = torch.max(cosine_all, dim=2)\n",
    "        return cosine \n",
    "\n",
    "sigmoid = torch.nn.Sigmoid()\n",
    "class Swish(torch.autograd.Function):\n",
    "    @staticmethod\n",
    "    def forward(ctx, i):\n",
    "        result = i * sigmoid(i)\n",
    "        ctx.save_for_backward(i)\n",
    "        return result\n",
    "    @staticmethod\n",
    "    def backward(ctx, grad_output):\n",
    "        i = ctx.saved_variables[0]\n",
    "        sigmoid_i = sigmoid(i)\n",
    "        return grad_output * (sigmoid_i * (1 + i * (1 - sigmoid_i)))\n",
    "\n",
    "class Swish_module(nn.Module):\n",
    "    def forward(self, x):\n",
    "        return Swish.apply(x)\n",
    "\n",
    "    \n",
    " \n",
    "    \n",
    "class enet_arcface_FINAL(nn.Module):\n",
    "\n",
    "    def __init__(self, enet_type, out_dim):\n",
    "        super(enet_arcface_FINAL, self).__init__()\n",
    "        self.enet = geffnet.create_model(enet_type.replace('-', '_'), pretrained=None)\n",
    "        self.feat = nn.Linear(self.enet.classifier.in_features, 512)\n",
    "        self.swish = Swish_module()\n",
    "        self.metric_classify = ArcMarginProduct_subcenter(512, out_dim)\n",
    "        self.enet.classifier = nn.Identity()\n",
    " \n",
    "    def forward(self, x):\n",
    "        x = self.enet(x)\n",
    "        x = self.swish(self.feat(x))\n",
    "        return F.normalize(x), self.metric_classify(x)\n",
    "    \n",
    "    \n",
    "from rexnetv1 import ReXNetV1\n",
    "from resnest.torch import resnest101    \n",
    "class rex20_arcface(nn.Module):\n",
    "\n",
    "    def __init__(self, enet_type, out_dim, load_pretrained=False):\n",
    "        super(rex20_arcface, self).__init__()\n",
    "        self.enet = ReXNetV1(width_mult=2.0)\n",
    "        if load_pretrained:\n",
    "            pretrain_wts = \"/workspace/rexnetv1_2.0x.pth\"            \n",
    "            sd = torch.load(pretrain_wts)\n",
    "            self.enet.load_state_dict(sd, strict=True)        \n",
    "        \n",
    "        self.feat = nn.Linear(self.enet.output[1].in_channels, 512)\n",
    "        self.swish = Swish_module()\n",
    "        self.metric_classify = ArcMarginProduct_subcenter(512, out_dim)\n",
    "        self.enet.output = nn.Identity()\n",
    "    \n",
    "    def forward(self, x):\n",
    "        x = self.enet(x)\n",
    "        if x.ndim==1: \n",
    "            x = x.unsqueeze(0)          \n",
    "        x = self.swish(self.feat(x))\n",
    "        return F.normalize(x), self.metric_classify(x)    \n",
    "    \n",
    "class nest101_arcface(nn.Module):\n",
    "\n",
    "    def __init__(self, enet_type, out_dim):\n",
    "        super(nest101_arcface, self).__init__()\n",
    "        self.enet = resnest101(pretrained=False)\n",
    "        self.feat = nn.Linear(self.enet.fc.in_features, 512)\n",
    "        self.swish = Swish_module()\n",
    "        self.metric_classify = ArcMarginProduct_subcenter(512, out_dim)\n",
    "        self.enet.fc = nn.Identity()    \n",
    "    def forward(self, x):\n",
    "        x = self.enet(x)\n",
    "        x = self.swish(self.feat(x))\n",
    "        return F.normalize(x), self.metric_classify(x)    \n",
    "\n",
    "# def load_model(model, model_file):\n",
    "#     state_dict = torch.load(model_file)\n",
    "#     if \"model_state_dict\" in state_dict.keys():\n",
    "#         state_dict = state_dict[\"model_state_dict\"]\n",
    "#     state_dict = {k[7:] if k.startswith('module.') else k: state_dict[k] for k in state_dict.keys()}\n",
    "# #     del state_dict['metric_classify.weight']\n",
    "#     model.load_state_dict(state_dict, strict=True)\n",
    "#     print(f\"loaded {model_file}\")\n",
    "#     model.eval()    \n",
    "#     return model\n",
    "\n",
    "def load_model(model, plmodel):\n",
    "    state_dict = plmodel.state_dict()\n",
    "    if \"model_state_dict\" in state_dict.keys():\n",
    "        state_dict = state_dict[\"model_state_dict\"]\n",
    "    state_dict = {k[6:] if k.startswith('model.') else k: state_dict[k] for k in state_dict.keys()}\n",
    "#     del state_dict['metric_classify.weight']\n",
    "    model.load_state_dict(state_dict, strict=True)\n",
    "    model.eval()    \n",
    "    return model"
   ]
  },
  {
   "cell_type": "markdown",
   "metadata": {},
   "source": [
    "# load model"
   ]
  },
  {
   "cell_type": "code",
   "execution_count": 4,
   "metadata": {},
   "outputs": [],
   "source": [
    "mdls_img = [\n",
    "    {'ckpt': f'{HOME}/output/trn0003/tensorboard_csv/5_5/checkpoints/epoch=21-step=37685.ckpt',\n",
    "     'enet_type': 'tf_efficientnet_b4_ns',\n",
    "     'imgsz': 512,\n",
    "     'bs': 32,\n",
    "    },\n",
    "    {'ckpt': f'{HOME}/output/trn0002/tensorboard_csv/2_2/checkpoints/epoch=17-step=30833.ckpt',\n",
    "     'enet_type': 'tf_efficientnet_b3_ns',\n",
    "     'imgsz': 512,\n",
    "     'bs': 32,\n",
    "    },\n",
    "]\n",
    "\n",
    "device = torch.device('cuda')"
   ]
  },
  {
   "cell_type": "code",
   "execution_count": 5,
   "metadata": {},
   "outputs": [],
   "source": [
    "def get_img_model(mdl):\n",
    "    shpmodel = ShpModel.load_from_checkpoint(mdl['ckpt'])\n",
    "    out_dim = shpmodel.num_classes\n",
    "    model = enet_arcface_FINAL(mdl['enet_type'], out_dim=out_dim)\n",
    "    model = load_model(model, shpmodel)\n",
    "    model = model\n",
    "    return model\n",
    "\n",
    "# model = get_img_model(mdls_img[0]).to(device)"
   ]
  },
  {
   "cell_type": "markdown",
   "metadata": {},
   "source": [
    "# dataloader"
   ]
  },
  {
   "cell_type": "code",
   "execution_count": 6,
   "metadata": {},
   "outputs": [],
   "source": [
    "def get_dl(mdl, df=df):\n",
    "    tfms_trn, tfms_val = get_transforms(mdl['imgsz'])\n",
    "    ds = ShopeeDataset(df, mode=\"test\", transform=tfms_val)\n",
    "    dl = DataLoader(ds,\n",
    "                batch_size=mdl['bs'],\n",
    "                num_workers=NUM_WORKERS,\n",
    "                pin_memory=True,\n",
    "            )\n",
    "    return dl\n",
    "\n",
    "# dl = get_dl(mdls_img[0])"
   ]
  },
  {
   "cell_type": "markdown",
   "metadata": {},
   "source": [
    "# get feats"
   ]
  },
  {
   "cell_type": "code",
   "execution_count": 7,
   "metadata": {},
   "outputs": [],
   "source": [
    "def get_feats(model, dl):\n",
    "    feats = np.zeros((len(dl.dataset), 512))\n",
    "    i = 0\n",
    "    for dat in tqdm(dl):\n",
    "        dat = dat.to(device)\n",
    "        with torch.no_grad():\n",
    "            feat,_ = model(dat)\n",
    "        l = len(feat)\n",
    "        feats[i : i + l, :] = feat.cpu().detach().numpy()\n",
    "        i += l\n",
    "    return feats\n",
    "\n"
   ]
  },
  {
   "cell_type": "code",
   "execution_count": 8,
   "metadata": {},
   "outputs": [
    {
     "data": {
      "application/vnd.jupyter.widget-view+json": {
       "model_id": "3b1568ef9ad5463d91bd9fd0d3372888",
       "version_major": 2,
       "version_minor": 0
      },
      "text/plain": [
       "  0%|          | 0/1071 [00:00<?, ?it/s]"
      ]
     },
     "metadata": {},
     "output_type": "display_data"
    },
    {
     "data": {
      "application/vnd.jupyter.widget-view+json": {
       "model_id": "3a6d2e6a55ab403580bd3639cfb8071e",
       "version_major": 2,
       "version_minor": 0
      },
      "text/plain": [
       "  0%|          | 0/1071 [00:00<?, ?it/s]"
      ]
     },
     "metadata": {},
     "output_type": "display_data"
    }
   ],
   "source": [
    "lst_feats = []\n",
    "for mdl in mdls_img:\n",
    "    model = get_img_model(mdl).to(device)\n",
    "    dl = get_dl(mdl)\n",
    "    feats_ = get_feats(model, dl)\n",
    "    lst_feats.append(feats_)"
   ]
  },
  {
   "cell_type": "code",
   "execution_count": 9,
   "metadata": {},
   "outputs": [
    {
     "data": {
      "text/plain": [
       "(34250, 1024)"
      ]
     },
     "execution_count": 9,
     "metadata": {},
     "output_type": "execute_result"
    }
   ],
   "source": [
    "feats_img = np.concatenate(lst_feats, axis=1)\n",
    "feats_img.shape"
   ]
  },
  {
   "cell_type": "markdown",
   "metadata": {},
   "source": [
    "# bert"
   ]
  },
  {
   "cell_type": "code",
   "execution_count": 10,
   "metadata": {},
   "outputs": [
    {
     "data": {
      "application/vnd.jupyter.widget-view+json": {
       "model_id": "b7f7c05cb3b243139bb42d459f51fc1e",
       "version_major": 2,
       "version_minor": 0
      },
      "text/plain": [
       "Downloading:   0%|          | 0.00/472 [00:00<?, ?B/s]"
      ]
     },
     "metadata": {},
     "output_type": "display_data"
    },
    {
     "data": {
      "application/vnd.jupyter.widget-view+json": {
       "model_id": "d55b41955fb848fa81f258fe73cbc8fe",
       "version_major": 2,
       "version_minor": 0
      },
      "text/plain": [
       "Downloading:   0%|          | 0.00/5.22M [00:00<?, ?B/s]"
      ]
     },
     "metadata": {},
     "output_type": "display_data"
    },
    {
     "data": {
      "application/vnd.jupyter.widget-view+json": {
       "model_id": "2094bd771ff043ae9608a04f99061a06",
       "version_major": 2,
       "version_minor": 0
      },
      "text/plain": [
       "Downloading:   0%|          | 0.00/112 [00:00<?, ?B/s]"
      ]
     },
     "metadata": {},
     "output_type": "display_data"
    },
    {
     "data": {
      "application/vnd.jupyter.widget-view+json": {
       "model_id": "96d5ea50e8374d018cfe345557e373dd",
       "version_major": 2,
       "version_minor": 0
      },
      "text/plain": [
       "Downloading:   0%|          | 0.00/62.0 [00:00<?, ?B/s]"
      ]
     },
     "metadata": {},
     "output_type": "display_data"
    },
    {
     "data": {
      "application/vnd.jupyter.widget-view+json": {
       "model_id": "84089f3adae546dca0a7b69542b1c4c4",
       "version_major": 2,
       "version_minor": 0
      },
      "text/plain": [
       "Downloading:   0%|          | 0.00/1.89G [00:00<?, ?B/s]"
      ]
     },
     "metadata": {},
     "output_type": "display_data"
    }
   ],
   "source": [
    "import tmdl \n",
    "feats_txt = tmdl.mk_feats(df, nm_mdl='pvl/labse_bert')"
   ]
  },
  {
   "cell_type": "code",
   "execution_count": 11,
   "metadata": {},
   "outputs": [
    {
     "data": {
      "text/plain": [
       "(34250, 768)"
      ]
     },
     "execution_count": 11,
     "metadata": {},
     "output_type": "execute_result"
    }
   ],
   "source": [
    "feats_txt.shape"
   ]
  },
  {
   "cell_type": "markdown",
   "metadata": {},
   "source": [
    "# combine img and tfidf"
   ]
  },
  {
   "cell_type": "code",
   "execution_count": 12,
   "metadata": {},
   "outputs": [],
   "source": [
    "feats = np.concatenate((feats_img,feats_txt), axis=1)\n",
    "feats = F.normalize(torch.tensor(feats))\n",
    "feats = feats.numpy()"
   ]
  },
  {
   "cell_type": "code",
   "execution_count": 13,
   "metadata": {},
   "outputs": [
    {
     "data": {
      "text/plain": [
       "(34250, 1792)"
      ]
     },
     "execution_count": 13,
     "metadata": {},
     "output_type": "execute_result"
    }
   ],
   "source": [
    "feats.shape"
   ]
  },
  {
   "cell_type": "markdown",
   "metadata": {},
   "source": [
    "# verify"
   ]
  },
  {
   "cell_type": "code",
   "execution_count": 14,
   "metadata": {},
   "outputs": [],
   "source": [
    "import torch\n",
    "import numpy as np\n",
    "from tqdm import tqdm\n",
    "\n",
    "from utils import meanf1, get_targets, get_preds_by_thrsh, preds2pids\n",
    "from neighbor import get_nbrs"
   ]
  },
  {
   "cell_type": "code",
   "execution_count": 15,
   "metadata": {},
   "outputs": [],
   "source": [
    "targets = get_targets(df)"
   ]
  },
  {
   "cell_type": "code",
   "execution_count": 16,
   "metadata": {
    "scrolled": false
   },
   "outputs": [
    {
     "name": "stdout",
     "output_type": "stream",
     "text": [
      "chunk 0 to 4096\n",
      "chunk 4096 to 8192\n",
      "chunk 8192 to 12288\n",
      "chunk 12288 to 16384\n",
      "chunk 16384 to 20480\n",
      "chunk 20480 to 24576\n",
      "chunk 24576 to 28672\n",
      "chunk 28672 to 32768\n",
      "chunk 32768 to 34250\n"
     ]
    }
   ],
   "source": [
    "dists, idx = get_nbrs(feats)"
   ]
  },
  {
   "cell_type": "code",
   "execution_count": 33,
   "metadata": {},
   "outputs": [],
   "source": [
    "preds = get_preds_by_thrsh(dists, idx, thrsh=)\n",
    "preds = preds2pids(preds, pids)"
   ]
  },
  {
   "cell_type": "code",
   "execution_count": 34,
   "metadata": {},
   "outputs": [
    {
     "data": {
      "text/plain": [
       "0.12895734829644728"
      ]
     },
     "execution_count": 34,
     "metadata": {},
     "output_type": "execute_result"
    }
   ],
   "source": [
    "meanf1(preds,targets)"
   ]
  },
  {
   "cell_type": "code",
   "execution_count": 38,
   "metadata": {},
   "outputs": [
    {
     "name": "stdout",
     "output_type": "stream",
     "text": [
      "[0.2  0.21 0.22 0.23 0.24 0.25 0.26 0.27 0.28 0.29 0.3  0.31 0.32 0.33\n",
      " 0.34 0.35 0.36 0.37 0.38 0.39 0.4 ]\n"
     ]
    }
   ],
   "source": [
    "thrshes = np.linspace(.2,.4,num=21)\n",
    "print(thrshes)"
   ]
  },
  {
   "cell_type": "code",
   "execution_count": 39,
   "metadata": {},
   "outputs": [
    {
     "name": "stderr",
     "output_type": "stream",
     "text": [
      "100%|██████████| 21/21 [00:22<00:00,  1.08s/it]\n"
     ]
    }
   ],
   "source": [
    "f1_lst = []\n",
    "for thrsh in tqdm(thrshes):\n",
    "    preds = get_preds_by_thrsh(dists, idx, thrsh)\n",
    "    preds = preds2pids(preds, pids)\n",
    "    f1_lst.append(meanf1(preds,targets))"
   ]
  },
  {
   "cell_type": "code",
   "execution_count": 40,
   "metadata": {},
   "outputs": [
    {
     "data": {
      "text/plain": [
       "[<matplotlib.lines.Line2D at 0x7f9becb3b890>]"
      ]
     },
     "execution_count": 40,
     "metadata": {},
     "output_type": "execute_result"
    },
    {
     "data": {
      "image/png": "[encoded data removed]",
      "text/plain": [
       "<Figure size 432x288 with 1 Axes>"
      ]
     },
     "metadata": {
      "needs_background": "light"
     },
     "output_type": "display_data"
    }
   ],
   "source": [
    "import matplotlib.pyplot as plt\n",
    "plt.plot(thrshes, f1_lst)  "
   ]
  },
  {
   "cell_type": "code",
   "execution_count": 41,
   "metadata": {},
   "outputs": [],
   "source": [
    "def find_best(dists, idx, thrshes = np.linspace(1.75,2.25,num=11)):\n",
    "    f1_lst = []\n",
    "    preds_lst = []\n",
    "    for thrsh in tqdm(thrshes):\n",
    "        preds = get_preds_by_thrsh(dists, idx, thrsh)\n",
    "        preds = preds2pids(preds, pids)\n",
    "        preds_lst.append(preds)\n",
    "        f1 = meanf1(preds,targets)\n",
    "        f1_lst.append(f1)\n",
    "    f1_best, thrsh_best, preds_best = sorted(zip(f1_lst, thrshes, preds_lst), reverse=True)[0]\n",
    "    return f1_best, thrsh_best, preds_best"
   ]
  },
  {
   "cell_type": "code",
   "execution_count": 42,
   "metadata": {},
   "outputs": [
    {
     "name": "stderr",
     "output_type": "stream",
     "text": [
      "100%|██████████| 21/21 [00:22<00:00,  1.08s/it]\n"
     ]
    }
   ],
   "source": [
    "f1_best, thrsh_best, preds_best = find_best(dists, idx, thrshes)"
   ]
  },
  {
   "cell_type": "code",
   "execution_count": 43,
   "metadata": {},
   "outputs": [
    {
     "data": {
      "text/plain": [
       "(0.5856494702791623, 0.33)"
      ]
     },
     "execution_count": 43,
     "metadata": {},
     "output_type": "execute_result"
    }
   ],
   "source": [
    "f1_best, thrsh_best"
   ]
  },
  {
   "cell_type": "markdown",
   "metadata": {},
   "source": [
    "# add hash"
   ]
  },
  {
   "cell_type": "code",
   "execution_count": 44,
   "metadata": {},
   "outputs": [],
   "source": [
    "from utils import get_preds_pids_h, comb_preds"
   ]
  },
  {
   "cell_type": "code",
   "execution_count": 45,
   "metadata": {},
   "outputs": [
    {
     "data": {
      "text/plain": [
       "0.6428496627102903"
      ]
     },
     "execution_count": 45,
     "metadata": {},
     "output_type": "execute_result"
    }
   ],
   "source": [
    "pred_pids_h = get_preds_pids_h(df)\n",
    "preds = comb_preds(preds_best, pred_pids_h)\n",
    "meanf1(preds,targets)"
   ]
  },
  {
   "cell_type": "code",
   "execution_count": null,
   "metadata": {},
   "outputs": [],
   "source": []
  },
  {
   "cell_type": "code",
   "execution_count": null,
   "metadata": {},
   "outputs": [],
   "source": []
  }
 ],
 "metadata": {
  "kernelspec": {
   "display_name": "shopee",
   "language": "python",
   "name": "shopee"
  },
  "language_info": {
   "codemirror_mode": {
    "name": "ipython",
    "version": 3
   },
   "file_extension": ".py",
   "mimetype": "text/x-python",
   "name": "python",
   "nbconvert_exporter": "python",
   "pygments_lexer": "ipython3",
   "version": "3.7.10"
  },
  "toc": {
   "base_numbering": 1,
   "nav_menu": {},
   "number_sections": true,
   "sideBar": true,
   "skip_h1_title": false,
   "title_cell": "Table of Contents",
   "title_sidebar": "Contents",
   "toc_cell": false,
   "toc_position": {},
   "toc_section_display": true,
   "toc_window_display": true
  }
 },
 "nbformat": 4,
 "nbformat_minor": 4
}
