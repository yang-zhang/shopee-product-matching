{
 "cells": [
  {
   "cell_type": "code",
   "execution_count": 1,
   "metadata": {
    "scrolled": false
   },
   "outputs": [
    {
     "name": "stdout",
     "output_type": "stream",
     "text": [
      "Modules to reload:\n",
      "all-except-skipped\n",
      "\n",
      "Modules to skip:\n",
      "\n",
      "Sat Apr 17 17:40:35 2021       \r\n",
      "+-----------------------------------------------------------------------------+\r\n",
      "| NVIDIA-SMI 440.59       Driver Version: 440.59       CUDA Version: 10.2     |\r\n",
      "|-------------------------------+----------------------+----------------------+\r\n",
      "| GPU  Name        Persistence-M| Bus-Id        Disp.A | Volatile Uncorr. ECC |\r\n",
      "| Fan  Temp  Perf  Pwr:Usage/Cap|         Memory-Usage | GPU-Util  Compute M. |\r\n",
      "|===============================+======================+======================|\r\n",
      "|   0  Tesla V100-SXM2...  Off  | 00000000:00:1E.0 Off |                    0 |\r\n",
      "| N/A   35C    P0    23W / 300W |     11MiB / 16160MiB |      0%      Default |\r\n",
      "+-------------------------------+----------------------+----------------------+\r\n",
      "                                                                               \r\n",
      "+-----------------------------------------------------------------------------+\r\n",
      "| Processes:                                                       GPU Memory |\r\n",
      "|  GPU       PID   Type   Process name                             Usage      |\r\n",
      "|=============================================================================|\r\n",
      "|  No running processes found                                                 |\r\n",
      "+-----------------------------------------------------------------------------+\r\n"
     ]
    }
   ],
   "source": [
    "%load_ext autoreload\n",
    "%autoreload 2\n",
    "%aimport\n",
    "\n",
    "!nvidia-smi\n"
   ]
  },
  {
   "cell_type": "markdown",
   "metadata": {},
   "source": [
    "# setup"
   ]
  },
  {
   "cell_type": "code",
   "execution_count": 2,
   "metadata": {},
   "outputs": [],
   "source": [
    "HOME = \"/data/git/shopee-product-matching\"\n",
    "p_prp = f'{HOME}/output/prep002'\n",
    "\n",
    "FOLD = 0\n",
    "FP16 = True\n",
    "\n",
    "import sys\n",
    "sys.path.append(f\"{HOME}/src\")\n",
    "\n",
    "import pandas as pd\n",
    "from pl_model import ShpModel\n",
    "import os\n",
    "import torch\n",
    "import numpy as np\n",
    "from tqdm import tqdm\n",
    "import matplotlib.pyplot as plt\n",
    "\n",
    "os.environ[\"TOKENIZERS_PARALLELISM\"] = \"false\"\n",
    "\n",
    "from final import enet_arcface_FINAL, load_model\n",
    "\n",
    "from dataset import ShopeeDataset, get_transforms\n",
    "from torch.utils.data import DataLoader\n"
   ]
  },
  {
   "cell_type": "markdown",
   "metadata": {},
   "source": [
    "## utils"
   ]
  },
  {
   "cell_type": "code",
   "execution_count": 3,
   "metadata": {},
   "outputs": [],
   "source": [
    "import numpy as np\n",
    "\n",
    "def getf1(x, y):\n",
    "    n = len(np.intersect1d(x, y))\n",
    "    return 2 * n / (len(x) + len(y))\n",
    "\n",
    "\n",
    "def getf1s(xs, ys):\n",
    "    return (getf1(x, y) for x, y in zip(xs, ys))\n",
    "\n",
    "\n",
    "def meanf1(xs, ys):\n",
    "    return np.mean(list(getf1s(xs, ys)))\n",
    "\n",
    "\n",
    "def get_targets(df):\n",
    "    grp2ids = df.groupby(\"label_group\").posting_id.agg(\"unique\").to_dict()\n",
    "    targets = df.label_group.map(grp2ids)\n",
    "    return targets\n",
    "\n",
    "def preds2pids(preds, pids):\n",
    "    return [pids[o] for o in preds]\n",
    "\n",
    "\n",
    "def comb_preds(*preds):\n",
    "    return (np.unique(np.concatenate(l)) for l in zip(*preds))\n"
   ]
  },
  {
   "cell_type": "code",
   "execution_count": 4,
   "metadata": {},
   "outputs": [],
   "source": [
    "from cuml.neighbors import NearestNeighbors\n",
    "import numpy as np\n",
    "import torch.nn.functional as F\n",
    "\n",
    "\n",
    "N_NBRS = 50\n",
    "CHUNK = 1024 * 4\n",
    "\n",
    "\n",
    "def mk_nnmdl(feats, n_nbrs=N_NBRS):\n",
    "    nnmdl = NearestNeighbors(N_NBRS, metric=\"cosine\")\n",
    "    nnmdl.fit(feats)\n",
    "    return nnmdl\n",
    "\n",
    "\n",
    "def get_nbrs_from_nnmdl(feats, nnmdl, sz_chunk=CHUNK):\n",
    "    n = len(feats)\n",
    "    n_nbrs = nnmdl.n_neighbors\n",
    "    dists = np.zeros((n, n_nbrs), dtype=\"float\")\n",
    "    idx = np.zeros((n, n_nbrs), dtype=\"int\")\n",
    "    n_chunks = len(feats) // sz_chunk\n",
    "    if len(feats) % sz_chunk != 0:\n",
    "        n_chunks += 1\n",
    "    for j in tqdm(range(n_chunks)):\n",
    "        a = j * sz_chunk\n",
    "        b = (j + 1) * sz_chunk\n",
    "        b = min(b, len(feats))\n",
    "        dists_, idx_ = nnmdl.kneighbors(\n",
    "            feats[\n",
    "                a:b,\n",
    "            ]\n",
    "        )\n",
    "        dists[a:b] = np.array(dists_)\n",
    "        idx[a:b] = np.array(idx_)\n",
    "    return dists, idx\n",
    "\n",
    "\n",
    "def get_nbrs(feats, n_nbrs=N_NBRS, sz_chunk=CHUNK):\n",
    "    nnmdl = mk_nnmdl(feats, n_nbrs)\n",
    "    dists, idx = get_nbrs_from_nnmdl(feats, nnmdl, sz_chunk)\n",
    "    return dists, idx\n",
    "\n",
    "\n",
    "def get_preds_by_thrsh(dists, idx, thrsh):\n",
    "    preds = (ind[dst < thrsh] for dst, ind in zip(dists, idx))\n",
    "    return preds\n",
    "\n",
    "\n",
    "def find_best(dists, idx, thrshes=np.linspace(0.,1.,num=21)):\n",
    "    f1_lst = []\n",
    "    preds_lst = []\n",
    "    for thrsh in tqdm(thrshes):\n",
    "        preds = get_preds_by_thrsh(dists, idx, thrsh)\n",
    "        preds = preds2pids(preds, pids)\n",
    "        preds_lst.append(preds)\n",
    "        f1 = meanf1(preds,targets)\n",
    "        f1_lst.append(f1)\n",
    "    f1_best, thrsh_best, preds_best = sorted(zip(f1_lst, thrshes, preds_lst), reverse=True)[0]\n",
    "    res = {'f1_best': f1_best, \n",
    "           'thrsh_best': thrsh_best, \n",
    "           'preds_best': preds_best, \n",
    "           'thrshes': thrshes, \n",
    "           'f1_lst': f1_lst}\n",
    "    return res"
   ]
  },
  {
   "cell_type": "code",
   "execution_count": null,
   "metadata": {},
   "outputs": [],
   "source": []
  },
  {
   "cell_type": "code",
   "execution_count": 5,
   "metadata": {},
   "outputs": [],
   "source": [
    "df = pd.read_csv(f'{p_prp}/df_valid.csv')\n",
    "pids = df.posting_id.values\n",
    "\n",
    "targets = get_targets(df)"
   ]
  },
  {
   "cell_type": "code",
   "execution_count": 6,
   "metadata": {},
   "outputs": [],
   "source": [
    "from cuml.neighbors import NearestNeighbors\n",
    "import numpy as np\n",
    "import torch.nn.functional as F\n",
    "\n",
    "N_NBRS=50\n",
    "CHUNK=1024 * 4\n",
    "\n",
    "\n",
    "def mk_nnmdl(feats, n_nbrs=N_NBRS):\n",
    "    nnmdl = NearestNeighbors(N_NBRS, metric=\"cosine\")\n",
    "    nnmdl.fit(feats)\n",
    "    return nnmdl\n",
    "\n",
    "def get_nbrs_from_nnmdl_rapidfeats(feats, nnmdl, sz_chunk=CHUNK):\n",
    "    n = len(feats)\n",
    "    n_nbrs = nnmdl.n_neighbors\n",
    "    dists = np.zeros((n, n_nbrs), dtype=\"float\")\n",
    "    idx = np.zeros((n, n_nbrs), dtype=\"int\")\n",
    "    n_chunks = len(feats) // sz_chunk\n",
    "    if len(feats) % sz_chunk != 0:\n",
    "        n_chunks += 1\n",
    "    for j in tqdm(range(n_chunks)):\n",
    "        a = j * sz_chunk\n",
    "        b = (j + 1) * sz_chunk\n",
    "        b = min(b, len(feats))\n",
    "        dists_, idx_ = nnmdl.kneighbors(\n",
    "            feats[\n",
    "                a:b,\n",
    "            ]\n",
    "        )\n",
    "        dists[a:b] = cupy.asnumpy(dists_)\n",
    "        idx[a:b] = cupy.asnumpy(idx_)\n",
    "    return dists, idx\n",
    "\n",
    "def get_nbrs_rapidfeats(feats, n_nbrs=N_NBRS, sz_chunk=CHUNK):\n",
    "    nnmdl = mk_nnmdl(feats, n_nbrs)\n",
    "    dists, idx = get_nbrs_from_nnmdl_rapidfeats(feats, nnmdl, sz_chunk)\n",
    "    return dists, idx "
   ]
  },
  {
   "cell_type": "markdown",
   "metadata": {},
   "source": [
    "# tfidf"
   ]
  },
  {
   "cell_type": "code",
   "execution_count": 7,
   "metadata": {},
   "outputs": [
    {
     "name": "stdout",
     "output_type": "stream",
     "text": [
      "text embeddings shape (5135, 7912)\n"
     ]
    }
   ],
   "source": [
    "import cudf, cupy\n",
    "from cuml.feature_extraction.text import TfidfVectorizer\n",
    "tfidf_model = TfidfVectorizer(stop_words='english', binary=True, max_features=25_000)\n",
    "feats_txt = tfidf_model.fit_transform(cudf.DataFrame(df).title).toarray()\n",
    "# feats_txt = cupy.asnumpy(feats_txt)\n",
    "print('text embeddings shape',feats_txt.shape)"
   ]
  },
  {
   "cell_type": "code",
   "execution_count": 8,
   "metadata": {},
   "outputs": [
    {
     "name": "stderr",
     "output_type": "stream",
     "text": [
      "100%|██████████| 2/2 [00:00<00:00,  2.62it/s]\n",
      "100%|██████████| 21/21 [00:04<00:00,  5.14it/s]"
     ]
    },
    {
     "name": "stdout",
     "output_type": "stream",
     "text": [
      "0.791, 0.60 \n"
     ]
    },
    {
     "name": "stderr",
     "output_type": "stream",
     "text": [
      "\n"
     ]
    }
   ],
   "source": [
    "feats_txt_np = cupy.asnumpy(feats_txt)\n",
    "nbrs = get_nbrs(feats_txt_np)\n",
    "res = find_best(*nbrs)\n",
    "print(f\"{res['f1_best']:.3f}, {res['thrsh_best']:.2f} \")"
   ]
  },
  {
   "cell_type": "code",
   "execution_count": 9,
   "metadata": {},
   "outputs": [
    {
     "data": {
      "image/png": "[encoded data removed]",
      "text/plain": [
       "<Figure size 216x144 with 1 Axes>"
      ]
     },
     "metadata": {
      "needs_background": "light"
     },
     "output_type": "display_data"
    }
   ],
   "source": [
    "plt.figure(figsize=(3,2))\n",
    "plt.plot(res['thrshes'], res['f1_lst'])  \n",
    "plt.show()"
   ]
  },
  {
   "cell_type": "code",
   "execution_count": 10,
   "metadata": {},
   "outputs": [],
   "source": [
    "preds_t = res['preds_best']"
   ]
  },
  {
   "cell_type": "code",
   "execution_count": 11,
   "metadata": {},
   "outputs": [
    {
     "data": {
      "text/plain": [
       "0.7907949361246561"
      ]
     },
     "execution_count": 11,
     "metadata": {},
     "output_type": "execute_result"
    }
   ],
   "source": [
    "meanf1(preds_t, targets)"
   ]
  },
  {
   "cell_type": "code",
   "execution_count": 12,
   "metadata": {},
   "outputs": [
    {
     "name": "stderr",
     "output_type": "stream",
     "text": [
      "100%|██████████| 2/2 [00:00<00:00,  5.26it/s]\n"
     ]
    }
   ],
   "source": [
    "nbrs = get_nbrs_rapidfeats(feats_txt)\n"
   ]
  },
  {
   "cell_type": "code",
   "execution_count": 13,
   "metadata": {},
   "outputs": [],
   "source": [
    "preds = get_preds_by_thrsh(*nbrs,thrsh=res['thrsh_best'])\n",
    "preds_t = preds2pids(preds, pids)\n"
   ]
  },
  {
   "cell_type": "code",
   "execution_count": 14,
   "metadata": {},
   "outputs": [
    {
     "data": {
      "text/plain": [
       "0.7907949361246561"
      ]
     },
     "execution_count": 14,
     "metadata": {},
     "output_type": "execute_result"
    }
   ],
   "source": [
    "meanf1(preds_t, targets)"
   ]
  },
  {
   "cell_type": "markdown",
   "metadata": {},
   "source": [
    "# bert"
   ]
  },
  {
   "cell_type": "code",
   "execution_count": 15,
   "metadata": {},
   "outputs": [],
   "source": [
    "import tmdl "
   ]
  },
  {
   "cell_type": "code",
   "execution_count": 16,
   "metadata": {},
   "outputs": [],
   "source": [
    "feats_bert = tmdl.mk_feats(df, nm_mdl='pvl/labse_bert')"
   ]
  },
  {
   "cell_type": "code",
   "execution_count": 17,
   "metadata": {},
   "outputs": [
    {
     "data": {
      "text/plain": [
       "(5135, 768)"
      ]
     },
     "execution_count": 17,
     "metadata": {},
     "output_type": "execute_result"
    }
   ],
   "source": [
    "feats_bert.shape"
   ]
  },
  {
   "cell_type": "code",
   "execution_count": 18,
   "metadata": {},
   "outputs": [
    {
     "name": "stderr",
     "output_type": "stream",
     "text": [
      "100%|██████████| 2/2 [00:00<00:00,  5.07it/s]\n",
      "100%|██████████| 21/21 [00:06<00:00,  3.24it/s]"
     ]
    },
    {
     "name": "stdout",
     "output_type": "stream",
     "text": [
      "0.590, 0.05 \n"
     ]
    },
    {
     "name": "stderr",
     "output_type": "stream",
     "text": [
      "\n"
     ]
    }
   ],
   "source": [
    "nbrs = get_nbrs(feats_bert)\n",
    "res = find_best(*nbrs)\n",
    "print(f\"{res['f1_best']:.3f}, {res['thrsh_best']:.2f} \")"
   ]
  },
  {
   "cell_type": "code",
   "execution_count": 19,
   "metadata": {},
   "outputs": [
    {
     "data": {
      "image/png": "[encoded data removed]",
      "text/plain": [
       "<Figure size 216x144 with 1 Axes>"
      ]
     },
     "metadata": {
      "needs_background": "light"
     },
     "output_type": "display_data"
    }
   ],
   "source": [
    "plt.figure(figsize=(3,2))\n",
    "plt.plot(res['thrshes'], res['f1_lst'])  \n",
    "plt.show()"
   ]
  },
  {
   "cell_type": "code",
   "execution_count": 20,
   "metadata": {},
   "outputs": [],
   "source": [
    "preds_bert = res['preds_best']"
   ]
  },
  {
   "cell_type": "code",
   "execution_count": 21,
   "metadata": {},
   "outputs": [
    {
     "data": {
      "text/plain": [
       "0.5897252857152057"
      ]
     },
     "execution_count": 21,
     "metadata": {},
     "output_type": "execute_result"
    }
   ],
   "source": [
    "meanf1(preds_bert, targets)"
   ]
  },
  {
   "cell_type": "code",
   "execution_count": 22,
   "metadata": {},
   "outputs": [
    {
     "name": "stderr",
     "output_type": "stream",
     "text": [
      "100%|██████████| 2/2 [00:00<00:00,  5.50it/s]\n"
     ]
    }
   ],
   "source": [
    "nbrs = get_nbrs_rapidfeats(feats_bert)\n"
   ]
  },
  {
   "cell_type": "code",
   "execution_count": 23,
   "metadata": {},
   "outputs": [],
   "source": [
    "preds = get_preds_by_thrsh(*nbrs,thrsh=res['thrsh_best'])\n",
    "preds_bert = preds2pids(preds, pids)\n"
   ]
  },
  {
   "cell_type": "code",
   "execution_count": 24,
   "metadata": {},
   "outputs": [
    {
     "data": {
      "text/plain": [
       "0.5897252857152057"
      ]
     },
     "execution_count": 24,
     "metadata": {},
     "output_type": "execute_result"
    }
   ],
   "source": [
    "meanf1(preds_bert, targets)"
   ]
  },
  {
   "cell_type": "code",
   "execution_count": null,
   "metadata": {},
   "outputs": [],
   "source": []
  },
  {
   "cell_type": "code",
   "execution_count": null,
   "metadata": {},
   "outputs": [],
   "source": []
  },
  {
   "cell_type": "markdown",
   "metadata": {},
   "source": [
    "# load model"
   ]
  },
  {
   "cell_type": "code",
   "execution_count": 25,
   "metadata": {
    "scrolled": true
   },
   "outputs": [
    {
     "name": "stdout",
     "output_type": "stream",
     "text": [
      "trn0001--b1.ipynb\r\n",
      "trn0002--b3-512.ipynb\r\n",
      "trn0003--b4-512-fp16.ipynb\r\n",
      "trn0004--use-prep002--b0--cv77--lb51.ipynb\r\n",
      "trn0005--b1--cv76--lb55.ipynb\r\n",
      "trn0005--b1--test-cosine.ipynb\r\n",
      "trn0006--b3--cv75.ipynb\r\n",
      "trn0007--b4--cv75.ipynb\r\n",
      "trn0008--b1--max-eps10--cosine--cv75--lb51-65.ipynb\r\n",
      "trn0008--b1--max-eps5--cosine--cv70.ipynb\r\n",
      "trn0009--b5-512--cv76.ipynb\r\n",
      "trn0010--b5--768--cv75.ipynb\r\n",
      "trn0011--b6--768--cv73.ipynb\r\n",
      "trn0012--b7--672--cv75.ipynb\r\n",
      "trn0013--b3--768--cv74.ipynb\r\n",
      "trn0014--b0--768--cv71.ipynb\r\n",
      "trn0015--b0--512--cv76.ipynb\r\n",
      "trn0017--b2--512--cv76.ipynb\r\n"
     ]
    }
   ],
   "source": [
    "ls trn*"
   ]
  },
  {
   "cell_type": "code",
   "execution_count": 26,
   "metadata": {},
   "outputs": [
    {
     "name": "stdout",
     "output_type": "stream",
     "text": [
      "'../output/trn0001/tensorboard_csv/0_0/checkpoints/epoch=29-step=12869.ckpt'\r\n",
      "'../output/trn0002/tensorboard_csv/2_2/checkpoints/epoch=17-step=30833.ckpt'\r\n",
      "'../output/trn0003/tensorboard_csv/5_5/checkpoints/epoch=21-step=37685.ckpt'\r\n",
      "'../output/trn0004/tensorboard_csv/2_2/checkpoints/epoch=26-step=9827.ckpt'\r\n",
      "'../output/trn0005/tensorboard_csv/0_0/checkpoints/epoch=23-step=8735.ckpt'\r\n",
      "'../output/trn0006/tensorboard_csv/0_0/checkpoints/epoch=24-step=9099.ckpt'\r\n",
      "'../output/trn0007/tensorboard_csv/0_0/checkpoints/epoch=23-step=34943.ckpt'\r\n",
      "'../output/trn0008/tensorboard_csv/0_0/checkpoints/epoch=10-step=3640.ckpt'\r\n",
      "'../output/trn0008/tensorboard_csv/1_1/checkpoints/epoch=5-step=1820.ckpt'\r\n",
      "'../output/trn0009/tensorboard_csv/1_1/checkpoints/epoch=0-step=8.ckpt'\r\n",
      "'../output/trn0009/tensorboard_csv/3_3/checkpoints/epoch=20-step=7643.ckpt'\r\n",
      "'../output/trn0010/tensorboard_csv/0_0/checkpoints/epoch=19-step=7279.ckpt'\r\n",
      "'../output/trn0011/tensorboard_csv/1_1/checkpoints/epoch=16-step=6187.ckpt'\r\n",
      "'../output/trn0012/tensorboard_csv/3_3/checkpoints/epoch=1-step=971.ckpt'\r\n",
      "'../output/trn0012/tensorboard_csv/4_4/checkpoints/epoch=0-step=264.ckpt'\r\n",
      "'../output/trn0012/tensorboard_csv/6_6/checkpoints/epoch=15-step=7775.ckpt'\r\n",
      "'../output/trn0013/tensorboard_csv/0_0/checkpoints/epoch=21-step=8007.ckpt'\r\n",
      "'../output/trn0014/tensorboard_csv/0_0/checkpoints/epoch=22-step=8371.ckpt'\r\n",
      "'../output/trn0015/tensorboard_csv/1_1/checkpoints/epoch=17-step=13103.ckpt'\r\n",
      "'../output/trn0016/tensorboard_csv/0_0/checkpoints/epoch=20-step=7643.ckpt'\r\n",
      "'../output/trn0017/tensorboard_csv/1_1/checkpoints/epoch=22-step=8371.ckpt'\r\n"
     ]
    }
   ],
   "source": [
    "ls ../output/trn*/tensorboard_csv/*/checkpoints/*.ckpt"
   ]
  },
  {
   "cell_type": "markdown",
   "metadata": {},
   "source": [
    "    trn0009--b5-512--cv76.ipynb\n",
    "    trn0011--b6--768--cv73.ipynb\n",
    "    trn0012--b7--672--cv75.ipynb\n",
    "    trn0013--b3--768--cv74.ipynb\n",
    "    trn0015--b0--512--cv76.ipynb\n",
    "\n",
    "    '../output/trn0009/tensorboard_csv/3_3/checkpoints/epoch=20-step=7643.ckpt'\n",
    "    '../output/trn0011/tensorboard_csv/1_1/checkpoints/epoch=16-step=6187.ckpt'\n",
    "    '../output/trn0012/tensorboard_csv/6_6/checkpoints/epoch=15-step=7775.ckpt'\n",
    "    '../output/trn0013/tensorboard_csv/0_0/checkpoints/epoch=21-step=8007.ckpt'\n",
    "    '../output/trn0015/tensorboard_csv/1_1/checkpoints/epoch=17-step=13103.ckpt'"
   ]
  },
  {
   "cell_type": "code",
   "execution_count": 27,
   "metadata": {},
   "outputs": [],
   "source": [
    "prfxs =  [\"trn0009\",\"trn0011\",\"trn0013\",\"trn0015\"] \n",
    "imgszes = [    512,     768,       768,     512]\n",
    "bss     = [     32,      16,        32,      32]\n",
    "enet_types=[\n",
    "    \"tf_efficientnet_b5_ns\", \n",
    "    \"tf_efficientnet_b6_ns\", \n",
    "    \"tf_efficientnet_b3_ns\",\n",
    "    \"tf_efficientnet_b0_ns\",\n",
    "   ]\n",
    "ckpts = [\n",
    "    '3_3/checkpoints/epoch=20-step=7643.ckpt',\n",
    "    '1_1/checkpoints/epoch=16-step=6187.ckpt',\n",
    "    '0_0/checkpoints/epoch=21-step=8007.ckpt',\n",
    "    '1_1/checkpoints/epoch=17-step=13103.ckpt',\n",
    "]\n"
   ]
  },
  {
   "cell_type": "code",
   "execution_count": 28,
   "metadata": {},
   "outputs": [
    {
     "name": "stderr",
     "output_type": "stream",
     "text": [
      "100%|██████████| 161/161 [00:46<00:00,  3.49it/s]\n",
      "100%|██████████| 321/321 [02:19<00:00,  2.29it/s]\n",
      "100%|██████████| 161/161 [01:04<00:00,  2.50it/s]\n",
      "100%|██████████| 161/161 [00:36<00:00,  4.37it/s]\n"
     ]
    }
   ],
   "source": [
    "device = torch.device('cuda')\n",
    "featss = []\n",
    "for imdl in range(len(prfxs)):\n",
    "    prfx = prfxs[imdl]\n",
    "    imgsz = imgszes[imdl]\n",
    "    enet_type = enet_types[imdl]\n",
    "    ckpt = ckpts[imdl]\n",
    "    bs = bss[imdl]\n",
    "    shpmodel = ShpModel.load_from_checkpoint(f'{HOME}/output/{prfx}/tensorboard_csv/{ckpt}')\n",
    "    out_dim = shpmodel.num_classes\n",
    "    \n",
    "    \n",
    "    model = enet_arcface_FINAL(enet_type, out_dim=out_dim)\n",
    "    model = load_model(model, shpmodel)\n",
    "    model = model.to(device)\n",
    "    \n",
    "    \n",
    "    \n",
    "    tfms_trn, tfms_val = get_transforms(imgsz)\n",
    "    ds = ShopeeDataset(df, mode=\"test\", transform=tfms_val)\n",
    "    dl = DataLoader(ds,\n",
    "                batch_size=bs,\n",
    "                num_workers=8,\n",
    "                pin_memory=True,\n",
    "            )\n",
    "\n",
    "    feats = np.zeros((len(ds), 512))\n",
    "    i = 0\n",
    "    for dat in tqdm(dl):\n",
    "        with torch.no_grad():\n",
    "            dat = dat.to(device)\n",
    "            feat,_ = model(dat)\n",
    "            l = len(feat)\n",
    "            feats[i : i + l, :] = feat.cpu().detach().numpy()\n",
    "            i += l\n",
    "            \n",
    "    featss.append(feats)\n",
    "    "
   ]
  },
  {
   "cell_type": "code",
   "execution_count": 29,
   "metadata": {},
   "outputs": [
    {
     "data": {
      "text/plain": [
       "4"
      ]
     },
     "execution_count": 29,
     "metadata": {},
     "output_type": "execute_result"
    }
   ],
   "source": [
    "len(featss)"
   ]
  },
  {
   "cell_type": "markdown",
   "metadata": {},
   "source": [
    "# inference"
   ]
  },
  {
   "cell_type": "code",
   "execution_count": 61,
   "metadata": {},
   "outputs": [],
   "source": [
    "feats_conc = np.concatenate(featss, 1)\n",
    "\n",
    "feats_conc = F.normalize(torch.tensor(feats_conc))\n",
    "feats_conc = feats_conc.numpy()"
   ]
  },
  {
   "cell_type": "code",
   "execution_count": 62,
   "metadata": {},
   "outputs": [
    {
     "data": {
      "text/plain": [
       "(5135, 2048)"
      ]
     },
     "execution_count": 62,
     "metadata": {},
     "output_type": "execute_result"
    }
   ],
   "source": [
    "feats_conc.shape"
   ]
  },
  {
   "cell_type": "code",
   "execution_count": 48,
   "metadata": {},
   "outputs": [
    {
     "name": "stderr",
     "output_type": "stream",
     "text": [
      "100%|██████████| 2/2 [00:00<00:00,  4.62it/s]\n"
     ]
    }
   ],
   "source": [
    "nbrs = get_nbrs(feats_conc)"
   ]
  },
  {
   "cell_type": "code",
   "execution_count": 49,
   "metadata": {},
   "outputs": [
    {
     "name": "stderr",
     "output_type": "stream",
     "text": [
      "100%|██████████| 21/21 [00:04<00:00,  4.62it/s]"
     ]
    },
    {
     "name": "stdout",
     "output_type": "stream",
     "text": [
      "0.773, 0.55 \n"
     ]
    },
    {
     "name": "stderr",
     "output_type": "stream",
     "text": [
      "\n"
     ]
    }
   ],
   "source": [
    "dists, idx = nbrs\n",
    "res = find_best(dists, idx)\n",
    "print(f\"{res['f1_best']:.3f}, {res['thrsh_best']:.2f} \")"
   ]
  },
  {
   "cell_type": "code",
   "execution_count": 50,
   "metadata": {
    "scrolled": false
   },
   "outputs": [
    {
     "data": {
      "image/png": "[encoded data removed]",
      "text/plain": [
       "<Figure size 216x144 with 1 Axes>"
      ]
     },
     "metadata": {
      "needs_background": "light"
     },
     "output_type": "display_data"
    }
   ],
   "source": [
    "plt.figure(figsize=(3,2))\n",
    "plt.plot(res['thrshes'], res['f1_lst'])  \n",
    "plt.show()"
   ]
  },
  {
   "cell_type": "code",
   "execution_count": 51,
   "metadata": {},
   "outputs": [],
   "source": [
    "preds_v = res['preds_best']"
   ]
  },
  {
   "cell_type": "code",
   "execution_count": 52,
   "metadata": {
    "scrolled": true
   },
   "outputs": [
    {
     "data": {
      "text/plain": [
       "0.7728112007632723"
      ]
     },
     "execution_count": 52,
     "metadata": {},
     "output_type": "execute_result"
    }
   ],
   "source": [
    "meanf1(preds_v, targets)"
   ]
  },
  {
   "cell_type": "code",
   "execution_count": 53,
   "metadata": {},
   "outputs": [
    {
     "data": {
      "text/plain": [
       "[array(['train_1802986387'], dtype=object),\n",
       " array(['train_1806152124'], dtype=object),\n",
       " array(['train_3009013664', 'train_3448377589'], dtype=object),\n",
       " array(['train_2985955659', 'train_4156734436', 'train_3916258742'],\n",
       "       dtype=object),\n",
       " array(['train_2238403912', 'train_2095062361', 'train_2783619727'],\n",
       "       dtype=object),\n",
       " array(['train_1180155871'], dtype=object),\n",
       " array(['train_3466601092', 'train_354147588'], dtype=object),\n",
       " array(['train_3117535609', 'train_1572286671', 'train_3219773229'],\n",
       "       dtype=object),\n",
       " array(['train_3117535609', 'train_1572286671', 'train_3219773229'],\n",
       "       dtype=object),\n",
       " array(['train_1617041019'], dtype=object),\n",
       " array(['train_3697474443', 'train_942029375', 'train_2003670906'],\n",
       "       dtype=object),\n",
       " array(['train_3350934785', 'train_1675185549'], dtype=object),\n",
       " array(['train_363659042', 'train_4224125539', 'train_3155443042'],\n",
       "       dtype=object),\n",
       " array(['train_3122040273', 'train_1665497995'], dtype=object),\n",
       " array(['train_3286978516', 'train_1952487763', 'train_782197349'],\n",
       "       dtype=object),\n",
       " array(['train_472067494', 'train_888029874', 'train_464408383',\n",
       "        'train_1931459725', 'train_857065549'], dtype=object),\n",
       " array(['train_951314265', 'train_3670675399', 'train_3077906598',\n",
       "        'train_1089344950'], dtype=object),\n",
       " array(['train_3377123715', 'train_2020558642', 'train_3842961736'],\n",
       "       dtype=object),\n",
       " array(['train_3139371939', 'train_1113037282', 'train_4266532350',\n",
       "        'train_1860958866', 'train_2789459959', 'train_1820535872',\n",
       "        'train_3661528111'], dtype=object),\n",
       " array(['train_37143550', 'train_3382714342', 'train_3441737294',\n",
       "        'train_2102271992'], dtype=object),\n",
       " array(['train_3357525517', 'train_3052730201', 'train_2639020717',\n",
       "        'train_961126248'], dtype=object),\n",
       " array(['train_1920364021', 'train_4267778918'], dtype=object),\n",
       " array(['train_531698853', 'train_1852990179', 'train_1259794269',\n",
       "        'train_3714087359', 'train_1147852158', 'train_2377133116',\n",
       "        'train_1946384638'], dtype=object),\n",
       " array(['train_3223029042', 'train_2645427269', 'train_1164430959',\n",
       "        'train_1458393851', 'train_1890569721', 'train_3459133705',\n",
       "        'train_2882829868', 'train_2475193119', 'train_115217781',\n",
       "        'train_320344199', 'train_3867166155'], dtype=object),\n",
       " array(['train_1360448474', 'train_144719847', 'train_3022383025',\n",
       "        'train_2846869413'], dtype=object),\n",
       " array(['train_4097891374', 'train_3412800226', 'train_1830381225',\n",
       "        'train_3254145872', 'train_3460109157'], dtype=object),\n",
       " array(['train_1553293204'], dtype=object),\n",
       " array(['train_249911810', 'train_4069725017'], dtype=object),\n",
       " array(['train_199884151', 'train_858363172', 'train_3859888400',\n",
       "        'train_2744756938', 'train_1019963663'], dtype=object),\n",
       " array(['train_2145162288', 'train_2443391791', 'train_2400182515',\n",
       "        'train_662677408'], dtype=object)]"
      ]
     },
     "execution_count": 53,
     "metadata": {},
     "output_type": "execute_result"
    }
   ],
   "source": [
    "preds_v[:30]"
   ]
  },
  {
   "cell_type": "markdown",
   "metadata": {},
   "source": [
    "# hsh"
   ]
  },
  {
   "cell_type": "code",
   "execution_count": 54,
   "metadata": {},
   "outputs": [],
   "source": [
    "def get_preds_pids_h(df):\n",
    "    hsh2ids = df.groupby(\"image_phash\").posting_id.agg(\"unique\").to_dict()\n",
    "    preds_h = df.image_phash.map(hsh2ids)\n",
    "    return preds_h"
   ]
  },
  {
   "cell_type": "code",
   "execution_count": 55,
   "metadata": {},
   "outputs": [],
   "source": [
    "preds_h = get_preds_pids_h(df)"
   ]
  },
  {
   "cell_type": "code",
   "execution_count": 56,
   "metadata": {},
   "outputs": [
    {
     "data": {
      "text/plain": [
       "0.5415179652897422"
      ]
     },
     "execution_count": 56,
     "metadata": {},
     "output_type": "execute_result"
    }
   ],
   "source": [
    "meanf1(preds_h, targets)"
   ]
  },
  {
   "cell_type": "markdown",
   "metadata": {},
   "source": [
    "# combine"
   ]
  },
  {
   "cell_type": "code",
   "execution_count": 57,
   "metadata": {},
   "outputs": [
    {
     "data": {
      "text/plain": [
       "0.8312403531130417"
      ]
     },
     "execution_count": 57,
     "metadata": {},
     "output_type": "execute_result"
    }
   ],
   "source": [
    "preds_comb = list(comb_preds(preds_v, preds_t))\n",
    "\n",
    "meanf1(preds_comb, targets)"
   ]
  },
  {
   "cell_type": "code",
   "execution_count": 58,
   "metadata": {},
   "outputs": [
    {
     "data": {
      "text/plain": [
       "[array(['train_1396161074', 'train_1802986387', 'train_2490201622'],\n",
       "       dtype=object),\n",
       " array(['train_1806152124'], dtype=object),\n",
       " array(['train_1248209230', 'train_2047191940', 'train_236461645',\n",
       "        'train_3009013664', 'train_3448377589', 'train_599478601'],\n",
       "       dtype=object),\n",
       " array(['train_1981120792', 'train_2985955659', 'train_3916258742',\n",
       "        'train_4156734436'], dtype=object),\n",
       " array(['train_2095062361', 'train_2238403912', 'train_2254345921',\n",
       "        'train_2783619727'], dtype=object),\n",
       " array(['train_1180155871', 'train_3269870940'], dtype=object),\n",
       " array(['train_1740344938', 'train_3466601092', 'train_354147588'],\n",
       "       dtype=object),\n",
       " array(['train_1572286671', 'train_3117535609', 'train_3219773229'],\n",
       "       dtype=object),\n",
       " array(['train_1572286671', 'train_3117535609', 'train_3219773229'],\n",
       "       dtype=object),\n",
       " array(['train_1617041019', 'train_2772927896'], dtype=object),\n",
       " array(['train_2003670906', 'train_3697474443', 'train_942029375'],\n",
       "       dtype=object),\n",
       " array(['train_1675185549', 'train_3350934785'], dtype=object),\n",
       " array(['train_3155443042', 'train_363659042', 'train_4224125539'],\n",
       "       dtype=object),\n",
       " array(['train_1665497995', 'train_3122040273'], dtype=object),\n",
       " array(['train_1952487763', 'train_3286978516', 'train_782197349'],\n",
       "       dtype=object),\n",
       " array(['train_1931459725', 'train_2270631553', 'train_2986947203',\n",
       "        'train_464408383', 'train_472067494', 'train_857065549',\n",
       "        'train_888029874'], dtype=object),\n",
       " array(['train_1089344950', 'train_3077906598', 'train_3670675399',\n",
       "        'train_951314265'], dtype=object),\n",
       " array(['train_2020558642', 'train_3377123715', 'train_3842961736'],\n",
       "       dtype=object),\n",
       " array(['train_1113037282', 'train_1820535872', 'train_1860958866',\n",
       "        'train_2789459959', 'train_3139371939', 'train_3661528111',\n",
       "        'train_4266532350'], dtype=object),\n",
       " array(['train_1357739170', 'train_157059612', 'train_1775427584',\n",
       "        'train_1874494631', 'train_1905898995', 'train_1944956984',\n",
       "        'train_2102271992', 'train_2200661537', 'train_2326532166',\n",
       "        'train_2494367387', 'train_3254405700', 'train_3382714342',\n",
       "        'train_3441737294', 'train_353877543', 'train_37143550',\n",
       "        'train_4103350755', 'train_513102842', 'train_90356826'],\n",
       "       dtype=object),\n",
       " array(['train_2639020717', 'train_3052730201', 'train_3357525517',\n",
       "        'train_961126248'], dtype=object),\n",
       " array(['train_1920364021', 'train_2056399053', 'train_4267778918'],\n",
       "       dtype=object),\n",
       " array(['train_1147852158', 'train_1259794269', 'train_1852990179',\n",
       "        'train_1946384638', 'train_2377133116', 'train_3714087359',\n",
       "        'train_531698853'], dtype=object),\n",
       " array(['train_115217781', 'train_1164430959', 'train_1458393851',\n",
       "        'train_1870943913', 'train_1890569721', 'train_2475193119',\n",
       "        'train_2645427269', 'train_2882829868', 'train_320344199',\n",
       "        'train_3223029042', 'train_3459133705', 'train_3630367129',\n",
       "        'train_3725815927', 'train_3867166155', 'train_531287731',\n",
       "        'train_916885828'], dtype=object),\n",
       " array(['train_1360448474', 'train_144719847', 'train_1799985616',\n",
       "        'train_2846869413', 'train_3022383025'], dtype=object),\n",
       " array(['train_1830381225', 'train_3254145872', 'train_3412800226',\n",
       "        'train_3460109157', 'train_4097891374'], dtype=object),\n",
       " array(['train_1553293204'], dtype=object),\n",
       " array(['train_249911810', 'train_3722285029', 'train_4069725017'],\n",
       "       dtype=object),\n",
       " array(['train_1019963663', 'train_199884151', 'train_2744756938',\n",
       "        'train_3859888400', 'train_858363172'], dtype=object),\n",
       " array(['train_2145162288', 'train_2400182515', 'train_2443391791',\n",
       "        'train_3130194332', 'train_662677408'], dtype=object)]"
      ]
     },
     "execution_count": 58,
     "metadata": {},
     "output_type": "execute_result"
    }
   ],
   "source": [
    "preds_comb[:30]"
   ]
  },
  {
   "cell_type": "code",
   "execution_count": 59,
   "metadata": {},
   "outputs": [
    {
     "data": {
      "text/plain": [
       "0.8311514398536514"
      ]
     },
     "execution_count": 59,
     "metadata": {},
     "output_type": "execute_result"
    }
   ],
   "source": [
    "preds_comb = comb_preds(preds_v, preds_t, preds_h)\n",
    "\n",
    "meanf1(preds_comb, targets)"
   ]
  },
  {
   "cell_type": "raw",
   "metadata": {},
   "source": [
    "preds_comb = comb_preds(preds_v, preds_h)\n",
    "\n",
    "meanf1(preds_comb, targets)"
   ]
  },
  {
   "cell_type": "markdown",
   "metadata": {},
   "source": [
    "# fin"
   ]
  },
  {
   "cell_type": "code",
   "execution_count": 60,
   "metadata": {},
   "outputs": [
    {
     "name": "stdout",
     "output_type": "stream",
     "text": [
      "Sat Apr 17 17:49:17 2021       \r\n",
      "+-----------------------------------------------------------------------------+\r\n",
      "| NVIDIA-SMI 440.59       Driver Version: 440.59       CUDA Version: 10.2     |\r\n",
      "|-------------------------------+----------------------+----------------------+\r\n",
      "| GPU  Name        Persistence-M| Bus-Id        Disp.A | Volatile Uncorr. ECC |\r\n",
      "| Fan  Temp  Perf  Pwr:Usage/Cap|         Memory-Usage | GPU-Util  Compute M. |\r\n",
      "|===============================+======================+======================|\r\n",
      "|   0  Tesla V100-SXM2...  Off  | 00000000:00:1E.0 Off |                    0 |\r\n",
      "| N/A   36C    P0    37W / 300W |  13016MiB / 16160MiB |      0%      Default |\r\n",
      "+-------------------------------+----------------------+----------------------+\r\n",
      "                                                                               \r\n",
      "+-----------------------------------------------------------------------------+\r\n",
      "| Processes:                                                       GPU Memory |\r\n",
      "|  GPU       PID   Type   Process name                             Usage      |\r\n",
      "|=============================================================================|\r\n",
      "|    0     21664      C   /data/anaconda3/envs/shopee/bin/python     12993MiB |\r\n",
      "+-----------------------------------------------------------------------------+\r\n"
     ]
    }
   ],
   "source": [
    "!nvidia-smi"
   ]
  },
  {
   "cell_type": "code",
   "execution_count": null,
   "metadata": {},
   "outputs": [],
   "source": []
  },
  {
   "cell_type": "code",
   "execution_count": null,
   "metadata": {},
   "outputs": [],
   "source": []
  },
  {
   "cell_type": "code",
   "execution_count": null,
   "metadata": {},
   "outputs": [],
   "source": []
  }
 ],
 "metadata": {
  "kernelspec": {
   "display_name": "shopee",
   "language": "python",
   "name": "shopee"
  },
  "language_info": {
   "codemirror_mode": {
    "name": "ipython",
    "version": 3
   },
   "file_extension": ".py",
   "mimetype": "text/x-python",
   "name": "python",
   "nbconvert_exporter": "python",
   "pygments_lexer": "ipython3",
   "version": "3.7.10"
  },
  "toc": {
   "base_numbering": 1,
   "nav_menu": {},
   "number_sections": true,
   "sideBar": true,
   "skip_h1_title": false,
   "title_cell": "Table of Contents",
   "title_sidebar": "Contents",
   "toc_cell": false,
   "toc_position": {},
   "toc_section_display": true,
   "toc_window_display": true
  }
 },
 "nbformat": 4,
 "nbformat_minor": 4
}
