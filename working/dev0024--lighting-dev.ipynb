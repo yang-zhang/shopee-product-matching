{
 "cells": [
  {
   "cell_type": "code",
   "execution_count": 1,
   "metadata": {},
   "outputs": [
    {
     "name": "stdout",
     "output_type": "stream",
     "text": [
      "Modules to reload:\n",
      "all-except-skipped\n",
      "\n",
      "Modules to skip:\n",
      "\n",
      "Mon Mar 29 01:25:48 2021       \r\n",
      "+-----------------------------------------------------------------------------+\r\n",
      "| NVIDIA-SMI 440.100      Driver Version: 440.100      CUDA Version: 10.2     |\r\n",
      "|-------------------------------+----------------------+----------------------+\r\n",
      "| GPU  Name        Persistence-M| Bus-Id        Disp.A | Volatile Uncorr. ECC |\r\n",
      "| Fan  Temp  Perf  Pwr:Usage/Cap|         Memory-Usage | GPU-Util  Compute M. |\r\n",
      "|===============================+======================+======================|\r\n",
      "|   0  Tesla V100-SXM2...  Off  | 00000000:00:1E.0 Off |                    0 |\r\n",
      "| N/A   58C    P0   224W / 300W |   8582MiB / 16160MiB |     71%      Default |\r\n",
      "+-------------------------------+----------------------+----------------------+\r\n",
      "                                                                               \r\n",
      "+-----------------------------------------------------------------------------+\r\n",
      "| Processes:                                                       GPU Memory |\r\n",
      "|  GPU       PID   Type   Process name                             Usage      |\r\n",
      "|=============================================================================|\r\n",
      "|    0     21036      C   /data/anaconda3/envs/Catology/bin/python    8571MiB |\r\n",
      "+-----------------------------------------------------------------------------+\r\n"
     ]
    }
   ],
   "source": [
    "%load_ext autoreload\n",
    "%autoreload 2\n",
    "%aimport\n",
    "\n",
    "!nvidia-smi"
   ]
  },
  {
   "cell_type": "markdown",
   "metadata": {},
   "source": [
    "- https://github.com/haqishen/Google-Landmark-Recognition-2020-3rd-Place-Solution\n",
    "- https://www.kaggle.com/zzy990106/b0-bert-cv0-9\n",
    "- https://github.com/yang-zhang/product_category/blob/dev/notebooks/transformer_20210307E1--pin_memory.ipynb"
   ]
  },
  {
   "cell_type": "code",
   "execution_count": 2,
   "metadata": {},
   "outputs": [],
   "source": [
    "HOME = \"/data/git/shopee-product-matching\"\n",
    "p_out = f'{HOME}/output/dev0024'\n",
    "!mkdir -p {p_out}\n",
    "p_prp = f'{HOME}/output/prep001/train_prep.csv'\n",
    "\n",
    "FOLD = 0\n",
    "\n",
    "\n",
    "import sys\n",
    "sys.path.append(f\"{HOME}/src\")\n",
    "\n",
    "import pandas as pd\n",
    "from argparse import ArgumentParser\n",
    "import pytorch_lightning as pl\n",
    "from pytorch_lightning.callbacks.early_stopping import EarlyStopping\n",
    "from pl_model import ShpModel, ShpDataModule\n",
    "import os\n",
    "\n",
    "os.environ[\"TOKENIZERS_PARALLELISM\"] = \"false\""
   ]
  },
  {
   "cell_type": "code",
   "execution_count": 3,
   "metadata": {},
   "outputs": [],
   "source": [
    "parser = ArgumentParser()\n",
    "parser.add_argument(\n",
    "    \"--train_batch_size\",\n",
    "    help=\"How many samples per batch to load for train dataloader.\",\n",
    "    type=int,\n",
    "    default=8,\n",
    ")\n",
    "parser.add_argument(\n",
    "    \"--val_batch_size\",\n",
    "    help=\"How many samples per batch to load for validation dataloader.\",\n",
    "    type=int,\n",
    "    default=16,\n",
    ")\n",
    "parser.add_argument(\n",
    "    \"--dataloader_num_workers\",\n",
    "    help=\"How many subprocesses to use for data loading. 0 means that the data will be loaded in the main process.\",\n",
    "    type=int,\n",
    "    default=8,\n",
    ")\n",
    "parser.add_argument(\n",
    "    \"--pin_memory\",\n",
    "    help=\"Wether to use pin_memory in pytorch dataloader. If True, the data loader will copy Tensors into CUDA pinned memory before returning them.\",\n",
    "    action=\"store_true\",\n",
    ")\n",
    "\n",
    "parser = pl.Trainer.add_argparse_args(parser)\n",
    "parser = ShpModel.add_model_specific_args(parser)\n",
    "args_list = [\n",
    "    '--default_root_dir', p_out,\n",
    "    '--kernel-type', 'nest101_DDP_final_256_300w_f4_10ep_3e-5',\n",
    "    '--enet-type', 'nest101',\n",
    "\n",
    "]\n",
    "\n",
    "args = parser.parse_args(args_list)"
   ]
  },
  {
   "cell_type": "code",
   "execution_count": 4,
   "metadata": {},
   "outputs": [
    {
     "data": {
      "text/html": [
       "<div>\n",
       "<style scoped>\n",
       "    .dataframe tbody tr th:only-of-type {\n",
       "        vertical-align: middle;\n",
       "    }\n",
       "\n",
       "    .dataframe tbody tr th {\n",
       "        vertical-align: top;\n",
       "    }\n",
       "\n",
       "    .dataframe thead th {\n",
       "        text-align: right;\n",
       "    }\n",
       "</style>\n",
       "<table border=\"1\" class=\"dataframe\">\n",
       "  <thead>\n",
       "    <tr style=\"text-align: right;\">\n",
       "      <th></th>\n",
       "      <th>posting_id</th>\n",
       "      <th>image</th>\n",
       "      <th>image_phash</th>\n",
       "      <th>title</th>\n",
       "      <th>label_group</th>\n",
       "      <th>fold</th>\n",
       "      <th>filepath</th>\n",
       "    </tr>\n",
       "  </thead>\n",
       "  <tbody>\n",
       "    <tr>\n",
       "      <th>0</th>\n",
       "      <td>train_129225211</td>\n",
       "      <td>0000a68812bc7e98c42888dfb1c07da0.jpg</td>\n",
       "      <td>94974f937d4c2433</td>\n",
       "      <td>Paper Bag Victoria Secret</td>\n",
       "      <td>249114794</td>\n",
       "      <td>0</td>\n",
       "      <td>/data/git/shopee-product-matching/input/shopee...</td>\n",
       "    </tr>\n",
       "    <tr>\n",
       "      <th>1</th>\n",
       "      <td>train_3386243561</td>\n",
       "      <td>00039780dfc94d01db8676fe789ecd05.jpg</td>\n",
       "      <td>af3f9460c2838f0f</td>\n",
       "      <td>Double Tape 3M VHB 12 mm x 4,5 m ORIGINAL / DO...</td>\n",
       "      <td>2937985045</td>\n",
       "      <td>2</td>\n",
       "      <td>/data/git/shopee-product-matching/input/shopee...</td>\n",
       "    </tr>\n",
       "    <tr>\n",
       "      <th>2</th>\n",
       "      <td>train_2288590299</td>\n",
       "      <td>000a190fdd715a2a36faed16e2c65df7.jpg</td>\n",
       "      <td>b94cb00ed3e50f78</td>\n",
       "      <td>Maling TTS Canned Pork Luncheon Meat 397 gr</td>\n",
       "      <td>2395904891</td>\n",
       "      <td>0</td>\n",
       "      <td>/data/git/shopee-product-matching/input/shopee...</td>\n",
       "    </tr>\n",
       "  </tbody>\n",
       "</table>\n",
       "</div>"
      ],
      "text/plain": [
       "         posting_id                                 image       image_phash  \\\n",
       "0   train_129225211  0000a68812bc7e98c42888dfb1c07da0.jpg  94974f937d4c2433   \n",
       "1  train_3386243561  00039780dfc94d01db8676fe789ecd05.jpg  af3f9460c2838f0f   \n",
       "2  train_2288590299  000a190fdd715a2a36faed16e2c65df7.jpg  b94cb00ed3e50f78   \n",
       "\n",
       "                                               title  label_group  fold  \\\n",
       "0                          Paper Bag Victoria Secret    249114794     0   \n",
       "1  Double Tape 3M VHB 12 mm x 4,5 m ORIGINAL / DO...   2937985045     2   \n",
       "2        Maling TTS Canned Pork Luncheon Meat 397 gr   2395904891     0   \n",
       "\n",
       "                                            filepath  \n",
       "0  /data/git/shopee-product-matching/input/shopee...  \n",
       "1  /data/git/shopee-product-matching/input/shopee...  \n",
       "2  /data/git/shopee-product-matching/input/shopee...  "
      ]
     },
     "metadata": {},
     "output_type": "display_data"
    }
   ],
   "source": [
    "df = pd.read_csv(p_prp)\n",
    "display(df.head(3))\n",
    "dftrn = df[df.fold!=FOLD].copy()\n",
    "dfval = df[df.fold==FOLD].copy()\n",
    "dftrn.shape, dfval.shape\n",
    "\n",
    "data_module = ShpDataModule(\n",
    "    dftrn=dftrn,\n",
    "    dfval=dfval,\n",
    "    train_batch_size=args.train_batch_size,\n",
    "    val_batch_size=args.val_batch_size,\n",
    "    pin_memory=args.pin_memory,    \n",
    "    \n",
    ")"
   ]
  },
  {
   "cell_type": "code",
   "execution_count": 5,
   "metadata": {},
   "outputs": [
    {
     "data": {
      "text/plain": [
       "11014"
      ]
     },
     "execution_count": 5,
     "metadata": {},
     "output_type": "execute_result"
    }
   ],
   "source": [
    "data_module.setup()\n",
    "data_module.num_classes"
   ]
  },
  {
   "cell_type": "code",
   "execution_count": 6,
   "metadata": {
    "scrolled": true
   },
   "outputs": [],
   "source": [
    "shpmodel = ShpModel(\n",
    "    kernel_type=args.kernel_type,\n",
    "    enet_type=args.enet_type,\n",
    "    learning_rate=args.learning_rate,\n",
    "    num_classes=data_module.num_classes,\n",
    "    margins=data_module.margins,\n",
    ")"
   ]
  },
  {
   "cell_type": "code",
   "execution_count": 7,
   "metadata": {
    "scrolled": true
   },
   "outputs": [
    {
     "data": {
      "text/plain": [
       "torch.Size([8, 512])"
      ]
     },
     "execution_count": 7,
     "metadata": {},
     "output_type": "execute_result"
    }
   ],
   "source": [
    "dl = data_module.train_dataloader()\n",
    "for dat in dl:\n",
    "    dat\n",
    "    break\n",
    "feat = shpmodel(dat[0])\n",
    "feat.shape"
   ]
  },
  {
   "cell_type": "code",
   "execution_count": 8,
   "metadata": {},
   "outputs": [
    {
     "name": "stderr",
     "output_type": "stream",
     "text": [
      "GPU available: True, used: False\n",
      "TPU available: None, using: 0 TPU cores\n",
      "/data/anaconda3/envs/shopee/lib/python3.7/site-packages/pytorch_lightning/utilities/distributed.py:51: UserWarning: GPU available but not used. Set the --gpus flag when calling the script.\n",
      "  warnings.warn(*args, **kwargs)\n"
     ]
    }
   ],
   "source": [
    "from pytorch_lightning.callbacks.early_stopping import EarlyStopping\n",
    "from pytorch_lightning.loggers import CSVLogger, TensorBoardLogger\n",
    "\n",
    "csv_logger = CSVLogger(p_out, name='csv')\n",
    "tb_logger = TensorBoardLogger(p_out, name='tensorboard')\n",
    "\n",
    "trainer = pl.Trainer.from_argparse_args(args, \n",
    "                                        limit_train_batches=100, limit_val_batches=20, \n",
    "#                                         fast_dev_run=True,\n",
    "                                        max_epochs=3,\n",
    "                                        callbacks=[EarlyStopping(monitor='valid_loss')],\n",
    "                                        stochastic_weight_avg=True,\n",
    "                                        log_gpu_memory=True, \n",
    "#                                         gpus=1,\n",
    "                                        logger=[tb_logger,csv_logger],\n",
    "                                       )"
   ]
  },
  {
   "cell_type": "code",
   "execution_count": 9,
   "metadata": {
    "scrolled": false
   },
   "outputs": [
    {
     "name": "stderr",
     "output_type": "stream",
     "text": [
      "Global seed set to 1234\n",
      "\n",
      "  | Name     | Type                      | Params\n",
      "-------------------------------------------------------\n",
      "0 | model    | ResNest101_Landmark       | 64.2 M\n",
      "1 | arc      | ArcFaceLossAdaptiveMargin | 0     \n",
      "2 | accuracy | Accuracy                  | 0     \n",
      "-------------------------------------------------------\n",
      "64.2 M    Trainable params\n",
      "0         Non-trainable params\n",
      "64.2 M    Total params\n",
      "256.770   Total estimated model params size (MB)\n"
     ]
    },
    {
     "data": {
      "application/vnd.jupyter.widget-view+json": {
       "model_id": "",
       "version_major": 2,
       "version_minor": 0
      },
      "text/plain": [
       "Validation sanity check: 0it [00:00, ?it/s]"
      ]
     },
     "metadata": {},
     "output_type": "display_data"
    },
    {
     "name": "stderr",
     "output_type": "stream",
     "text": [
      "/data/anaconda3/envs/shopee/lib/python3.7/site-packages/pytorch_lightning/core/step_result.py:148: UserWarning: To copy construct from a tensor, it is recommended to use sourceTensor.clone().detach() or sourceTensor.clone().detach().requires_grad_(True), rather than torch.tensor(sourceTensor).\n",
      "  value = torch.tensor(value, device=device, dtype=torch.float)\n"
     ]
    },
    {
     "data": {
      "application/vnd.jupyter.widget-view+json": {
       "model_id": "b75e87c5475048c48011b58ffb7e49fd",
       "version_major": 2,
       "version_minor": 0
      },
      "text/plain": [
       "Training: 0it [00:00, ?it/s]"
      ]
     },
     "metadata": {},
     "output_type": "display_data"
    },
    {
     "data": {
      "application/vnd.jupyter.widget-view+json": {
       "model_id": "",
       "version_major": 2,
       "version_minor": 0
      },
      "text/plain": [
       "Validating: 0it [00:00, ?it/s]"
      ]
     },
     "metadata": {},
     "output_type": "display_data"
    },
    {
     "data": {
      "application/vnd.jupyter.widget-view+json": {
       "model_id": "",
       "version_major": 2,
       "version_minor": 0
      },
      "text/plain": [
       "Validating: 0it [00:00, ?it/s]"
      ]
     },
     "metadata": {},
     "output_type": "display_data"
    },
    {
     "data": {
      "application/vnd.jupyter.widget-view+json": {
       "model_id": "",
       "version_major": 2,
       "version_minor": 0
      },
      "text/plain": [
       "Validating: 0it [00:00, ?it/s]"
      ]
     },
     "metadata": {},
     "output_type": "display_data"
    },
    {
     "data": {
      "application/vnd.jupyter.widget-view+json": {
       "model_id": "",
       "version_major": 2,
       "version_minor": 0
      },
      "text/plain": [
       "Validating: 0it [00:00, ?it/s]"
      ]
     },
     "metadata": {},
     "output_type": "display_data"
    },
    {
     "data": {
      "text/plain": [
       "1"
      ]
     },
     "execution_count": 9,
     "metadata": {},
     "output_type": "execute_result"
    }
   ],
   "source": [
    "pl.seed_everything(1234)\n",
    "trainer.fit(shpmodel, data_module)"
   ]
  },
  {
   "cell_type": "code",
   "execution_count": 10,
   "metadata": {},
   "outputs": [
    {
     "name": "stdout",
     "output_type": "stream",
     "text": [
      "/data/git/shopee-product-matching/output/dev0024/\r\n",
      "/data/git/shopee-product-matching/output/dev0024/tensorboard_csv\r\n",
      "/data/git/shopee-product-matching/output/dev0024/tensorboard_csv/8_8\r\n",
      "/data/git/shopee-product-matching/output/dev0024/tensorboard_csv/8_8/checkpoints\r\n",
      "/data/git/shopee-product-matching/output/dev0024/tensorboard_csv/8_8/checkpoints/epoch=3-step=300.ckpt\r\n",
      "/data/git/shopee-product-matching/output/dev0024/csv\r\n",
      "/data/git/shopee-product-matching/output/dev0024/csv/version_8\r\n",
      "/data/git/shopee-product-matching/output/dev0024/csv/version_8/metrics.csv\r\n",
      "/data/git/shopee-product-matching/output/dev0024/csv/version_8/hparams.yaml\r\n",
      "/data/git/shopee-product-matching/output/dev0024/csv/version_1\r\n",
      "/data/git/shopee-product-matching/output/dev0024/csv/version_1/metrics.csv\r\n",
      "/data/git/shopee-product-matching/output/dev0024/csv/version_1/hparams.yaml\r\n",
      "/data/git/shopee-product-matching/output/dev0024/csv/version_4\r\n",
      "/data/git/shopee-product-matching/output/dev0024/csv/version_4/hparams.yaml\r\n",
      "/data/git/shopee-product-matching/output/dev0024/csv/version_7\r\n",
      "/data/git/shopee-product-matching/output/dev0024/csv/version_7/metrics.csv\r\n",
      "/data/git/shopee-product-matching/output/dev0024/csv/version_7/hparams.yaml\r\n",
      "/data/git/shopee-product-matching/output/dev0024/csv/version_2\r\n",
      "/data/git/shopee-product-matching/output/dev0024/csv/version_2/metrics.csv\r\n",
      "/data/git/shopee-product-matching/output/dev0024/csv/version_2/hparams.yaml\r\n",
      "/data/git/shopee-product-matching/output/dev0024/csv/version_6\r\n",
      "/data/git/shopee-product-matching/output/dev0024/csv/version_6/metrics.csv\r\n",
      "/data/git/shopee-product-matching/output/dev0024/csv/version_6/hparams.yaml\r\n",
      "/data/git/shopee-product-matching/output/dev0024/csv/version_5\r\n",
      "/data/git/shopee-product-matching/output/dev0024/csv/version_5/hparams.yaml\r\n",
      "/data/git/shopee-product-matching/output/dev0024/csv/version_3\r\n",
      "/data/git/shopee-product-matching/output/dev0024/csv/version_3/metrics.csv\r\n",
      "/data/git/shopee-product-matching/output/dev0024/csv/version_3/hparams.yaml\r\n",
      "/data/git/shopee-product-matching/output/dev0024/csv/version_0\r\n",
      "/data/git/shopee-product-matching/output/dev0024/csv/version_0/metrics.csv\r\n",
      "/data/git/shopee-product-matching/output/dev0024/csv/version_0/hparams.yaml\r\n",
      "/data/git/shopee-product-matching/output/dev0024/tensorboard\r\n",
      "/data/git/shopee-product-matching/output/dev0024/tensorboard/version_8\r\n",
      "/data/git/shopee-product-matching/output/dev0024/tensorboard/version_8/hparams.yaml\r\n",
      "/data/git/shopee-product-matching/output/dev0024/tensorboard/version_8/events.out.tfevents.1616981158.ip-10-0-3-91.11689.0\r\n",
      "/data/git/shopee-product-matching/output/dev0024/tensorboard/version_1\r\n",
      "/data/git/shopee-product-matching/output/dev0024/tensorboard/version_1/hparams.yaml\r\n",
      "/data/git/shopee-product-matching/output/dev0024/tensorboard/version_1/events.out.tfevents.1616954262.ip-10-0-3-91.14349.0\r\n",
      "/data/git/shopee-product-matching/output/dev0024/tensorboard/version_4\r\n",
      "/data/git/shopee-product-matching/output/dev0024/tensorboard/version_4/hparams.yaml\r\n",
      "/data/git/shopee-product-matching/output/dev0024/tensorboard/version_4/events.out.tfevents.1616978872.ip-10-0-3-91.32600.0\r\n",
      "/data/git/shopee-product-matching/output/dev0024/tensorboard/version_7\r\n",
      "/data/git/shopee-product-matching/output/dev0024/tensorboard/version_7/hparams.yaml\r\n",
      "/data/git/shopee-product-matching/output/dev0024/tensorboard/version_7/events.out.tfevents.1616979688.ip-10-0-3-91.4363.0\r\n",
      "/data/git/shopee-product-matching/output/dev0024/tensorboard/version_2\r\n",
      "/data/git/shopee-product-matching/output/dev0024/tensorboard/version_2/hparams.yaml\r\n",
      "/data/git/shopee-product-matching/output/dev0024/tensorboard/version_2/events.out.tfevents.1616955514.ip-10-0-3-91.17876.0\r\n",
      "/data/git/shopee-product-matching/output/dev0024/tensorboard/version_6\r\n",
      "/data/git/shopee-product-matching/output/dev0024/tensorboard/version_6/hparams.yaml\r\n",
      "/data/git/shopee-product-matching/output/dev0024/tensorboard/version_6/events.out.tfevents.1616979323.ip-10-0-3-91.1666.0\r\n",
      "/data/git/shopee-product-matching/output/dev0024/tensorboard/version_5\r\n",
      "/data/git/shopee-product-matching/output/dev0024/tensorboard/version_5/hparams.yaml\r\n",
      "/data/git/shopee-product-matching/output/dev0024/tensorboard/version_5/events.out.tfevents.1616979128.ip-10-0-3-91.970.0\r\n",
      "/data/git/shopee-product-matching/output/dev0024/tensorboard/version_3\r\n",
      "/data/git/shopee-product-matching/output/dev0024/tensorboard/version_3/events.out.tfevents.1616977934.ip-10-0-3-91.27017.0\r\n",
      "/data/git/shopee-product-matching/output/dev0024/tensorboard/version_3/hparams.yaml\r\n",
      "/data/git/shopee-product-matching/output/dev0024/tensorboard/version_0\r\n",
      "/data/git/shopee-product-matching/output/dev0024/tensorboard/version_0/hparams.yaml\r\n",
      "/data/git/shopee-product-matching/output/dev0024/tensorboard/version_0/events.out.tfevents.1616953945.ip-10-0-3-91.11676.0\r\n"
     ]
    }
   ],
   "source": [
    "!find $p_out/"
   ]
  },
  {
   "cell_type": "code",
   "execution_count": 11,
   "metadata": {},
   "outputs": [
    {
     "name": "stdout",
     "output_type": "stream",
     "text": [
      "/data/git/shopee-product-matching/output/dev0024/tensorboard/\r\n",
      "/data/git/shopee-product-matching/output/dev0024/tensorboard/version_8\r\n",
      "/data/git/shopee-product-matching/output/dev0024/tensorboard/version_8/hparams.yaml\r\n",
      "/data/git/shopee-product-matching/output/dev0024/tensorboard/version_8/events.out.tfevents.1616981158.ip-10-0-3-91.11689.0\r\n",
      "/data/git/shopee-product-matching/output/dev0024/tensorboard/version_1\r\n",
      "/data/git/shopee-product-matching/output/dev0024/tensorboard/version_1/hparams.yaml\r\n",
      "/data/git/shopee-product-matching/output/dev0024/tensorboard/version_1/events.out.tfevents.1616954262.ip-10-0-3-91.14349.0\r\n",
      "/data/git/shopee-product-matching/output/dev0024/tensorboard/version_4\r\n",
      "/data/git/shopee-product-matching/output/dev0024/tensorboard/version_4/hparams.yaml\r\n",
      "/data/git/shopee-product-matching/output/dev0024/tensorboard/version_4/events.out.tfevents.1616978872.ip-10-0-3-91.32600.0\r\n",
      "/data/git/shopee-product-matching/output/dev0024/tensorboard/version_7\r\n",
      "/data/git/shopee-product-matching/output/dev0024/tensorboard/version_7/hparams.yaml\r\n",
      "/data/git/shopee-product-matching/output/dev0024/tensorboard/version_7/events.out.tfevents.1616979688.ip-10-0-3-91.4363.0\r\n",
      "/data/git/shopee-product-matching/output/dev0024/tensorboard/version_2\r\n",
      "/data/git/shopee-product-matching/output/dev0024/tensorboard/version_2/hparams.yaml\r\n",
      "/data/git/shopee-product-matching/output/dev0024/tensorboard/version_2/events.out.tfevents.1616955514.ip-10-0-3-91.17876.0\r\n",
      "/data/git/shopee-product-matching/output/dev0024/tensorboard/version_6\r\n",
      "/data/git/shopee-product-matching/output/dev0024/tensorboard/version_6/hparams.yaml\r\n",
      "/data/git/shopee-product-matching/output/dev0024/tensorboard/version_6/events.out.tfevents.1616979323.ip-10-0-3-91.1666.0\r\n",
      "/data/git/shopee-product-matching/output/dev0024/tensorboard/version_5\r\n",
      "/data/git/shopee-product-matching/output/dev0024/tensorboard/version_5/hparams.yaml\r\n",
      "/data/git/shopee-product-matching/output/dev0024/tensorboard/version_5/events.out.tfevents.1616979128.ip-10-0-3-91.970.0\r\n",
      "/data/git/shopee-product-matching/output/dev0024/tensorboard/version_3\r\n",
      "/data/git/shopee-product-matching/output/dev0024/tensorboard/version_3/events.out.tfevents.1616977934.ip-10-0-3-91.27017.0\r\n",
      "/data/git/shopee-product-matching/output/dev0024/tensorboard/version_3/hparams.yaml\r\n",
      "/data/git/shopee-product-matching/output/dev0024/tensorboard/version_0\r\n",
      "/data/git/shopee-product-matching/output/dev0024/tensorboard/version_0/hparams.yaml\r\n",
      "/data/git/shopee-product-matching/output/dev0024/tensorboard/version_0/events.out.tfevents.1616953945.ip-10-0-3-91.11676.0\r\n"
     ]
    }
   ],
   "source": [
    "!find $p_out/tensorboard/"
   ]
  },
  {
   "cell_type": "code",
   "execution_count": 12,
   "metadata": {},
   "outputs": [
    {
     "name": "stdout",
     "output_type": "stream",
     "text": [
      "-rw-rw-r-- 1 ubuntu ubuntu 736M Mar 29 02:55 '/data/git/shopee-product-matching/output/dev0024/tensorboard_csv/8_8/checkpoints/epoch=3-step=300.ckpt'\r\n"
     ]
    }
   ],
   "source": [
    "ls -hl {p_out}/tensorboard_csv/*/checkpoints/*.ckpt"
   ]
  },
  {
   "cell_type": "code",
   "execution_count": null,
   "metadata": {},
   "outputs": [],
   "source": []
  },
  {
   "cell_type": "code",
   "execution_count": null,
   "metadata": {},
   "outputs": [],
   "source": []
  },
  {
   "cell_type": "code",
   "execution_count": null,
   "metadata": {},
   "outputs": [],
   "source": []
  },
  {
   "cell_type": "code",
   "execution_count": 13,
   "metadata": {},
   "outputs": [
    {
     "name": "stdout",
     "output_type": "stream",
     "text": [
      "Mon Mar 29 02:56:08 2021       \r\n",
      "+-----------------------------------------------------------------------------+\r\n",
      "| NVIDIA-SMI 440.100      Driver Version: 440.100      CUDA Version: 10.2     |\r\n",
      "|-------------------------------+----------------------+----------------------+\r\n",
      "| GPU  Name        Persistence-M| Bus-Id        Disp.A | Volatile Uncorr. ECC |\r\n",
      "| Fan  Temp  Perf  Pwr:Usage/Cap|         Memory-Usage | GPU-Util  Compute M. |\r\n",
      "|===============================+======================+======================|\r\n",
      "|   0  Tesla V100-SXM2...  Off  | 00000000:00:1E.0 Off |                    0 |\r\n",
      "| N/A   57C    P0   251W / 300W |   8582MiB / 16160MiB |     71%      Default |\r\n",
      "+-------------------------------+----------------------+----------------------+\r\n",
      "                                                                               \r\n",
      "+-----------------------------------------------------------------------------+\r\n",
      "| Processes:                                                       GPU Memory |\r\n",
      "|  GPU       PID   Type   Process name                             Usage      |\r\n",
      "|=============================================================================|\r\n",
      "|    0     21036      C   /data/anaconda3/envs/Catology/bin/python    8571MiB |\r\n",
      "+-----------------------------------------------------------------------------+\r\n"
     ]
    }
   ],
   "source": [
    "!nvidia-smi"
   ]
  },
  {
   "cell_type": "code",
   "execution_count": null,
   "metadata": {},
   "outputs": [],
   "source": []
  }
 ],
 "metadata": {
  "kernelspec": {
   "display_name": "shopee",
   "language": "python",
   "name": "shopee"
  },
  "language_info": {
   "codemirror_mode": {
    "name": "ipython",
    "version": 3
   },
   "file_extension": ".py",
   "mimetype": "text/x-python",
   "name": "python",
   "nbconvert_exporter": "python",
   "pygments_lexer": "ipython3",
   "version": "3.7.10"
  },
  "toc": {
   "base_numbering": 1,
   "nav_menu": {},
   "number_sections": true,
   "sideBar": true,
   "skip_h1_title": false,
   "title_cell": "Table of Contents",
   "title_sidebar": "Contents",
   "toc_cell": false,
   "toc_position": {},
   "toc_section_display": true,
   "toc_window_display": false
  }
 },
 "nbformat": 4,
 "nbformat_minor": 4
}
