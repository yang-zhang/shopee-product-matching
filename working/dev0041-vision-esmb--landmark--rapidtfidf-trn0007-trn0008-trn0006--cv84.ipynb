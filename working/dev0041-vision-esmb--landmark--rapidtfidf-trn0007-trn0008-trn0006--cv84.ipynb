{
 "cells": [
  {
   "cell_type": "markdown",
   "metadata": {},
   "source": [
    "- http://localhost:8088/notebooks/git/shopee-product-matching/working/trn0007--b4--cv75.ipynb\n",
    "- http://localhost:8088/notebooks/git/shopee-product-matching/working/trn0008--b1--max-eps10--cosine--cv75--lb51-65.ipynb"
   ]
  },
  {
   "cell_type": "markdown",
   "metadata": {},
   "source": [
    "- https://pytorch.org/vision/stable/models.html\n",
    "- https://discuss.pytorch.org/t/how-to-delete-layer-in-pretrained-model/17648/2?u=yang-zhang"
   ]
  },
  {
   "cell_type": "code",
   "execution_count": 1,
   "metadata": {
    "scrolled": true
   },
   "outputs": [
    {
     "name": "stdout",
     "output_type": "stream",
     "text": [
      "Modules to reload:\n",
      "all-except-skipped\n",
      "\n",
      "Modules to skip:\n",
      "\n",
      "Mon Apr 12 21:26:26 2021       \r\n",
      "+-----------------------------------------------------------------------------+\r\n",
      "| NVIDIA-SMI 440.59       Driver Version: 440.59       CUDA Version: 10.2     |\r\n",
      "|-------------------------------+----------------------+----------------------+\r\n",
      "| GPU  Name        Persistence-M| Bus-Id        Disp.A | Volatile Uncorr. ECC |\r\n",
      "| Fan  Temp  Perf  Pwr:Usage/Cap|         Memory-Usage | GPU-Util  Compute M. |\r\n",
      "|===============================+======================+======================|\r\n",
      "|   0  Tesla V100-SXM2...  Off  | 00000000:00:1E.0 Off |                    0 |\r\n",
      "| N/A   34C    P0    23W / 300W |     11MiB / 16160MiB |      0%      Default |\r\n",
      "+-------------------------------+----------------------+----------------------+\r\n",
      "                                                                               \r\n",
      "+-----------------------------------------------------------------------------+\r\n",
      "| Processes:                                                       GPU Memory |\r\n",
      "|  GPU       PID   Type   Process name                             Usage      |\r\n",
      "|=============================================================================|\r\n",
      "|  No running processes found                                                 |\r\n",
      "+-----------------------------------------------------------------------------+\r\n"
     ]
    }
   ],
   "source": [
    "%load_ext autoreload\n",
    "%autoreload 2\n",
    "%aimport\n",
    "\n",
    "!nvidia-smi\n"
   ]
  },
  {
   "cell_type": "code",
   "execution_count": 2,
   "metadata": {},
   "outputs": [],
   "source": [
    "prfxs = [\"trn0008\", \"trn0007\",\"trn0006\"] \n",
    "imgszes = [224, 512, 512]\n",
    "enet_types = [\"tf_efficientnet_b1_ns\", \"tf_efficientnet_b4_ns\", \"tf_efficientnet_b3_ns\"]\n",
    "ckpts = [\n",
    "    \"0_0/checkpoints/epoch=10-step=3640.ckpt\",\n",
    "    \"0_0/checkpoints/epoch=23-step=34943.ckpt\",\n",
    "    \"0_0/checkpoints/epoch=24-step=9099.ckpt\"\n",
    "]"
   ]
  },
  {
   "cell_type": "markdown",
   "metadata": {},
   "source": [
    "# setup"
   ]
  },
  {
   "cell_type": "code",
   "execution_count": 3,
   "metadata": {},
   "outputs": [],
   "source": [
    "HOME = \"/data/git/shopee-product-matching\"\n",
    "p_prp = f'{HOME}/output/prep002'\n",
    "\n",
    "FOLD = 0\n",
    "FP16 = True\n",
    "\n",
    "import sys\n",
    "sys.path.append(f\"{HOME}/src\")\n",
    "\n",
    "import pandas as pd\n",
    "from pl_model import ShpModel\n",
    "import os\n",
    "import torch\n",
    "import numpy as np\n",
    "from tqdm import tqdm\n",
    "\n",
    "os.environ[\"TOKENIZERS_PARALLELISM\"] = \"false\"\n",
    "\n",
    "from final import enet_arcface_FINAL, load_model\n",
    "\n",
    "from dataset import ShopeeDataset, get_transforms\n",
    "from torch.utils.data import DataLoader\n"
   ]
  },
  {
   "cell_type": "markdown",
   "metadata": {},
   "source": [
    "## utils"
   ]
  },
  {
   "cell_type": "code",
   "execution_count": 4,
   "metadata": {},
   "outputs": [],
   "source": [
    "import numpy as np\n",
    "\n",
    "def getf1(x, y):\n",
    "    n = len(np.intersect1d(x, y))\n",
    "    return 2 * n / (len(x) + len(y))\n",
    "\n",
    "\n",
    "def getf1s(xs, ys):\n",
    "    return (getf1(x, y) for x, y in zip(xs, ys))\n",
    "\n",
    "\n",
    "def meanf1(xs, ys):\n",
    "    return np.mean(list(getf1s(xs, ys)))\n",
    "\n",
    "\n",
    "def get_targets(df):\n",
    "    grp2ids = df.groupby(\"label_group\").posting_id.agg(\"unique\").to_dict()\n",
    "    targets = df.label_group.map(grp2ids)\n",
    "    return targets\n",
    "\n",
    "def preds2pids(preds, pids):\n",
    "    return [pids[o] for o in preds]\n",
    "\n",
    "\n",
    "def comb_preds(*preds):\n",
    "    return (np.unique(np.concatenate(l)) for l in zip(*preds))\n"
   ]
  },
  {
   "cell_type": "markdown",
   "metadata": {},
   "source": [
    "# load model"
   ]
  },
  {
   "cell_type": "code",
   "execution_count": 5,
   "metadata": {},
   "outputs": [],
   "source": [
    "df = pd.read_csv(f'{p_prp}/df_valid.csv')\n",
    "pids = df.posting_id.values\n",
    "\n",
    "targets = get_targets(df)"
   ]
  },
  {
   "cell_type": "code",
   "execution_count": 6,
   "metadata": {},
   "outputs": [
    {
     "name": "stderr",
     "output_type": "stream",
     "text": [
      "100%|██████████| 161/161 [00:19<00:00,  8.34it/s]\n",
      "100%|██████████| 161/161 [00:37<00:00,  4.32it/s]\n",
      "100%|██████████| 161/161 [00:32<00:00,  4.89it/s]\n"
     ]
    }
   ],
   "source": [
    "device = torch.device('cuda')\n",
    "featss = []\n",
    "for imdl in range(len(prfxs)):\n",
    "    prfx = prfxs[imdl]\n",
    "    imgsz = imgszes[imdl]\n",
    "    enet_type = enet_types[imdl]\n",
    "    ckpt = ckpts[imdl]\n",
    "    shpmodel = ShpModel.load_from_checkpoint(f'{HOME}/output/{prfx}/tensorboard_csv/{ckpt}')\n",
    "    out_dim = shpmodel.num_classes\n",
    "    \n",
    "    \n",
    "    model = enet_arcface_FINAL(enet_type, out_dim=out_dim).to(device)\n",
    "    model = load_model(model, shpmodel)\n",
    "    model = model.to(device)\n",
    "    \n",
    "    \n",
    "    \n",
    "    tfms_trn, tfms_val = get_transforms(imgsz)\n",
    "    ds = ShopeeDataset(df, mode=\"test\", transform=tfms_val)\n",
    "    dl = DataLoader(ds,\n",
    "                batch_size=32,\n",
    "                num_workers=8,\n",
    "                pin_memory=True,\n",
    "            )\n",
    "\n",
    "    feats = np.zeros((len(ds), 512))\n",
    "    i = 0\n",
    "    for dat in tqdm(dl):\n",
    "        with torch.no_grad():\n",
    "            dat = dat.to(device)\n",
    "            feat,_ = model(dat)\n",
    "            l = len(feat)\n",
    "            feats[i : i + l, :] = feat.cpu().detach().numpy()\n",
    "            i += l\n",
    "            \n",
    "    featss.append(feats)\n",
    "    "
   ]
  },
  {
   "cell_type": "code",
   "execution_count": 7,
   "metadata": {},
   "outputs": [
    {
     "data": {
      "text/plain": [
       "3"
      ]
     },
     "execution_count": 7,
     "metadata": {},
     "output_type": "execute_result"
    }
   ],
   "source": [
    "len(featss)"
   ]
  },
  {
   "cell_type": "markdown",
   "metadata": {},
   "source": [
    "# inference"
   ]
  },
  {
   "cell_type": "code",
   "execution_count": 53,
   "metadata": {},
   "outputs": [],
   "source": [
    "from cuml.neighbors import NearestNeighbors\n",
    "import numpy as np\n",
    "import torch.nn.functional as F\n",
    "\n",
    "\n",
    "N_NBRS = 50\n",
    "CHUNK = 1024 * 4\n",
    "\n",
    "\n",
    "def mk_nnmdl(feats, n_nbrs=N_NBRS):\n",
    "    nnmdl = NearestNeighbors(N_NBRS, metric=\"cosine\")\n",
    "    nnmdl.fit(feats)\n",
    "    return nnmdl\n",
    "\n",
    "\n",
    "def get_nbrs_from_nnmdl(feats, nnmdl, sz_chunk=CHUNK):\n",
    "    n = len(feats)\n",
    "    n_nbrs = nnmdl.n_neighbors\n",
    "    dists = np.zeros((n, n_nbrs), dtype=\"float\")\n",
    "    idx = np.zeros((n, n_nbrs), dtype=\"int\")\n",
    "    n_chunks = len(feats) // sz_chunk\n",
    "    if len(feats) % sz_chunk != 0:\n",
    "        n_chunks += 1\n",
    "    for j in tqdm(range(n_chunks)):\n",
    "        a = j * sz_chunk\n",
    "        b = (j + 1) * sz_chunk\n",
    "        b = min(b, len(feats))\n",
    "        dists_, idx_ = nnmdl.kneighbors(\n",
    "            feats[\n",
    "                a:b,\n",
    "            ]\n",
    "        )\n",
    "        dists[a:b] = np.array(dists_)\n",
    "        idx[a:b] = np.array(idx_)\n",
    "    return dists, idx\n",
    "\n",
    "\n",
    "def get_nbrs(feats, n_nbrs=N_NBRS, sz_chunk=CHUNK):\n",
    "    nnmdl = mk_nnmdl(feats, n_nbrs)\n",
    "    dists, idx = get_nbrs_from_nnmdl(feats, nnmdl, sz_chunk)\n",
    "    return dists, idx\n",
    "\n",
    "\n",
    "def get_preds_by_thrsh(dists, idx, thrsh):\n",
    "    preds = (ind[dst < thrsh] for dst, ind in zip(dists, idx))\n",
    "    return preds\n",
    "\n",
    "\n",
    "def find_best(dists, idx, thrshes=np.linspace(0.,1.,num=21)):\n",
    "    f1_lst = []\n",
    "    preds_lst = []\n",
    "    for thrsh in tqdm(thrshes):\n",
    "        preds = get_preds_by_thrsh(dists, idx, thrsh)\n",
    "        preds = preds2pids(preds, pids)\n",
    "        preds_lst.append(preds)\n",
    "        f1 = meanf1(preds,targets)\n",
    "        f1_lst.append(f1)\n",
    "    f1_best, thrsh_best, preds_best = sorted(zip(f1_lst, thrshes, preds_lst), reverse=True)[0]\n",
    "    res = {'f1_best': f1_best, \n",
    "           'thrsh_best': thrsh_best, \n",
    "           'preds_best': preds_best, \n",
    "           'thrshes': thrshes, \n",
    "           'f1_lst': f1_lst}\n",
    "    return res"
   ]
  },
  {
   "cell_type": "code",
   "execution_count": null,
   "metadata": {},
   "outputs": [],
   "source": []
  },
  {
   "cell_type": "code",
   "execution_count": 54,
   "metadata": {},
   "outputs": [
    {
     "data": {
      "text/plain": [
       "3"
      ]
     },
     "execution_count": 54,
     "metadata": {},
     "output_type": "execute_result"
    }
   ],
   "source": [
    "len(featss)"
   ]
  },
  {
   "cell_type": "code",
   "execution_count": 10,
   "metadata": {},
   "outputs": [],
   "source": [
    "feats_conc = np.concatenate(featss, 1)\n",
    "feats_conc = F.normalize(torch.tensor(feats_conc))\n",
    "feats_conc = feats_conc.numpy()"
   ]
  },
  {
   "cell_type": "code",
   "execution_count": 11,
   "metadata": {},
   "outputs": [
    {
     "data": {
      "text/plain": [
       "(5135, 1536)"
      ]
     },
     "execution_count": 11,
     "metadata": {},
     "output_type": "execute_result"
    }
   ],
   "source": [
    "feats_conc.shape"
   ]
  },
  {
   "cell_type": "code",
   "execution_count": 12,
   "metadata": {},
   "outputs": [
    {
     "name": "stderr",
     "output_type": "stream",
     "text": [
      "100%|██████████| 2/2 [00:01<00:00,  1.84it/s]\n"
     ]
    }
   ],
   "source": [
    "nbrs = get_nbrs(feats_conc)"
   ]
  },
  {
   "cell_type": "code",
   "execution_count": 13,
   "metadata": {},
   "outputs": [
    {
     "name": "stderr",
     "output_type": "stream",
     "text": [
      "100%|██████████| 21/21 [00:04<00:00,  5.22it/s]"
     ]
    },
    {
     "name": "stdout",
     "output_type": "stream",
     "text": [
      "0.778, 0.60 \n"
     ]
    },
    {
     "name": "stderr",
     "output_type": "stream",
     "text": [
      "\n"
     ]
    }
   ],
   "source": [
    "dists, idx = nbrs\n",
    "res = find_best(dists, idx)\n",
    "print(f\"{res['f1_best']:.3f}, {res['thrsh_best']:.2f} \")"
   ]
  },
  {
   "cell_type": "code",
   "execution_count": 14,
   "metadata": {
    "scrolled": false
   },
   "outputs": [
    {
     "data": {
      "image/png": "[encoded data removed]",
      "text/plain": [
       "<Figure size 216x144 with 1 Axes>"
      ]
     },
     "metadata": {
      "needs_background": "light"
     },
     "output_type": "display_data"
    }
   ],
   "source": [
    "import matplotlib.pyplot as plt\n",
    "plt.figure(figsize=(3,2))\n",
    "plt.plot(res['thrshes'], res['f1_lst'])  \n",
    "plt.show()"
   ]
  },
  {
   "cell_type": "code",
   "execution_count": 15,
   "metadata": {},
   "outputs": [],
   "source": [
    "preds_v = res['preds_best']"
   ]
  },
  {
   "cell_type": "code",
   "execution_count": 16,
   "metadata": {},
   "outputs": [
    {
     "data": {
      "text/plain": [
       "0.7775667718990791"
      ]
     },
     "execution_count": 16,
     "metadata": {},
     "output_type": "execute_result"
    }
   ],
   "source": [
    "meanf1(preds_v, targets)"
   ]
  },
  {
   "cell_type": "markdown",
   "metadata": {},
   "source": [
    "# tfidf"
   ]
  },
  {
   "cell_type": "raw",
   "metadata": {},
   "source": [
    "from sklearn.feature_extraction.text import TfidfVectorizer\n",
    "vec = TfidfVectorizer(ngram_range=(1,2),\n",
    "                      min_df=3, max_df=0.9)\n",
    "feats_txt = vec.fit_transform(df.title)"
   ]
  },
  {
   "cell_type": "code",
   "execution_count": 51,
   "metadata": {},
   "outputs": [
    {
     "name": "stdout",
     "output_type": "stream",
     "text": [
      "text embeddings shape (5135, 7912)\n"
     ]
    }
   ],
   "source": [
    "import cudf, cupy\n",
    "from cuml.feature_extraction.text import TfidfVectorizer\n",
    "tfidf_model = TfidfVectorizer(stop_words='english', binary=True, max_features=25_000)\n",
    "feats_txt = tfidf_model.fit_transform(cudf.DataFrame(df).title).toarray()\n",
    "# feats_txt = cupy.asnumpy(feats_txt)\n",
    "print('text embeddings shape',feats_txt.shape)"
   ]
  },
  {
   "cell_type": "code",
   "execution_count": 60,
   "metadata": {},
   "outputs": [
    {
     "name": "stderr",
     "output_type": "stream",
     "text": [
      "100%|██████████| 2/2 [00:00<00:00,  4.77it/s]\n",
      "100%|██████████| 21/21 [00:03<00:00,  5.52it/s]"
     ]
    },
    {
     "name": "stdout",
     "output_type": "stream",
     "text": [
      "0.791, 0.60 \n"
     ]
    },
    {
     "name": "stderr",
     "output_type": "stream",
     "text": [
      "\n"
     ]
    }
   ],
   "source": [
    "feats_txt_np = cupy.asnumpy(feats_txt)\n",
    "nbrs = get_nbrs(feats_txt_np)\n",
    "res = find_best(*nbrs)\n",
    "print(f\"{res['f1_best']:.3f}, {res['thrsh_best']:.2f} \")"
   ]
  },
  {
   "cell_type": "code",
   "execution_count": 61,
   "metadata": {},
   "outputs": [
    {
     "data": {
      "image/png": "[encoded data removed]",
      "text/plain": [
       "<Figure size 216x144 with 1 Axes>"
      ]
     },
     "metadata": {
      "needs_background": "light"
     },
     "output_type": "display_data"
    }
   ],
   "source": [
    "plt.figure(figsize=(3,2))\n",
    "plt.plot(res['thrshes'], res['f1_lst'])  \n",
    "plt.show()"
   ]
  },
  {
   "cell_type": "code",
   "execution_count": 62,
   "metadata": {},
   "outputs": [],
   "source": [
    "preds_t = res['preds_best']"
   ]
  },
  {
   "cell_type": "code",
   "execution_count": 63,
   "metadata": {},
   "outputs": [
    {
     "data": {
      "text/plain": [
       "0.7907949361246561"
      ]
     },
     "execution_count": 63,
     "metadata": {},
     "output_type": "execute_result"
    }
   ],
   "source": [
    "meanf1(preds_t, targets)"
   ]
  },
  {
   "cell_type": "code",
   "execution_count": 65,
   "metadata": {},
   "outputs": [],
   "source": [
    "def get_nbrs_from_nnmdl_rapidfeats(feats, nnmdl, sz_chunk=CHUNK):\n",
    "    n = len(feats)\n",
    "    n_nbrs = nnmdl.n_neighbors\n",
    "    dists = np.zeros((n, n_nbrs), dtype=\"float\")\n",
    "    idx = np.zeros((n, n_nbrs), dtype=\"int\")\n",
    "    n_chunks = len(feats) // sz_chunk\n",
    "    if len(feats) % sz_chunk != 0:\n",
    "        n_chunks += 1\n",
    "    for j in tqdm(range(n_chunks)):\n",
    "        a = j * sz_chunk\n",
    "        b = (j + 1) * sz_chunk\n",
    "        b = min(b, len(feats))\n",
    "        dists_, idx_ = nnmdl.kneighbors(\n",
    "            feats[\n",
    "                a:b,\n",
    "            ]\n",
    "        )\n",
    "        dists[a:b] = cupy.asnumpy(dists_)\n",
    "        idx[a:b] = cupy.asnumpy(idx_)\n",
    "    return dists, idx\n",
    "\n",
    "def get_nbrs_rapidfeats(feats, n_nbrs=N_NBRS, sz_chunk=CHUNK):\n",
    "    nnmdl = mk_nnmdl(feats, n_nbrs)\n",
    "    dists, idx = get_nbrs_from_nnmdl_rapidfeats(feats, nnmdl, sz_chunk)\n",
    "    return dists, idx "
   ]
  },
  {
   "cell_type": "code",
   "execution_count": 66,
   "metadata": {},
   "outputs": [
    {
     "name": "stderr",
     "output_type": "stream",
     "text": [
      "100%|██████████| 2/2 [00:00<00:00,  5.36it/s]\n"
     ]
    }
   ],
   "source": [
    "nbrs = get_nbrs_rapidfeats(feats_txt)\n"
   ]
  },
  {
   "cell_type": "code",
   "execution_count": 73,
   "metadata": {},
   "outputs": [],
   "source": [
    "preds = get_preds_by_thrsh(*nbrs,thrsh=res['thrsh_best'])\n",
    "preds_t = preds2pids(preds, pids)\n"
   ]
  },
  {
   "cell_type": "code",
   "execution_count": 74,
   "metadata": {},
   "outputs": [
    {
     "data": {
      "text/plain": [
       "0.7907949361246561"
      ]
     },
     "execution_count": 74,
     "metadata": {},
     "output_type": "execute_result"
    }
   ],
   "source": [
    "meanf1(preds_t, targets)"
   ]
  },
  {
   "cell_type": "markdown",
   "metadata": {},
   "source": [
    "# hsh"
   ]
  },
  {
   "cell_type": "code",
   "execution_count": 44,
   "metadata": {},
   "outputs": [],
   "source": [
    "def get_preds_pids_h(df):\n",
    "    hsh2ids = df.groupby(\"image_phash\").posting_id.agg(\"unique\").to_dict()\n",
    "    preds_h = df.image_phash.map(hsh2ids)\n",
    "    return preds_h"
   ]
  },
  {
   "cell_type": "code",
   "execution_count": 45,
   "metadata": {},
   "outputs": [],
   "source": [
    "preds_h = get_preds_pids_h(df)"
   ]
  },
  {
   "cell_type": "code",
   "execution_count": 46,
   "metadata": {},
   "outputs": [
    {
     "data": {
      "text/plain": [
       "0.5415179652897422"
      ]
     },
     "execution_count": 46,
     "metadata": {},
     "output_type": "execute_result"
    }
   ],
   "source": [
    "meanf1(preds_h, targets)"
   ]
  },
  {
   "cell_type": "code",
   "execution_count": null,
   "metadata": {},
   "outputs": [],
   "source": []
  },
  {
   "cell_type": "markdown",
   "metadata": {},
   "source": [
    "# combine"
   ]
  },
  {
   "cell_type": "code",
   "execution_count": 47,
   "metadata": {},
   "outputs": [
    {
     "data": {
      "text/plain": [
       "0.8431142550754188"
      ]
     },
     "execution_count": 47,
     "metadata": {},
     "output_type": "execute_result"
    }
   ],
   "source": [
    "preds_comb = comb_preds(preds_v, preds_t)\n",
    "\n",
    "meanf1(preds_comb, targets)"
   ]
  },
  {
   "cell_type": "code",
   "execution_count": 48,
   "metadata": {},
   "outputs": [
    {
     "data": {
      "text/plain": [
       "0.8430253443768054"
      ]
     },
     "execution_count": 48,
     "metadata": {},
     "output_type": "execute_result"
    }
   ],
   "source": [
    "preds_comb = comb_preds(preds_v, preds_t, preds_h)\n",
    "\n",
    "meanf1(preds_comb, targets)"
   ]
  },
  {
   "cell_type": "code",
   "execution_count": 49,
   "metadata": {},
   "outputs": [
    {
     "data": {
      "text/plain": [
       "0.7774842635755489"
      ]
     },
     "execution_count": 49,
     "metadata": {},
     "output_type": "execute_result"
    }
   ],
   "source": [
    "preds_comb = comb_preds(preds_v, preds_h)\n",
    "\n",
    "meanf1(preds_comb, targets)"
   ]
  },
  {
   "cell_type": "code",
   "execution_count": null,
   "metadata": {},
   "outputs": [],
   "source": []
  },
  {
   "cell_type": "code",
   "execution_count": null,
   "metadata": {},
   "outputs": [],
   "source": []
  },
  {
   "cell_type": "code",
   "execution_count": null,
   "metadata": {},
   "outputs": [],
   "source": []
  },
  {
   "cell_type": "code",
   "execution_count": null,
   "metadata": {},
   "outputs": [],
   "source": []
  },
  {
   "cell_type": "markdown",
   "metadata": {},
   "source": [
    "# fin"
   ]
  },
  {
   "cell_type": "code",
   "execution_count": 62,
   "metadata": {},
   "outputs": [
    {
     "name": "stdout",
     "output_type": "stream",
     "text": [
      "Mon Apr 12 01:35:02 2021       \r\n",
      "+-----------------------------------------------------------------------------+\r\n",
      "| NVIDIA-SMI 440.59       Driver Version: 440.59       CUDA Version: 10.2     |\r\n",
      "|-------------------------------+----------------------+----------------------+\r\n",
      "| GPU  Name        Persistence-M| Bus-Id        Disp.A | Volatile Uncorr. ECC |\r\n",
      "| Fan  Temp  Perf  Pwr:Usage/Cap|         Memory-Usage | GPU-Util  Compute M. |\r\n",
      "|===============================+======================+======================|\r\n",
      "|   0  Tesla V100-SXM2...  Off  | 00000000:00:1E.0 Off |                    0 |\r\n",
      "| N/A   38C    P0    39W / 300W |   9064MiB / 16160MiB |      0%      Default |\r\n",
      "+-------------------------------+----------------------+----------------------+\r\n",
      "                                                                               \r\n",
      "+-----------------------------------------------------------------------------+\r\n",
      "| Processes:                                                       GPU Memory |\r\n",
      "|  GPU       PID   Type   Process name                             Usage      |\r\n",
      "|=============================================================================|\r\n",
      "|    0     32438      C   /data/anaconda3/envs/shopee/bin/python      9051MiB |\r\n",
      "+-----------------------------------------------------------------------------+\r\n"
     ]
    }
   ],
   "source": [
    "!nvidia-smi"
   ]
  },
  {
   "cell_type": "code",
   "execution_count": null,
   "metadata": {},
   "outputs": [],
   "source": []
  }
 ],
 "metadata": {
  "kernelspec": {
   "display_name": "shopee",
   "language": "python",
   "name": "shopee"
  },
  "language_info": {
   "codemirror_mode": {
    "name": "ipython",
    "version": 3
   },
   "file_extension": ".py",
   "mimetype": "text/x-python",
   "name": "python",
   "nbconvert_exporter": "python",
   "pygments_lexer": "ipython3",
   "version": "3.7.10"
  },
  "toc": {
   "base_numbering": 1,
   "nav_menu": {},
   "number_sections": true,
   "sideBar": true,
   "skip_h1_title": false,
   "title_cell": "Table of Contents",
   "title_sidebar": "Contents",
   "toc_cell": false,
   "toc_position": {},
   "toc_section_display": true,
   "toc_window_display": true
  }
 },
 "nbformat": 4,
 "nbformat_minor": 4
}
