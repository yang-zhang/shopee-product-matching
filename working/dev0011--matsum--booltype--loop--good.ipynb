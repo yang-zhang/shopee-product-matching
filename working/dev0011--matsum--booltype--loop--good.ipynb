{
 "cells": [
  {
   "cell_type": "markdown",
   "metadata": {},
   "source": [
    "# stackoverflow"
   ]
  },
  {
   "cell_type": "markdown",
   "metadata": {},
   "source": [
    "https://stackoverflow.com/questions/42752610/python-how-to-generate-the-pairwise-hamming-distance-matrix"
   ]
  },
  {
   "cell_type": "code",
   "execution_count": 1,
   "metadata": {},
   "outputs": [],
   "source": [
    "import numpy as np"
   ]
  },
  {
   "cell_type": "code",
   "execution_count": 2,
   "metadata": {},
   "outputs": [],
   "source": [
    "arr= np.array([[ 1,  0,  0,  1,  1,  0],\n",
    "   [ 1,  0,  0,  0,  0,  0],\n",
    "   [ 1,  1,  1,  1,  0,  0],])"
   ]
  },
  {
   "cell_type": "code",
   "execution_count": 3,
   "metadata": {},
   "outputs": [
    {
     "data": {
      "text/plain": [
       "array([[1, 0, 0, 1, 1, 0],\n",
       "       [1, 0, 0, 0, 0, 0],\n",
       "       [1, 1, 1, 1, 0, 0]])"
      ]
     },
     "execution_count": 3,
     "metadata": {},
     "output_type": "execute_result"
    }
   ],
   "source": [
    "arr"
   ]
  },
  {
   "cell_type": "code",
   "execution_count": 4,
   "metadata": {},
   "outputs": [
    {
     "data": {
      "text/plain": [
       "8"
      ]
     },
     "execution_count": 4,
     "metadata": {},
     "output_type": "execute_result"
    }
   ],
   "source": [
    "arr.itemsize"
   ]
  },
  {
   "cell_type": "code",
   "execution_count": 5,
   "metadata": {},
   "outputs": [],
   "source": [
    "(arr[:, None, :] != arr).sum(2)\n",
    "\n",
    "# array([[0, 2, 3],\n",
    "#        [2, 0, 3],\n",
    "#        [3, 3, 0]])\n",
    "def compute_HammingDistance(X):\n",
    "    return (X[:, None, :] != X).sum(2)"
   ]
  },
  {
   "cell_type": "code",
   "execution_count": 6,
   "metadata": {},
   "outputs": [
    {
     "data": {
      "text/plain": [
       "array([[0, 2, 3],\n",
       "       [2, 0, 3],\n",
       "       [3, 3, 0]])"
      ]
     },
     "execution_count": 6,
     "metadata": {},
     "output_type": "execute_result"
    }
   ],
   "source": [
    "compute_HammingDistance(arr)"
   ]
  },
  {
   "cell_type": "markdown",
   "metadata": {},
   "source": [
    "# use bool"
   ]
  },
  {
   "cell_type": "markdown",
   "metadata": {},
   "source": [
    "https://stackoverflow.com/questions/42752610/python-how-to-generate-the-pairwise-hamming-distance-matrix"
   ]
  },
  {
   "cell_type": "code",
   "execution_count": 7,
   "metadata": {},
   "outputs": [],
   "source": [
    "arr = arr.astype(bool)"
   ]
  },
  {
   "cell_type": "code",
   "execution_count": 8,
   "metadata": {},
   "outputs": [
    {
     "data": {
      "text/plain": [
       "array([[ True, False, False,  True,  True, False],\n",
       "       [ True, False, False, False, False, False],\n",
       "       [ True,  True,  True,  True, False, False]])"
      ]
     },
     "execution_count": 8,
     "metadata": {},
     "output_type": "execute_result"
    }
   ],
   "source": [
    "arr"
   ]
  },
  {
   "cell_type": "code",
   "execution_count": 9,
   "metadata": {},
   "outputs": [
    {
     "data": {
      "text/plain": [
       "1"
      ]
     },
     "execution_count": 9,
     "metadata": {},
     "output_type": "execute_result"
    }
   ],
   "source": [
    "arr.itemsize"
   ]
  },
  {
   "cell_type": "code",
   "execution_count": 10,
   "metadata": {},
   "outputs": [],
   "source": [
    "(arr[:, None, :] != arr).sum(2)\n",
    "\n",
    "# array([[0, 2, 3],\n",
    "#        [2, 0, 3],\n",
    "#        [3, 3, 0]])\n",
    "def compute_HammingDistance(X):\n",
    "    return (X[:, None, :] != X).sum(2)"
   ]
  },
  {
   "cell_type": "code",
   "execution_count": 11,
   "metadata": {},
   "outputs": [
    {
     "data": {
      "text/plain": [
       "array([[0, 2, 3],\n",
       "       [2, 0, 3],\n",
       "       [3, 3, 0]])"
      ]
     },
     "execution_count": 11,
     "metadata": {},
     "output_type": "execute_result"
    }
   ],
   "source": [
    "compute_HammingDistance(arr)"
   ]
  },
  {
   "cell_type": "code",
   "execution_count": null,
   "metadata": {},
   "outputs": [],
   "source": []
  },
  {
   "cell_type": "code",
   "execution_count": null,
   "metadata": {},
   "outputs": [],
   "source": []
  },
  {
   "cell_type": "code",
   "execution_count": null,
   "metadata": {},
   "outputs": [],
   "source": []
  },
  {
   "cell_type": "markdown",
   "metadata": {},
   "source": [
    "# setup"
   ]
  },
  {
   "cell_type": "code",
   "execution_count": 12,
   "metadata": {},
   "outputs": [
    {
     "name": "stdout",
     "output_type": "stream",
     "text": [
      "sample_submission.csv  test.csv  test_images  train.csv  train_images\r\n"
     ]
    }
   ],
   "source": [
    "import pandas as pd\n",
    "import numpy as np\n",
    "from tqdm import tqdm\n",
    "\n",
    "from efficientnet_pytorch import EfficientNet\n",
    "from PIL import Image\n",
    "from torchvision import transforms\n",
    "\n",
    "from transformers import AutoModel, AutoTokenizer\n",
    "import torch\n",
    "from torch.utils.data import Dataset, TensorDataset, DataLoader\n",
    "import torch, gc\n",
    "\n",
    "from sklearn.metrics.pairwise import cosine_similarity\n",
    "from sklearn.metrics import pairwise_distances\n",
    "\n",
    "HOME = '/data/git/shopee-product-matching'\n",
    "pdata = f'{HOME}/data/shopee-product-matching'\n",
    "!ls $pdata\n",
    "\n",
    "BS = 256\n",
    "NWKRS = 8\n",
    "DEVICE = 'cuda'\n",
    "PIN_MEMORY = True\n",
    "MAXLEN = 128"
   ]
  },
  {
   "cell_type": "markdown",
   "metadata": {},
   "source": [
    "# data"
   ]
  },
  {
   "cell_type": "code",
   "execution_count": 13,
   "metadata": {
    "scrolled": true
   },
   "outputs": [
    {
     "data": {
      "text/html": [
       "<div>\n",
       "<style scoped>\n",
       "    .dataframe tbody tr th:only-of-type {\n",
       "        vertical-align: middle;\n",
       "    }\n",
       "\n",
       "    .dataframe tbody tr th {\n",
       "        vertical-align: top;\n",
       "    }\n",
       "\n",
       "    .dataframe thead th {\n",
       "        text-align: right;\n",
       "    }\n",
       "</style>\n",
       "<table border=\"1\" class=\"dataframe\">\n",
       "  <thead>\n",
       "    <tr style=\"text-align: right;\">\n",
       "      <th></th>\n",
       "      <th>posting_id</th>\n",
       "      <th>image</th>\n",
       "      <th>image_phash</th>\n",
       "      <th>title</th>\n",
       "      <th>label_group</th>\n",
       "    </tr>\n",
       "  </thead>\n",
       "  <tbody>\n",
       "    <tr>\n",
       "      <th>0</th>\n",
       "      <td>train_129225211</td>\n",
       "      <td>0000a68812bc7e98c42888dfb1c07da0.jpg</td>\n",
       "      <td>94974f937d4c2433</td>\n",
       "      <td>Paper Bag Victoria Secret</td>\n",
       "      <td>249114794</td>\n",
       "    </tr>\n",
       "    <tr>\n",
       "      <th>1</th>\n",
       "      <td>train_3386243561</td>\n",
       "      <td>00039780dfc94d01db8676fe789ecd05.jpg</td>\n",
       "      <td>af3f9460c2838f0f</td>\n",
       "      <td>Double Tape 3M VHB 12 mm x 4,5 m ORIGINAL / DO...</td>\n",
       "      <td>2937985045</td>\n",
       "    </tr>\n",
       "  </tbody>\n",
       "</table>\n",
       "</div>"
      ],
      "text/plain": [
       "         posting_id                                 image       image_phash  \\\n",
       "0   train_129225211  0000a68812bc7e98c42888dfb1c07da0.jpg  94974f937d4c2433   \n",
       "1  train_3386243561  00039780dfc94d01db8676fe789ecd05.jpg  af3f9460c2838f0f   \n",
       "\n",
       "                                               title  label_group  \n",
       "0                          Paper Bag Victoria Secret    249114794  \n",
       "1  Double Tape 3M VHB 12 mm x 4,5 m ORIGINAL / DO...   2937985045  "
      ]
     },
     "execution_count": 13,
     "metadata": {},
     "output_type": "execute_result"
    }
   ],
   "source": [
    "fnm = 'train'\n",
    "df = pd.read_csv(f'{pdata}/{fnm}.csv')\n",
    "assert len(df) == df.posting_id.nunique()\n",
    "p_imgs = f\"{pdata}/train_images\"\n",
    "df.head(2)"
   ]
  },
  {
   "cell_type": "markdown",
   "metadata": {},
   "source": [
    "# hash"
   ]
  },
  {
   "cell_type": "code",
   "execution_count": 14,
   "metadata": {},
   "outputs": [
    {
     "name": "stderr",
     "output_type": "stream",
     "text": [
      "100%|██████████| 5/5 [00:00<00:00, 6687.35it/s]\n"
     ]
    },
    {
     "data": {
      "text/plain": [
       "array([[ 0., 42., 40., 30., 32.],\n",
       "       [42.,  0., 28., 28., 34.],\n",
       "       [40., 28.,  0., 34., 44.],\n",
       "       [30., 28., 34.,  0., 34.],\n",
       "       [32., 34., 44., 34.,  0.]])"
      ]
     },
     "execution_count": 14,
     "metadata": {},
     "output_type": "execute_result"
    }
   ],
   "source": [
    "def hamming(x1, x2): \n",
    "    x1,x2 = (bin(int(x, 16)) for x in (x1, x2))\n",
    "    return sum(o1!=o2 for o1,o2 in zip(x1,x2))\n",
    "n = 5\n",
    "hdists = np.zeros((n, n))\n",
    "for i in tqdm(range(n)):\n",
    "    for j in range(i, n):\n",
    "        x1 = df.image_phash[i]\n",
    "        x2 = df.image_phash[j]\n",
    "        hdists[i,j]=hdists[j,i]=hamming(x1, x2)\n",
    "hdists"
   ]
  },
  {
   "cell_type": "code",
   "execution_count": 15,
   "metadata": {},
   "outputs": [],
   "source": [
    "hfeats = df[:5].image_phash.apply(lambda x: bin(int(x, 16))).values"
   ]
  },
  {
   "cell_type": "code",
   "execution_count": 16,
   "metadata": {
    "scrolled": true
   },
   "outputs": [
    {
     "data": {
      "text/plain": [
       "array([[1, 0, 0, 1, 0, 1, 0, 0, 1, 0, 0, 1, 0, 1, 1, 1, 0, 1, 0, 0, 1, 1,\n",
       "        1, 1, 1, 0, 0, 1, 0, 0, 1, 1, 0, 1, 1, 1, 1, 1, 0, 1, 0, 1, 0, 0,\n",
       "        1, 1, 0, 0, 0, 0, 1, 0, 0, 1, 0, 0, 0, 0, 1, 1, 0, 0, 1, 1],\n",
       "       [1, 0, 1, 0, 1, 1, 1, 1, 0, 0, 1, 1, 1, 1, 1, 1, 1, 0, 0, 1, 0, 1,\n",
       "        0, 0, 0, 1, 1, 0, 0, 0, 0, 0, 1, 1, 0, 0, 0, 0, 1, 0, 1, 0, 0, 0,\n",
       "        0, 0, 1, 1, 1, 0, 0, 0, 1, 1, 1, 1, 0, 0, 0, 0, 1, 1, 1, 1],\n",
       "       [1, 0, 1, 1, 1, 0, 0, 1, 0, 1, 0, 0, 1, 1, 0, 0, 1, 0, 1, 1, 0, 0,\n",
       "        0, 0, 0, 0, 0, 0, 1, 1, 1, 0, 1, 1, 0, 1, 0, 0, 1, 1, 1, 1, 1, 0,\n",
       "        0, 1, 0, 1, 0, 0, 0, 0, 1, 1, 1, 1, 0, 1, 1, 1, 1, 0, 0, 0],\n",
       "       [1, 0, 0, 0, 0, 1, 0, 1, 0, 0, 0, 1, 0, 1, 0, 0, 1, 1, 1, 1, 1, 1,\n",
       "        0, 0, 0, 1, 0, 1, 1, 0, 0, 0, 1, 1, 1, 0, 1, 0, 1, 0, 1, 1, 1, 1,\n",
       "        1, 1, 1, 0, 1, 0, 1, 0, 0, 0, 1, 0, 1, 0, 0, 0, 0, 0, 1, 1],\n",
       "       [1, 0, 1, 0, 0, 1, 1, 0, 1, 1, 1, 1, 0, 0, 1, 1, 0, 0, 0, 1, 1, 0,\n",
       "        0, 1, 1, 1, 1, 1, 1, 0, 0, 1, 0, 0, 1, 0, 0, 1, 0, 0, 1, 0, 1, 0,\n",
       "        1, 1, 0, 1, 0, 1, 1, 1, 0, 0, 0, 0, 1, 0, 0, 0, 1, 1, 0, 0]])"
      ]
     },
     "execution_count": 16,
     "metadata": {},
     "output_type": "execute_result"
    }
   ],
   "source": [
    "X = np.array([[eval(o) for o in x[2:]] for x in hfeats])\n",
    "X"
   ]
  },
  {
   "cell_type": "code",
   "execution_count": 17,
   "metadata": {},
   "outputs": [],
   "source": [
    "X = X.astype(bool)"
   ]
  },
  {
   "cell_type": "code",
   "execution_count": 18,
   "metadata": {},
   "outputs": [
    {
     "data": {
      "text/plain": [
       "array([[ 0, 42, 40, 30, 32],\n",
       "       [42,  0, 28, 28, 34],\n",
       "       [40, 28,  0, 34, 44],\n",
       "       [30, 28, 34,  0, 34],\n",
       "       [32, 34, 44, 34,  0]])"
      ]
     },
     "execution_count": 18,
     "metadata": {},
     "output_type": "execute_result"
    }
   ],
   "source": [
    "compute_HammingDistance(X)"
   ]
  },
  {
   "cell_type": "markdown",
   "metadata": {},
   "source": [
    "# all data -- OOM on kaggle"
   ]
  },
  {
   "cell_type": "raw",
   "metadata": {},
   "source": [
    "hfeats = df.image_phash.apply(lambda x: bin(int(x, 16))).values"
   ]
  },
  {
   "cell_type": "raw",
   "metadata": {},
   "source": [
    "%%time\n",
    "X = np.array([[eval(o) for o in x[2:]] for x in hfeats], dtype=np.bool)\n"
   ]
  },
  {
   "cell_type": "raw",
   "metadata": {},
   "source": [
    "%%time\n",
    "hdists = compute_HammingDistance(X)"
   ]
  },
  {
   "cell_type": "markdown",
   "metadata": {},
   "source": [
    "# loop"
   ]
  },
  {
   "cell_type": "code",
   "execution_count": 45,
   "metadata": {},
   "outputs": [],
   "source": [
    "n = 4\n",
    "hfeats = df[:n].image_phash.apply(lambda x: bin(int(x, 16))).values\n",
    "X = np.array([[eval(o) for o in x[2:]] for x in hfeats], dtype=np.bool)"
   ]
  },
  {
   "cell_type": "code",
   "execution_count": 46,
   "metadata": {},
   "outputs": [
    {
     "data": {
      "text/plain": [
       "array([[ 0, 42, 40, 30],\n",
       "       [42,  0, 28, 28],\n",
       "       [40, 28,  0, 34],\n",
       "       [30, 28, 34,  0]])"
      ]
     },
     "execution_count": 46,
     "metadata": {},
     "output_type": "execute_result"
    }
   ],
   "source": [
    "compute_HammingDistance(X)"
   ]
  },
  {
   "cell_type": "code",
   "execution_count": 47,
   "metadata": {},
   "outputs": [
    {
     "name": "stderr",
     "output_type": "stream",
     "text": [
      "100%|██████████| 4/4 [00:00<00:00, 2565.32it/s]"
     ]
    },
    {
     "name": "stdout",
     "output_type": "stream",
     "text": [
      "[[ 0]\n",
      " [42]\n",
      " [40]\n",
      " [30]]\n",
      "[[42]\n",
      " [ 0]\n",
      " [28]\n",
      " [28]]\n",
      "[[40]\n",
      " [28]\n",
      " [ 0]\n",
      " [34]]\n",
      "[[30]\n",
      " [28]\n",
      " [34]\n",
      " [ 0]]\n"
     ]
    },
    {
     "name": "stderr",
     "output_type": "stream",
     "text": [
      "\n"
     ]
    }
   ],
   "source": [
    "n = len(X)\n",
    "for i in tqdm(range(n)):\n",
    "    print((X[:, None, :]!=X[i]).sum(2))"
   ]
  },
  {
   "cell_type": "code",
   "execution_count": 50,
   "metadata": {},
   "outputs": [
    {
     "data": {
      "text/plain": [
       "array([ 0, 42, 40, 30])"
      ]
     },
     "execution_count": 50,
     "metadata": {},
     "output_type": "execute_result"
    }
   ],
   "source": [
    "(X[:, None, :]!=X[i]).sum(2)[:,0]"
   ]
  },
  {
   "cell_type": "code",
   "execution_count": 51,
   "metadata": {},
   "outputs": [
    {
     "name": "stderr",
     "output_type": "stream",
     "text": [
      "100%|██████████| 4/4 [00:00<00:00, 15420.24it/s]\n"
     ]
    }
   ],
   "source": [
    "n = len(X)\n",
    "hdists = np.zeros((n, n), dtype=np.short)\n",
    "for i in tqdm(range(n)):\n",
    "    hdists[:,i] = ((X[:, None, :]!=X[i]).sum(2))[:,0]"
   ]
  },
  {
   "cell_type": "code",
   "execution_count": 52,
   "metadata": {},
   "outputs": [
    {
     "data": {
      "text/plain": [
       "array([[ 0, 42, 40, 30],\n",
       "       [42,  0, 28, 28],\n",
       "       [40, 28,  0, 34],\n",
       "       [30, 28, 34,  0]], dtype=int16)"
      ]
     },
     "execution_count": 52,
     "metadata": {},
     "output_type": "execute_result"
    }
   ],
   "source": [
    "hdists"
   ]
  },
  {
   "cell_type": "markdown",
   "metadata": {},
   "source": [
    "# all data "
   ]
  },
  {
   "cell_type": "code",
   "execution_count": 53,
   "metadata": {},
   "outputs": [],
   "source": [
    "hfeats = df.image_phash.apply(lambda x: bin(int(x, 16))).values"
   ]
  },
  {
   "cell_type": "code",
   "execution_count": 54,
   "metadata": {},
   "outputs": [
    {
     "name": "stdout",
     "output_type": "stream",
     "text": [
      "CPU times: user 8.29 s, sys: 0 ns, total: 8.29 s\n",
      "Wall time: 8.29 s\n"
     ]
    }
   ],
   "source": [
    "%%time\n",
    "X = np.array([[eval(o) for o in x[2:]] for x in hfeats], dtype=np.bool)\n"
   ]
  },
  {
   "cell_type": "code",
   "execution_count": 55,
   "metadata": {},
   "outputs": [
    {
     "name": "stderr",
     "output_type": "stream",
     "text": [
      "100%|██████████| 34250/34250 [04:23<00:00, 129.85it/s]"
     ]
    },
    {
     "name": "stdout",
     "output_type": "stream",
     "text": [
      "CPU times: user 4min 23s, sys: 2.07 s, total: 4min 25s\n",
      "Wall time: 4min 23s\n"
     ]
    },
    {
     "name": "stderr",
     "output_type": "stream",
     "text": [
      "\n"
     ]
    }
   ],
   "source": [
    "%%time\n",
    "n = len(X)\n",
    "hdists = np.zeros((n, n), dtype=np.short)\n",
    "for i in tqdm(range(n)):\n",
    "    hdists[:,i] = ((X[:, None, :]!=X[i]).sum(2))[:,0]"
   ]
  },
  {
   "cell_type": "code",
   "execution_count": null,
   "metadata": {},
   "outputs": [],
   "source": []
  },
  {
   "cell_type": "code",
   "execution_count": null,
   "metadata": {},
   "outputs": [],
   "source": []
  },
  {
   "cell_type": "markdown",
   "metadata": {},
   "source": [
    "# demo"
   ]
  },
  {
   "cell_type": "code",
   "execution_count": 56,
   "metadata": {},
   "outputs": [],
   "source": [
    "hsims = 1/(1+hdists)"
   ]
  },
  {
   "cell_type": "code",
   "execution_count": 57,
   "metadata": {},
   "outputs": [
    {
     "data": {
      "text/plain": [
       "array([[1.        , 0.02325581, 0.02439024, ..., 0.02702703, 0.02857143,\n",
       "        0.03225806],\n",
       "       [0.02325581, 1.        , 0.03448276, ..., 0.03703704, 0.03030303,\n",
       "        0.04347826],\n",
       "       [0.02439024, 0.03448276, 1.        , ..., 0.03225806, 0.02564103,\n",
       "        0.02857143],\n",
       "       ...,\n",
       "       [0.02702703, 0.03703704, 0.03225806, ..., 1.        , 0.03448276,\n",
       "        0.03448276],\n",
       "       [0.02857143, 0.03030303, 0.02564103, ..., 0.03448276, 1.        ,\n",
       "        0.02857143],\n",
       "       [0.03225806, 0.04347826, 0.02857143, ..., 0.03448276, 0.02857143,\n",
       "        1.        ]])"
      ]
     },
     "execution_count": 57,
     "metadata": {},
     "output_type": "execute_result"
    }
   ],
   "source": [
    "hsims"
   ]
  },
  {
   "cell_type": "markdown",
   "metadata": {},
   "source": [
    "# demo"
   ]
  },
  {
   "cell_type": "code",
   "execution_count": 76,
   "metadata": {},
   "outputs": [
    {
     "name": "stdout",
     "output_type": "stream",
     "text": [
      "8693\n"
     ]
    },
    {
     "data": {
      "text/plain": [
       "{'posting_id': 'train_3665527367',\n",
       " 'image': '41506335d45d81352c40c6e28e71b96e.jpg',\n",
       " 'image_phash': 'ef9190669c6e9634',\n",
       " 'title': 'Pure Kids Fever Free Cooling Patch Gel isi 4',\n",
       " 'label_group': 1715041013}"
      ]
     },
     "execution_count": 76,
     "metadata": {},
     "output_type": "execute_result"
    }
   ],
   "source": [
    "i = np.random.choice(range(len(df)))\n",
    "print(i)\n",
    "df.iloc[i].to_dict()"
   ]
  },
  {
   "cell_type": "code",
   "execution_count": 77,
   "metadata": {},
   "outputs": [
    {
     "data": {
      "text/html": [
       "<div>\n",
       "<style scoped>\n",
       "    .dataframe tbody tr th:only-of-type {\n",
       "        vertical-align: middle;\n",
       "    }\n",
       "\n",
       "    .dataframe tbody tr th {\n",
       "        vertical-align: top;\n",
       "    }\n",
       "\n",
       "    .dataframe thead th {\n",
       "        text-align: right;\n",
       "    }\n",
       "</style>\n",
       "<table border=\"1\" class=\"dataframe\">\n",
       "  <thead>\n",
       "    <tr style=\"text-align: right;\">\n",
       "      <th></th>\n",
       "      <th>title</th>\n",
       "      <th>image_phash</th>\n",
       "      <th>label_group</th>\n",
       "    </tr>\n",
       "  </thead>\n",
       "  <tbody>\n",
       "    <tr>\n",
       "      <th>6677</th>\n",
       "      <td>Pure Kids Fever Free</td>\n",
       "      <td>e196ce6c939a6532</td>\n",
       "      <td>1715041013</td>\n",
       "    </tr>\n",
       "    <tr>\n",
       "      <th>8693</th>\n",
       "      <td>Pure Kids Fever Free Cooling Patch Gel isi 4</td>\n",
       "      <td>ef9190669c6e9634</td>\n",
       "      <td>1715041013</td>\n",
       "    </tr>\n",
       "    <tr>\n",
       "      <th>9930</th>\n",
       "      <td>Pure Baby &amp; Kids Fever Free - 1 dus 4 lembar c...</td>\n",
       "      <td>b193ce249b9b6433</td>\n",
       "      <td>1715041013</td>\n",
       "    </tr>\n",
       "    <tr>\n",
       "      <th>11124</th>\n",
       "      <td>ORIGINAL Pure Kids Fever Free Isi 4 lembar coo...</td>\n",
       "      <td>80c53f327a236c7b</td>\n",
       "      <td>1715041013</td>\n",
       "    </tr>\n",
       "    <tr>\n",
       "      <th>11693</th>\n",
       "      <td>[BPOM] Pure Kids Fever Free Isi 4 lembar Cooli...</td>\n",
       "      <td>95b253cd508f6dc2</td>\n",
       "      <td>1715041013</td>\n",
       "    </tr>\n",
       "    <tr>\n",
       "      <th>14666</th>\n",
       "      <td>Purebaby Pure kids Fever Free / Plester Penuru...</td>\n",
       "      <td>b0cbce309b6434db</td>\n",
       "      <td>1715041013</td>\n",
       "    </tr>\n",
       "    <tr>\n",
       "      <th>16922</th>\n",
       "      <td>Pure Kids Fever Free isi 4pcs</td>\n",
       "      <td>a79e8c259bc864d3</td>\n",
       "      <td>1715041013</td>\n",
       "    </tr>\n",
       "    <tr>\n",
       "      <th>21976</th>\n",
       "      <td>Pure Kids Fever Free Cooling Patch [4 Pcs]</td>\n",
       "      <td>d7e94cc660da2b70</td>\n",
       "      <td>1715041013</td>\n",
       "    </tr>\n",
       "    <tr>\n",
       "      <th>26413</th>\n",
       "      <td>BPOM - Pure Kids Fever Free Isi 4 lembar cooli...</td>\n",
       "      <td>94916b703a2f2f36</td>\n",
       "      <td>1715041013</td>\n",
       "    </tr>\n",
       "    <tr>\n",
       "      <th>27202</th>\n",
       "      <td>PURE KIDS FEVER FREE COOLING PATCH GEL ~ ISI 4...</td>\n",
       "      <td>e1966c32936b34cd</td>\n",
       "      <td>1715041013</td>\n",
       "    </tr>\n",
       "    <tr>\n",
       "      <th>29852</th>\n",
       "      <td>PURE KIDS FEVER FREE / PENURUN PANAS ANAK isi ...</td>\n",
       "      <td>b1cb8e32c76c9331</td>\n",
       "      <td>1715041013</td>\n",
       "    </tr>\n",
       "  </tbody>\n",
       "</table>\n",
       "</div>"
      ],
      "text/plain": [
       "                                                   title       image_phash  \\\n",
       "6677                                Pure Kids Fever Free  e196ce6c939a6532   \n",
       "8693        Pure Kids Fever Free Cooling Patch Gel isi 4  ef9190669c6e9634   \n",
       "9930   Pure Baby & Kids Fever Free - 1 dus 4 lembar c...  b193ce249b9b6433   \n",
       "11124  ORIGINAL Pure Kids Fever Free Isi 4 lembar coo...  80c53f327a236c7b   \n",
       "11693  [BPOM] Pure Kids Fever Free Isi 4 lembar Cooli...  95b253cd508f6dc2   \n",
       "14666  Purebaby Pure kids Fever Free / Plester Penuru...  b0cbce309b6434db   \n",
       "16922                      Pure Kids Fever Free isi 4pcs  a79e8c259bc864d3   \n",
       "21976         Pure Kids Fever Free Cooling Patch [4 Pcs]  d7e94cc660da2b70   \n",
       "26413  BPOM - Pure Kids Fever Free Isi 4 lembar cooli...  94916b703a2f2f36   \n",
       "27202  PURE KIDS FEVER FREE COOLING PATCH GEL ~ ISI 4...  e1966c32936b34cd   \n",
       "29852  PURE KIDS FEVER FREE / PENURUN PANAS ANAK isi ...  b1cb8e32c76c9331   \n",
       "\n",
       "       label_group  \n",
       "6677    1715041013  \n",
       "8693    1715041013  \n",
       "9930    1715041013  \n",
       "11124   1715041013  \n",
       "11693   1715041013  \n",
       "14666   1715041013  \n",
       "16922   1715041013  \n",
       "21976   1715041013  \n",
       "26413   1715041013  \n",
       "27202   1715041013  \n",
       "29852   1715041013  "
      ]
     },
     "execution_count": 77,
     "metadata": {},
     "output_type": "execute_result"
    }
   ],
   "source": [
    "grp = df.iloc[i].label_group\n",
    "\n",
    "df[df.label_group==grp][['title', 'image_phash', 'label_group']]"
   ]
  },
  {
   "cell_type": "code",
   "execution_count": 78,
   "metadata": {},
   "outputs": [],
   "source": [
    "ntop = 10"
   ]
  },
  {
   "cell_type": "code",
   "execution_count": 79,
   "metadata": {},
   "outputs": [
    {
     "data": {
      "text/html": [
       "<div>\n",
       "<style scoped>\n",
       "    .dataframe tbody tr th:only-of-type {\n",
       "        vertical-align: middle;\n",
       "    }\n",
       "\n",
       "    .dataframe tbody tr th {\n",
       "        vertical-align: top;\n",
       "    }\n",
       "\n",
       "    .dataframe thead th {\n",
       "        text-align: right;\n",
       "    }\n",
       "</style>\n",
       "<table border=\"1\" class=\"dataframe\">\n",
       "  <thead>\n",
       "    <tr style=\"text-align: right;\">\n",
       "      <th></th>\n",
       "      <th>title</th>\n",
       "      <th>image_phash</th>\n",
       "      <th>label_group</th>\n",
       "    </tr>\n",
       "  </thead>\n",
       "  <tbody>\n",
       "    <tr>\n",
       "      <th>8693</th>\n",
       "      <td>Pure Kids Fever Free Cooling Patch Gel isi 4</td>\n",
       "      <td>ef9190669c6e9634</td>\n",
       "      <td>1715041013</td>\n",
       "    </tr>\n",
       "    <tr>\n",
       "      <th>10868</th>\n",
       "      <td>Felibite 500Gr / Makanan Kucing Kering Freshpa...</td>\n",
       "      <td>ed9398668e6dc630</td>\n",
       "      <td>2404669998</td>\n",
       "    </tr>\n",
       "    <tr>\n",
       "      <th>16570</th>\n",
       "      <td>Habbatussauda Extra Propolis Trigona 200 Kapsu...</td>\n",
       "      <td>eec59162946a976c</td>\n",
       "      <td>333597397</td>\n",
       "    </tr>\n",
       "    <tr>\n",
       "      <th>11052</th>\n",
       "      <td>Parfum Mobil Aroma Kopi Bali 100%</td>\n",
       "      <td>ee9191661e2cd5a5</td>\n",
       "      <td>1042780132</td>\n",
       "    </tr>\n",
       "    <tr>\n",
       "      <th>7314</th>\n",
       "      <td>Rak Sepatu Gantung karakter</td>\n",
       "      <td>e699996699669926</td>\n",
       "      <td>628283471</td>\n",
       "    </tr>\n",
       "    <tr>\n",
       "      <th>19895</th>\n",
       "      <td>LEM TOUCHSCREEN ZHANLIDA T7000 50ML MEDIUM VIS...</td>\n",
       "      <td>e699996699669926</td>\n",
       "      <td>3585316632</td>\n",
       "    </tr>\n",
       "    <tr>\n",
       "      <th>21113</th>\n",
       "      <td>Paseo Tissue Tissu Tisu Basah BABY WIPES isi 5...</td>\n",
       "      <td>ef11906e496b1795</td>\n",
       "      <td>2886450320</td>\n",
       "    </tr>\n",
       "    <tr>\n",
       "      <th>31765</th>\n",
       "      <td>SETELAN LIBBY PENDEK / SETELAN  LIBBY BAGUS</td>\n",
       "      <td>eb909c72ce6e3684</td>\n",
       "      <td>2352043911</td>\n",
       "    </tr>\n",
       "    <tr>\n",
       "      <th>28502</th>\n",
       "      <td>Mangkok Masker Set / Mask Bowl masker Mangkok ...</td>\n",
       "      <td>ee95d82c9c6e1643</td>\n",
       "      <td>3211565621</td>\n",
       "    </tr>\n",
       "    <tr>\n",
       "      <th>15115</th>\n",
       "      <td>Rak sepatu karakter 9 susun</td>\n",
       "      <td>e699996699669926</td>\n",
       "      <td>628283471</td>\n",
       "    </tr>\n",
       "  </tbody>\n",
       "</table>\n",
       "</div>"
      ],
      "text/plain": [
       "                                                   title       image_phash  \\\n",
       "8693        Pure Kids Fever Free Cooling Patch Gel isi 4  ef9190669c6e9634   \n",
       "10868  Felibite 500Gr / Makanan Kucing Kering Freshpa...  ed9398668e6dc630   \n",
       "16570  Habbatussauda Extra Propolis Trigona 200 Kapsu...  eec59162946a976c   \n",
       "11052                  Parfum Mobil Aroma Kopi Bali 100%  ee9191661e2cd5a5   \n",
       "7314                         Rak Sepatu Gantung karakter  e699996699669926   \n",
       "19895  LEM TOUCHSCREEN ZHANLIDA T7000 50ML MEDIUM VIS...  e699996699669926   \n",
       "21113  Paseo Tissue Tissu Tisu Basah BABY WIPES isi 5...  ef11906e496b1795   \n",
       "31765        SETELAN LIBBY PENDEK / SETELAN  LIBBY BAGUS  eb909c72ce6e3684   \n",
       "28502  Mangkok Masker Set / Mask Bowl masker Mangkok ...  ee95d82c9c6e1643   \n",
       "15115                        Rak sepatu karakter 9 susun  e699996699669926   \n",
       "\n",
       "       label_group  \n",
       "8693    1715041013  \n",
       "10868   2404669998  \n",
       "16570    333597397  \n",
       "11052   1042780132  \n",
       "7314     628283471  \n",
       "19895   3585316632  \n",
       "21113   2886450320  \n",
       "31765   2352043911  \n",
       "28502   3211565621  \n",
       "15115    628283471  "
      ]
     },
     "execution_count": 79,
     "metadata": {},
     "output_type": "execute_result"
    }
   ],
   "source": [
    "idx_sim = np.argsort(-hsims[i])[:ntop]\n",
    "df.iloc[idx_sim][['title', 'image_phash', 'label_group']]"
   ]
  },
  {
   "cell_type": "markdown",
   "metadata": {},
   "source": [
    "# save "
   ]
  },
  {
   "cell_type": "code",
   "execution_count": 62,
   "metadata": {},
   "outputs": [],
   "source": [
    "pout = f\"{HOME}/data/dev0011\"\n",
    "!mkdir -p $pout"
   ]
  },
  {
   "cell_type": "code",
   "execution_count": 63,
   "metadata": {},
   "outputs": [],
   "source": [
    "np.save(f\"{pout}/hdists.npy\", hdists)\n",
    "np.save(f\"{pout}/hsims.npy\", hsims)"
   ]
  },
  {
   "cell_type": "markdown",
   "metadata": {},
   "source": [
    "# fin"
   ]
  },
  {
   "cell_type": "code",
   "execution_count": null,
   "metadata": {},
   "outputs": [],
   "source": []
  },
  {
   "cell_type": "code",
   "execution_count": null,
   "metadata": {},
   "outputs": [],
   "source": []
  }
 ],
 "metadata": {
  "kernelspec": {
   "display_name": "shopee",
   "language": "python",
   "name": "shopee"
  },
  "language_info": {
   "codemirror_mode": {
    "name": "ipython",
    "version": 3
   },
   "file_extension": ".py",
   "mimetype": "text/x-python",
   "name": "python",
   "nbconvert_exporter": "python",
   "pygments_lexer": "ipython3",
   "version": "3.7.10"
  },
  "toc": {
   "base_numbering": 1,
   "nav_menu": {},
   "number_sections": true,
   "sideBar": true,
   "skip_h1_title": false,
   "title_cell": "Table of Contents",
   "title_sidebar": "Contents",
   "toc_cell": false,
   "toc_position": {},
   "toc_section_display": true,
   "toc_window_display": false
  }
 },
 "nbformat": 4,
 "nbformat_minor": 4
}
