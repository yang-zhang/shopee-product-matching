{
 "cells": [
  {
   "cell_type": "code",
   "execution_count": 90,
   "metadata": {},
   "outputs": [],
   "source": [
    "import pandas as pd\n",
    "import numpy as np"
   ]
  },
  {
   "cell_type": "code",
   "execution_count": 91,
   "metadata": {},
   "outputs": [
    {
     "name": "stdout",
     "output_type": "stream",
     "text": [
      "sample_submission.csv  test.csv  test_images  train.csv  train_images\r\n"
     ]
    }
   ],
   "source": [
    "HOME = '/data/git/shopee-product-matching'\n",
    "pdata = f'{HOME}/data/shopee-product-matching'\n",
    "!ls $pdata"
   ]
  },
  {
   "cell_type": "code",
   "execution_count": 92,
   "metadata": {},
   "outputs": [
    {
     "data": {
      "text/plain": [
       "32412"
      ]
     },
     "execution_count": 92,
     "metadata": {},
     "output_type": "execute_result"
    }
   ],
   "source": [
    "fnms=!ls $pdata/train_images\n",
    "len(fnms)"
   ]
  },
  {
   "cell_type": "code",
   "execution_count": null,
   "metadata": {},
   "outputs": [],
   "source": []
  },
  {
   "cell_type": "code",
   "execution_count": null,
   "metadata": {},
   "outputs": [],
   "source": []
  },
  {
   "cell_type": "code",
   "execution_count": 17,
   "metadata": {},
   "outputs": [
    {
     "data": {
      "text/plain": [
       "['0000a68812bc7e98c42888dfb1c07da0.jpg',\n",
       " '00039780dfc94d01db8676fe789ecd05.jpg',\n",
       " '000a190fdd715a2a36faed16e2c65df7.jpg',\n",
       " '00117e4fc239b1b641ff08340b429633.jpg',\n",
       " '00136d1cf4edede0203f32f05f660588.jpg',\n",
       " '0013e7355ffc5ff8fb1ccad3e42d92fe.jpg',\n",
       " '00144a49c56599d45354a1c28104c039.jpg',\n",
       " '0014f61389cbaa687a58e38a97b6383d.jpg',\n",
       " '0019a3c6755a194cb2e2c12bfc63972e.jpg',\n",
       " '001be52b2beec40ddc1d2d7fc7a68f08.jpg']"
      ]
     },
     "execution_count": 17,
     "metadata": {},
     "output_type": "execute_result"
    }
   ],
   "source": [
    "fnms[:10]"
   ]
  },
  {
   "cell_type": "code",
   "execution_count": 11,
   "metadata": {},
   "outputs": [
    {
     "name": "stdout",
     "output_type": "stream",
     "text": [
      "train (34250, 5)\n"
     ]
    },
    {
     "data": {
      "text/html": [
       "<div>\n",
       "<style scoped>\n",
       "    .dataframe tbody tr th:only-of-type {\n",
       "        vertical-align: middle;\n",
       "    }\n",
       "\n",
       "    .dataframe tbody tr th {\n",
       "        vertical-align: top;\n",
       "    }\n",
       "\n",
       "    .dataframe thead th {\n",
       "        text-align: right;\n",
       "    }\n",
       "</style>\n",
       "<table border=\"1\" class=\"dataframe\">\n",
       "  <thead>\n",
       "    <tr style=\"text-align: right;\">\n",
       "      <th></th>\n",
       "      <th>posting_id</th>\n",
       "      <th>image</th>\n",
       "      <th>image_phash</th>\n",
       "      <th>title</th>\n",
       "      <th>label_group</th>\n",
       "    </tr>\n",
       "  </thead>\n",
       "  <tbody>\n",
       "    <tr>\n",
       "      <th>0</th>\n",
       "      <td>train_129225211</td>\n",
       "      <td>0000a68812bc7e98c42888dfb1c07da0.jpg</td>\n",
       "      <td>94974f937d4c2433</td>\n",
       "      <td>Paper Bag Victoria Secret</td>\n",
       "      <td>249114794</td>\n",
       "    </tr>\n",
       "    <tr>\n",
       "      <th>1</th>\n",
       "      <td>train_3386243561</td>\n",
       "      <td>00039780dfc94d01db8676fe789ecd05.jpg</td>\n",
       "      <td>af3f9460c2838f0f</td>\n",
       "      <td>Double Tape 3M VHB 12 mm x 4,5 m ORIGINAL / DO...</td>\n",
       "      <td>2937985045</td>\n",
       "    </tr>\n",
       "    <tr>\n",
       "      <th>2</th>\n",
       "      <td>train_2288590299</td>\n",
       "      <td>000a190fdd715a2a36faed16e2c65df7.jpg</td>\n",
       "      <td>b94cb00ed3e50f78</td>\n",
       "      <td>Maling TTS Canned Pork Luncheon Meat 397 gr</td>\n",
       "      <td>2395904891</td>\n",
       "    </tr>\n",
       "    <tr>\n",
       "      <th>3</th>\n",
       "      <td>train_2406599165</td>\n",
       "      <td>00117e4fc239b1b641ff08340b429633.jpg</td>\n",
       "      <td>8514fc58eafea283</td>\n",
       "      <td>Daster Batik Lengan pendek - Motif Acak / Camp...</td>\n",
       "      <td>4093212188</td>\n",
       "    </tr>\n",
       "    <tr>\n",
       "      <th>4</th>\n",
       "      <td>train_3369186413</td>\n",
       "      <td>00136d1cf4edede0203f32f05f660588.jpg</td>\n",
       "      <td>a6f319f924ad708c</td>\n",
       "      <td>Nescafe \\xc3\\x89clair Latte 220ml</td>\n",
       "      <td>3648931069</td>\n",
       "    </tr>\n",
       "  </tbody>\n",
       "</table>\n",
       "</div>"
      ],
      "text/plain": [
       "         posting_id                                 image       image_phash  \\\n",
       "0   train_129225211  0000a68812bc7e98c42888dfb1c07da0.jpg  94974f937d4c2433   \n",
       "1  train_3386243561  00039780dfc94d01db8676fe789ecd05.jpg  af3f9460c2838f0f   \n",
       "2  train_2288590299  000a190fdd715a2a36faed16e2c65df7.jpg  b94cb00ed3e50f78   \n",
       "3  train_2406599165  00117e4fc239b1b641ff08340b429633.jpg  8514fc58eafea283   \n",
       "4  train_3369186413  00136d1cf4edede0203f32f05f660588.jpg  a6f319f924ad708c   \n",
       "\n",
       "                                               title  label_group  \n",
       "0                          Paper Bag Victoria Secret    249114794  \n",
       "1  Double Tape 3M VHB 12 mm x 4,5 m ORIGINAL / DO...   2937985045  \n",
       "2        Maling TTS Canned Pork Luncheon Meat 397 gr   2395904891  \n",
       "3  Daster Batik Lengan pendek - Motif Acak / Camp...   4093212188  \n",
       "4                  Nescafe \\xc3\\x89clair Latte 220ml   3648931069  "
      ]
     },
     "metadata": {},
     "output_type": "display_data"
    },
    {
     "name": "stdout",
     "output_type": "stream",
     "text": [
      "test (3, 4)\n"
     ]
    },
    {
     "data": {
      "text/html": [
       "<div>\n",
       "<style scoped>\n",
       "    .dataframe tbody tr th:only-of-type {\n",
       "        vertical-align: middle;\n",
       "    }\n",
       "\n",
       "    .dataframe tbody tr th {\n",
       "        vertical-align: top;\n",
       "    }\n",
       "\n",
       "    .dataframe thead th {\n",
       "        text-align: right;\n",
       "    }\n",
       "</style>\n",
       "<table border=\"1\" class=\"dataframe\">\n",
       "  <thead>\n",
       "    <tr style=\"text-align: right;\">\n",
       "      <th></th>\n",
       "      <th>posting_id</th>\n",
       "      <th>image</th>\n",
       "      <th>image_phash</th>\n",
       "      <th>title</th>\n",
       "    </tr>\n",
       "  </thead>\n",
       "  <tbody>\n",
       "    <tr>\n",
       "      <th>0</th>\n",
       "      <td>test_2255846744</td>\n",
       "      <td>0006c8e5462ae52167402bac1c2e916e.jpg</td>\n",
       "      <td>ecc292392dc7687a</td>\n",
       "      <td>Edufuntoys - CHARACTER PHONE ada lampu dan mus...</td>\n",
       "    </tr>\n",
       "    <tr>\n",
       "      <th>1</th>\n",
       "      <td>test_3588702337</td>\n",
       "      <td>0007585c4d0f932859339129f709bfdc.jpg</td>\n",
       "      <td>e9968f60d2699e2c</td>\n",
       "      <td>(Beli 1 Free Spatula) Masker Komedo | Blackhea...</td>\n",
       "    </tr>\n",
       "    <tr>\n",
       "      <th>2</th>\n",
       "      <td>test_4015706929</td>\n",
       "      <td>0008377d3662e83ef44e1881af38b879.jpg</td>\n",
       "      <td>ba81c17e3581cabe</td>\n",
       "      <td>READY Lemonilo Mie instant sehat kuah dan goreng</td>\n",
       "    </tr>\n",
       "  </tbody>\n",
       "</table>\n",
       "</div>"
      ],
      "text/plain": [
       "        posting_id                                 image       image_phash  \\\n",
       "0  test_2255846744  0006c8e5462ae52167402bac1c2e916e.jpg  ecc292392dc7687a   \n",
       "1  test_3588702337  0007585c4d0f932859339129f709bfdc.jpg  e9968f60d2699e2c   \n",
       "2  test_4015706929  0008377d3662e83ef44e1881af38b879.jpg  ba81c17e3581cabe   \n",
       "\n",
       "                                               title  \n",
       "0  Edufuntoys - CHARACTER PHONE ada lampu dan mus...  \n",
       "1  (Beli 1 Free Spatula) Masker Komedo | Blackhea...  \n",
       "2   READY Lemonilo Mie instant sehat kuah dan goreng  "
      ]
     },
     "metadata": {},
     "output_type": "display_data"
    },
    {
     "name": "stdout",
     "output_type": "stream",
     "text": [
      "sample_submission (3, 2)\n"
     ]
    },
    {
     "data": {
      "text/html": [
       "<div>\n",
       "<style scoped>\n",
       "    .dataframe tbody tr th:only-of-type {\n",
       "        vertical-align: middle;\n",
       "    }\n",
       "\n",
       "    .dataframe tbody tr th {\n",
       "        vertical-align: top;\n",
       "    }\n",
       "\n",
       "    .dataframe thead th {\n",
       "        text-align: right;\n",
       "    }\n",
       "</style>\n",
       "<table border=\"1\" class=\"dataframe\">\n",
       "  <thead>\n",
       "    <tr style=\"text-align: right;\">\n",
       "      <th></th>\n",
       "      <th>posting_id</th>\n",
       "      <th>matches</th>\n",
       "    </tr>\n",
       "  </thead>\n",
       "  <tbody>\n",
       "    <tr>\n",
       "      <th>0</th>\n",
       "      <td>test_2255846744</td>\n",
       "      <td>test_2255846744</td>\n",
       "    </tr>\n",
       "    <tr>\n",
       "      <th>1</th>\n",
       "      <td>test_3588702337</td>\n",
       "      <td>test_3588702337</td>\n",
       "    </tr>\n",
       "    <tr>\n",
       "      <th>2</th>\n",
       "      <td>test_4015706929</td>\n",
       "      <td>test_4015706929</td>\n",
       "    </tr>\n",
       "  </tbody>\n",
       "</table>\n",
       "</div>"
      ],
      "text/plain": [
       "        posting_id          matches\n",
       "0  test_2255846744  test_2255846744\n",
       "1  test_3588702337  test_3588702337\n",
       "2  test_4015706929  test_4015706929"
      ]
     },
     "metadata": {},
     "output_type": "display_data"
    }
   ],
   "source": [
    "for fnm in ('train','test','sample_submission'):\n",
    "    df = pd.read_csv(f'{pdata}/{fnm}.csv')\n",
    "    print(fnm, df.shape)\n",
    "    display(df.head())"
   ]
  },
  {
   "cell_type": "code",
   "execution_count": 25,
   "metadata": {},
   "outputs": [
    {
     "data": {
      "text/plain": [
       "(34250, 32412, 32412)"
      ]
     },
     "execution_count": 25,
     "metadata": {},
     "output_type": "execute_result"
    }
   ],
   "source": [
    "df = pd.read_csv(f'{pdata}/train.csv')\n",
    "len(df), len(fnms), len(set(df.image) & set(fnms))"
   ]
  },
  {
   "cell_type": "code",
   "execution_count": 28,
   "metadata": {},
   "outputs": [
    {
     "data": {
      "text/html": [
       "<div>\n",
       "<style scoped>\n",
       "    .dataframe tbody tr th:only-of-type {\n",
       "        vertical-align: middle;\n",
       "    }\n",
       "\n",
       "    .dataframe tbody tr th {\n",
       "        vertical-align: top;\n",
       "    }\n",
       "\n",
       "    .dataframe thead th {\n",
       "        text-align: right;\n",
       "    }\n",
       "</style>\n",
       "<table border=\"1\" class=\"dataframe\">\n",
       "  <thead>\n",
       "    <tr style=\"text-align: right;\">\n",
       "      <th></th>\n",
       "      <th>posting_id</th>\n",
       "      <th>image</th>\n",
       "      <th>image_phash</th>\n",
       "      <th>title</th>\n",
       "      <th>label_group</th>\n",
       "    </tr>\n",
       "  </thead>\n",
       "  <tbody>\n",
       "    <tr>\n",
       "      <th>17602</th>\n",
       "      <td>train_2005275948</td>\n",
       "      <td>847fb8b122a2ff0bf2eef9b7923c1ac4.jpg</td>\n",
       "      <td>acc393bc836cf528</td>\n",
       "      <td>GAMIS ORI | GAMIS MAXMARA LUX | GAMIS MOTIF CA...</td>\n",
       "      <td>1121322716</td>\n",
       "    </tr>\n",
       "    <tr>\n",
       "      <th>2828</th>\n",
       "      <td>train_4106974013</td>\n",
       "      <td>158f2cf813c7c4088de1753549ef26fe.jpg</td>\n",
       "      <td>af1b330dd2b0cc2d</td>\n",
       "      <td>JS - Baju Wanita Running/Training</td>\n",
       "      <td>336207519</td>\n",
       "    </tr>\n",
       "    <tr>\n",
       "      <th>8887</th>\n",
       "      <td>train_1643051237</td>\n",
       "      <td>42d7a6c1f40291f3e7848c95cd71f6a1.jpg</td>\n",
       "      <td>bbc33fc9211ccc0d</td>\n",
       "      <td>ISHA Natural Pillow Mist 100 ml</td>\n",
       "      <td>4089914561</td>\n",
       "    </tr>\n",
       "    <tr>\n",
       "      <th>11477</th>\n",
       "      <td>train_1577911513</td>\n",
       "      <td>564b0bc4d8384c3900984058d373dbe6.jpg</td>\n",
       "      <td>b4b3e6d8c9189176</td>\n",
       "      <td>Flatshoes Princess - Flat shoes princess - Sen...</td>\n",
       "      <td>3184487800</td>\n",
       "    </tr>\n",
       "    <tr>\n",
       "      <th>20126</th>\n",
       "      <td>train_174225834</td>\n",
       "      <td>96f992014f1751943b3ee30e583ac26e.jpg</td>\n",
       "      <td>8c459b9c5465f9a5</td>\n",
       "      <td>SS (FREE MASKER) DRESS YOU LOVE / DRESS WANITA</td>\n",
       "      <td>3889596829</td>\n",
       "    </tr>\n",
       "  </tbody>\n",
       "</table>\n",
       "</div>"
      ],
      "text/plain": [
       "             posting_id                                 image  \\\n",
       "17602  train_2005275948  847fb8b122a2ff0bf2eef9b7923c1ac4.jpg   \n",
       "2828   train_4106974013  158f2cf813c7c4088de1753549ef26fe.jpg   \n",
       "8887   train_1643051237  42d7a6c1f40291f3e7848c95cd71f6a1.jpg   \n",
       "11477  train_1577911513  564b0bc4d8384c3900984058d373dbe6.jpg   \n",
       "20126   train_174225834  96f992014f1751943b3ee30e583ac26e.jpg   \n",
       "\n",
       "            image_phash                                              title  \\\n",
       "17602  acc393bc836cf528  GAMIS ORI | GAMIS MAXMARA LUX | GAMIS MOTIF CA...   \n",
       "2828   af1b330dd2b0cc2d                  JS - Baju Wanita Running/Training   \n",
       "8887   bbc33fc9211ccc0d                    ISHA Natural Pillow Mist 100 ml   \n",
       "11477  b4b3e6d8c9189176  Flatshoes Princess - Flat shoes princess - Sen...   \n",
       "20126  8c459b9c5465f9a5     SS (FREE MASKER) DRESS YOU LOVE / DRESS WANITA   \n",
       "\n",
       "       label_group  \n",
       "17602   1121322716  \n",
       "2828     336207519  \n",
       "8887    4089914561  \n",
       "11477   3184487800  \n",
       "20126   3889596829  "
      ]
     },
     "execution_count": 28,
     "metadata": {},
     "output_type": "execute_result"
    }
   ],
   "source": [
    "df.sample(5)"
   ]
  },
  {
   "cell_type": "code",
   "execution_count": 66,
   "metadata": {},
   "outputs": [
    {
     "data": {
      "text/plain": [
       "array(['kaos polos pendek katun putih', 'SWEATER POLOS / SWEATER PB (PB)',\n",
       "       'ONE STEP HAIR DRYER AND STYLER HOT AIR BRUSH SISIR PENGERING RAMBUT 3IN1',\n",
       "       '1KG 5PCS / OVERALL MIDI MOSCREPE / BENNA OVERALL',\n",
       "       'SIKAT pembersih sedotan stainless Brush pembersih sedotan besi murah',\n",
       "       'Deterjen Curah Kiloan',\n",
       "       'SANDAL WANITA TERLARIS COCOK BUAT GAYA, JALAN, GAUL, KERJA, KULIAH SANDAL JEMPOL R0 WEDGES LV JH101',\n",
       "       'Bestmed masker hijab/headloop semua warna isi 50 pcs!! Ready',\n",
       "       'Sambungan Kran Air fleksibel Filter air Anti Splash Shower wastafel kamar mandi toilet dapur',\n",
       "       'BATERAI BATRE BATTERY SAMSUNG G530 / GRAND PRIME / J5 / J2 PRIME ORI 99'],\n",
       "      dtype=object)"
      ]
     },
     "execution_count": 66,
     "metadata": {},
     "output_type": "execute_result"
    }
   ],
   "source": [
    "df.title.sample(10).values"
   ]
  },
  {
   "cell_type": "code",
   "execution_count": 65,
   "metadata": {},
   "outputs": [
    {
     "data": {
      "text/plain": [
       "(34250, 11014)"
      ]
     },
     "execution_count": 65,
     "metadata": {},
     "output_type": "execute_result"
    }
   ],
   "source": [
    "len(df), df.label_group.nunique()"
   ]
  },
  {
   "cell_type": "code",
   "execution_count": 82,
   "metadata": {},
   "outputs": [
    {
     "data": {
      "text/plain": [
       "{'posting_id': {346: 'train_3008115222',\n",
       "  2393: 'train_332907883',\n",
       "  2394: 'train_414848833',\n",
       "  23023: 'train_1950639044'},\n",
       " 'image': {346: '02a88e276871b5d7053e1a78604d27ea.jpg',\n",
       "  2393: '123ed3967260a9d181d2b69709558710.jpg',\n",
       "  2394: '123ed3967260a9d181d2b69709558710.jpg',\n",
       "  23023: 'ace8203a997d77e971e7faa3266125d4.jpg'},\n",
       " 'image_phash': {346: 'cd39626699996636',\n",
       "  2393: 'c1b649b649b649b6',\n",
       "  2394: 'c1b649b649b649b6',\n",
       "  23023: 'cb592066c6399bcd'},\n",
       " 'title': {346: 'chandrasurya TUSPIN BUNGA 7 Hijab Jarum Jilbab Aksesoris Wanita Korea Muslim Cantik',\n",
       "  2393: 'TUSPIN HIJAB PERAK PENITI JILBAB KERUDUNG',\n",
       "  2394: 'TUSPIN HIJAB PIN PENITI JILBAB FASHION AKSESORIS HIJAB PERAK',\n",
       "  23023: 'chandrasurya TUSPIN PITA Jarum Jilbab Hijab Aksesoris Wanita Muslim Korea Cantik Kerudung'},\n",
       " 'label_group': {346: 659856182,\n",
       "  2393: 659856182,\n",
       "  2394: 659856182,\n",
       "  23023: 659856182}}"
      ]
     },
     "execution_count": 82,
     "metadata": {},
     "output_type": "execute_result"
    }
   ],
   "source": [
    "grp = np.random.choice(df.label_group)\n",
    "df[df.label_group==grp].to_dict()"
   ]
  },
  {
   "cell_type": "code",
   "execution_count": 84,
   "metadata": {},
   "outputs": [
    {
     "data": {
      "text/plain": [
       "(34250, 28735)"
      ]
     },
     "execution_count": 84,
     "metadata": {},
     "output_type": "execute_result"
    }
   ],
   "source": [
    "len(df), df.image_phash.nunique()"
   ]
  },
  {
   "cell_type": "code",
   "execution_count": 89,
   "metadata": {},
   "outputs": [
    {
     "data": {
      "text/plain": [
       "2     6979\n",
       "3     1779\n",
       "4      862\n",
       "5      468\n",
       "6      282\n",
       "7      154\n",
       "8      118\n",
       "9       91\n",
       "10      48\n",
       "11      38\n",
       "12      39\n",
       "13      28\n",
       "14      19\n",
       "15      19\n",
       "16      13\n",
       "17       9\n",
       "18       5\n",
       "19       5\n",
       "20       6\n",
       "21       6\n",
       "22       6\n",
       "23       4\n",
       "24       2\n",
       "25       2\n",
       "26       1\n",
       "27       1\n",
       "30       1\n",
       "31       2\n",
       "32       3\n",
       "33       3\n",
       "34       3\n",
       "35       4\n",
       "36       1\n",
       "37       1\n",
       "41       1\n",
       "45       1\n",
       "46       2\n",
       "49       1\n",
       "51       7\n",
       "Name: label_group, dtype: int64"
      ]
     },
     "execution_count": 89,
     "metadata": {},
     "output_type": "execute_result"
    }
   ],
   "source": [
    "df.label_group.value_counts().value_counts().sort_index()"
   ]
  },
  {
   "cell_type": "code",
   "execution_count": null,
   "metadata": {},
   "outputs": [],
   "source": []
  },
  {
   "cell_type": "code",
   "execution_count": null,
   "metadata": {},
   "outputs": [],
   "source": []
  },
  {
   "cell_type": "code",
   "execution_count": null,
   "metadata": {},
   "outputs": [],
   "source": []
  }
 ],
 "metadata": {
  "kernelspec": {
   "display_name": "Python 3",
   "language": "python",
   "name": "python3"
  },
  "language_info": {
   "codemirror_mode": {
    "name": "ipython",
    "version": 3
   },
   "file_extension": ".py",
   "mimetype": "text/x-python",
   "name": "python",
   "nbconvert_exporter": "python",
   "pygments_lexer": "ipython3",
   "version": "3.7.6"
  },
  "toc": {
   "base_numbering": 1,
   "nav_menu": {},
   "number_sections": true,
   "sideBar": true,
   "skip_h1_title": false,
   "title_cell": "Table of Contents",
   "title_sidebar": "Contents",
   "toc_cell": false,
   "toc_position": {},
   "toc_section_display": true,
   "toc_window_display": false
  }
 },
 "nbformat": 4,
 "nbformat_minor": 4
}
