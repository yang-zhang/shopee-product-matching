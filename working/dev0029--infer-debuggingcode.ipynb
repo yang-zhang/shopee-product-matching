{
 "cells": [
  {
   "cell_type": "code",
   "execution_count": 8,
   "metadata": {},
   "outputs": [
    {
     "name": "stdout",
     "output_type": "stream",
     "text": [
      "The autoreload extension is already loaded. To reload it, use:\n",
      "  %reload_ext autoreload\n",
      "Modules to reload:\n",
      "all-except-skipped\n",
      "\n",
      "Modules to skip:\n",
      "\n",
      "Thu Apr  1 16:22:45 2021       \r\n",
      "+-----------------------------------------------------------------------------+\r\n",
      "| NVIDIA-SMI 440.59       Driver Version: 440.59       CUDA Version: 10.2     |\r\n",
      "|-------------------------------+----------------------+----------------------+\r\n",
      "| GPU  Name        Persistence-M| Bus-Id        Disp.A | Volatile Uncorr. ECC |\r\n",
      "| Fan  Temp  Perf  Pwr:Usage/Cap|         Memory-Usage | GPU-Util  Compute M. |\r\n",
      "|===============================+======================+======================|\r\n",
      "|   0  Tesla V100-SXM2...  Off  | 00000000:00:1E.0 Off |                    0 |\r\n",
      "| N/A   35C    P0    35W / 300W |   4800MiB / 16160MiB |      0%      Default |\r\n",
      "+-------------------------------+----------------------+----------------------+\r\n",
      "                                                                               \r\n",
      "+-----------------------------------------------------------------------------+\r\n",
      "| Processes:                                                       GPU Memory |\r\n",
      "|  GPU       PID   Type   Process name                             Usage      |\r\n",
      "|=============================================================================|\r\n",
      "|    0      6113      C   /data/anaconda3/envs/shopee/bin/python      4787MiB |\r\n",
      "+-----------------------------------------------------------------------------+\r\n"
     ]
    }
   ],
   "source": [
    "%load_ext autoreload\n",
    "%autoreload 2\n",
    "%aimport\n",
    "\n",
    "!nvidia-smi"
   ]
  },
  {
   "cell_type": "markdown",
   "metadata": {},
   "source": [
    "- https://www.kaggle.com/boliu0/landmark-recognition-2020-third-place-submission\n",
    "- https://github.com/haqishen/Google-Landmark-Recognition-2020-3rd-Place-Solution\n",
    "- https://www.kaggle.com/zzy990106/b0-bert-cv0-9\n",
    "- https://github.com/yang-zhang/product_category/blob/dev/notebooks/transformer_20210307E1--pin_memory."
   ]
  },
  {
   "cell_type": "code",
   "execution_count": 10,
   "metadata": {},
   "outputs": [],
   "source": [
    "HOME = \"/data/git/shopee-product-matching\"\n",
    "p_out = f'{HOME}/output/dev0029'\n",
    "!mkdir -p {p_out}\n",
    "p_prp = f'{HOME}/output/prep001/train_prep.csv'\n",
    "\n",
    "FOLD = 0\n",
    "p_trained = f'{HOME}/output/dev0028'\n",
    "\n",
    "import sys\n",
    "sys.path.append(f\"{HOME}/src\")\n",
    "\n",
    "import pandas as pd\n",
    "from pl_model import ShpModel\n",
    "import os\n",
    "import torch\n",
    "import numpy as np\n",
    "from tqdm import tqdm\n",
    "\n",
    "os.environ[\"TOKENIZERS_PARALLELISM\"] = \"false\""
   ]
  },
  {
   "cell_type": "markdown",
   "metadata": {},
   "source": [
    "# inference model"
   ]
  },
  {
   "cell_type": "code",
   "execution_count": 29,
   "metadata": {},
   "outputs": [],
   "source": [
    "import os\n",
    "import cv2\n",
    "import glob\n",
    "import math\n",
    "import pickle\n",
    "import numpy as np # linear algebra\n",
    "import pandas as pd # data processing, CSV file I/O (e.g. pd.read_csv)\n",
    "import albumentations\n",
    "import matplotlib.pyplot as plt\n",
    "from tqdm.notebook import tqdm as tqdm\n",
    "\n",
    "import torch\n",
    "from torch.utils.data import DataLoader, Dataset\n",
    "import torch.nn as nn\n",
    "import torch.nn.functional as F\n",
    "\n",
    "import geffnet"
   ]
  },
  {
   "cell_type": "code",
   "execution_count": 30,
   "metadata": {
    "execution": {
     "iopub.execute_input": "2020-10-11T09:43:44.039946Z",
     "iopub.status.busy": "2020-10-11T09:43:44.039040Z",
     "iopub.status.idle": "2020-10-11T09:43:44.043106Z",
     "shell.execute_reply": "2020-10-11T09:43:44.042562Z"
    },
    "papermill": {
     "duration": 0.044578,
     "end_time": "2020-10-11T09:43:44.043247",
     "exception": false,
     "start_time": "2020-10-11T09:43:43.998669",
     "status": "completed"
    },
    "tags": []
   },
   "outputs": [],
   "source": [
    "class ArcMarginProduct_subcenter(nn.Module):\n",
    "    def __init__(self, in_features, out_features, k=3):\n",
    "        super().__init__()\n",
    "        self.weight = nn.Parameter(torch.FloatTensor(out_features*k, in_features))\n",
    "        self.reset_parameters()\n",
    "        self.k = k\n",
    "        self.out_features = out_features\n",
    "        \n",
    "    def reset_parameters(self):\n",
    "        stdv = 1. / math.sqrt(self.weight.size(1))\n",
    "        self.weight.data.uniform_(-stdv, stdv)\n",
    "        \n",
    "    def forward(self, features):\n",
    "        cosine_all = F.linear(F.normalize(features), F.normalize(self.weight))\n",
    "        cosine_all = cosine_all.view(-1, self.out_features, self.k)\n",
    "        cosine, _ = torch.max(cosine_all, dim=2)\n",
    "        return cosine "
   ]
  },
  {
   "cell_type": "code",
   "execution_count": 31,
   "metadata": {
    "execution": {
     "iopub.execute_input": "2020-10-11T09:43:44.122857Z",
     "iopub.status.busy": "2020-10-11T09:43:44.110164Z",
     "iopub.status.idle": "2020-10-11T09:43:44.264144Z",
     "shell.execute_reply": "2020-10-11T09:43:44.262987Z"
    },
    "papermill": {
     "duration": 0.193248,
     "end_time": "2020-10-11T09:43:44.264325",
     "exception": false,
     "start_time": "2020-10-11T09:43:44.071077",
     "status": "completed"
    },
    "tags": []
   },
   "outputs": [],
   "source": [
    "sigmoid = torch.nn.Sigmoid()\n",
    "class Swish(torch.autograd.Function):\n",
    "    @staticmethod\n",
    "    def forward(ctx, i):\n",
    "        result = i * sigmoid(i)\n",
    "        ctx.save_for_backward(i)\n",
    "        return result\n",
    "    @staticmethod\n",
    "    def backward(ctx, grad_output):\n",
    "        i = ctx.saved_variables[0]\n",
    "        sigmoid_i = sigmoid(i)\n",
    "        return grad_output * (sigmoid_i * (1 + i * (1 - sigmoid_i)))\n",
    "\n",
    "class Swish_module(nn.Module):\n",
    "    def forward(self, x):\n",
    "        return Swish.apply(x)\n",
    "\n",
    "    \n",
    " \n",
    "    \n",
    "class enet_arcface_FINAL(nn.Module):\n",
    "\n",
    "    def __init__(self, enet_type, out_dim):\n",
    "        super(enet_arcface_FINAL, self).__init__()\n",
    "        self.enet = geffnet.create_model(enet_type.replace('-', '_'), pretrained=None)\n",
    "        self.feat = nn.Linear(self.enet.classifier.in_features, 512)\n",
    "        self.swish = Swish_module()\n",
    "        self.metric_classify = ArcMarginProduct_subcenter(512, out_dim)\n",
    "        self.enet.classifier = nn.Identity()\n",
    " \n",
    "    def forward(self, x):\n",
    "        x = self.enet(x)\n",
    "        x = self.swish(self.feat(x))\n",
    "        return F.normalize(x), self.metric_classify(x)\n",
    "    \n",
    "    \n",
    "from rexnetv1 import ReXNetV1\n",
    "from resnest.torch import resnest101    \n",
    "class rex20_arcface(nn.Module):\n",
    "\n",
    "    def __init__(self, enet_type, out_dim, load_pretrained=False):\n",
    "        super(rex20_arcface, self).__init__()\n",
    "        self.enet = ReXNetV1(width_mult=2.0)\n",
    "        if load_pretrained:\n",
    "            pretrain_wts = \"/workspace/rexnetv1_2.0x.pth\"            \n",
    "            sd = torch.load(pretrain_wts)\n",
    "            self.enet.load_state_dict(sd, strict=True)        \n",
    "        \n",
    "        self.feat = nn.Linear(self.enet.output[1].in_channels, 512)\n",
    "        self.swish = Swish_module()\n",
    "        self.metric_classify = ArcMarginProduct_subcenter(512, out_dim)\n",
    "        self.enet.output = nn.Identity()\n",
    "    \n",
    "    def forward(self, x):\n",
    "        x = self.enet(x)\n",
    "        if x.ndim==1: \n",
    "            x = x.unsqueeze(0)          \n",
    "        x = self.swish(self.feat(x))\n",
    "        return F.normalize(x), self.metric_classify(x)    \n",
    "    \n",
    "class nest101_arcface(nn.Module):\n",
    "\n",
    "    def __init__(self, enet_type, out_dim):\n",
    "        super(nest101_arcface, self).__init__()\n",
    "        self.enet = resnest101(pretrained=False)\n",
    "        self.feat = nn.Linear(self.enet.fc.in_features, 512)\n",
    "        self.swish = Swish_module()\n",
    "        self.metric_classify = ArcMarginProduct_subcenter(512, out_dim)\n",
    "        self.enet.fc = nn.Identity()    \n",
    "    def forward(self, x):\n",
    "        x = self.enet(x)\n",
    "        x = self.swish(self.feat(x))\n",
    "        return F.normalize(x), self.metric_classify(x)    "
   ]
  },
  {
   "cell_type": "code",
   "execution_count": 32,
   "metadata": {
    "execution": {
     "iopub.execute_input": "2020-10-11T09:43:44.328191Z",
     "iopub.status.busy": "2020-10-11T09:43:44.327584Z",
     "iopub.status.idle": "2020-10-11T09:43:44.332263Z",
     "shell.execute_reply": "2020-10-11T09:43:44.331617Z"
    },
    "papermill": {
     "duration": 0.039503,
     "end_time": "2020-10-11T09:43:44.332380",
     "exception": false,
     "start_time": "2020-10-11T09:43:44.292877",
     "status": "completed"
    },
    "tags": []
   },
   "outputs": [],
   "source": [
    "def load_model(model, model_file):\n",
    "    state_dict = torch.load(model_file)\n",
    "    if \"model_state_dict\" in state_dict.keys():\n",
    "        state_dict = state_dict[\"model_state_dict\"]\n",
    "    state_dict = {k[7:] if k.startswith('module.') else k: state_dict[k] for k in state_dict.keys()}\n",
    "#     del state_dict['metric_classify.weight']\n",
    "    model.load_state_dict(state_dict, strict=True)\n",
    "    print(f\"loaded {model_file}\")\n",
    "    model.eval()    \n",
    "    return model"
   ]
  },
  {
   "cell_type": "code",
   "execution_count": 62,
   "metadata": {
    "execution": {
     "iopub.execute_input": "2020-10-11T09:43:44.328191Z",
     "iopub.status.busy": "2020-10-11T09:43:44.327584Z",
     "iopub.status.idle": "2020-10-11T09:43:44.332263Z",
     "shell.execute_reply": "2020-10-11T09:43:44.331617Z"
    },
    "papermill": {
     "duration": 0.039503,
     "end_time": "2020-10-11T09:43:44.332380",
     "exception": false,
     "start_time": "2020-10-11T09:43:44.292877",
     "status": "completed"
    },
    "tags": []
   },
   "outputs": [],
   "source": [
    "def load_model(model, plmodel):\n",
    "    state_dict = plmodel.state_dict()\n",
    "    if \"model_state_dict\" in state_dict.keys():\n",
    "        state_dict = state_dict[\"model_state_dict\"]\n",
    "    state_dict = {k[6:] if k.startswith('model.') else k: state_dict[k] for k in state_dict.keys()}\n",
    "#     del state_dict['metric_classify.weight']\n",
    "    model.load_state_dict(state_dict, strict=True)\n",
    "    model.eval()    \n",
    "    return model"
   ]
  },
  {
   "cell_type": "code",
   "execution_count": null,
   "metadata": {},
   "outputs": [],
   "source": []
  },
  {
   "cell_type": "markdown",
   "metadata": {},
   "source": [
    "# load model"
   ]
  },
  {
   "cell_type": "code",
   "execution_count": 56,
   "metadata": {
    "scrolled": true
   },
   "outputs": [
    {
     "name": "stdout",
     "output_type": "stream",
     "text": [
      "-rw-rw-r-- 1 ubuntu ubuntu 736M Mar 31 22:45 '/data/git/shopee-product-matching/output/dev0028/tensorboard_csv/0_0/checkpoints/epoch=22-step=9866.ckpt'\r\n",
      "-rw-rw-r-- 1 ubuntu ubuntu 248M Apr  1 15:07 '/data/git/shopee-product-matching/output/dev0028/tensorboard_csv/1_1/checkpoints/epoch=28-step=12440.ckpt'\r\n"
     ]
    }
   ],
   "source": [
    "ls -hl {p_trained}/tensorboard_csv/*/checkpoints/*.ckpt"
   ]
  },
  {
   "cell_type": "code",
   "execution_count": 57,
   "metadata": {},
   "outputs": [],
   "source": [
    "shpmodel = ShpModel.load_from_checkpoint(f'{p_trained}/tensorboard_csv/1_1/checkpoints/epoch=28-step=12440.ckpt')\n",
    "out_dim = shpmodel.num_classes"
   ]
  },
  {
   "cell_type": "code",
   "execution_count": 58,
   "metadata": {},
   "outputs": [],
   "source": [
    "device = torch.device('cuda')\n",
    "batch_size = 4\n",
    "num_workers = 4\n"
   ]
  },
  {
   "cell_type": "code",
   "execution_count": 50,
   "metadata": {},
   "outputs": [],
   "source": [
    "foo = model_b0.state_dict()"
   ]
  },
  {
   "cell_type": "code",
   "execution_count": 51,
   "metadata": {
    "collapsed": true
   },
   "outputs": [
    {
     "data": {
      "text/plain": [
       "odict_keys(['enet.conv_stem.weight', 'enet.bn1.weight', 'enet.bn1.bias', 'enet.bn1.running_mean', 'enet.bn1.running_var', 'enet.bn1.num_batches_tracked', 'enet.blocks.0.0.conv_dw.weight', 'enet.blocks.0.0.bn1.weight', 'enet.blocks.0.0.bn1.bias', 'enet.blocks.0.0.bn1.running_mean', 'enet.blocks.0.0.bn1.running_var', 'enet.blocks.0.0.bn1.num_batches_tracked', 'enet.blocks.0.0.se.conv_reduce.weight', 'enet.blocks.0.0.se.conv_reduce.bias', 'enet.blocks.0.0.se.conv_expand.weight', 'enet.blocks.0.0.se.conv_expand.bias', 'enet.blocks.0.0.conv_pw.weight', 'enet.blocks.0.0.bn2.weight', 'enet.blocks.0.0.bn2.bias', 'enet.blocks.0.0.bn2.running_mean', 'enet.blocks.0.0.bn2.running_var', 'enet.blocks.0.0.bn2.num_batches_tracked', 'enet.blocks.1.0.conv_pw.weight', 'enet.blocks.1.0.bn1.weight', 'enet.blocks.1.0.bn1.bias', 'enet.blocks.1.0.bn1.running_mean', 'enet.blocks.1.0.bn1.running_var', 'enet.blocks.1.0.bn1.num_batches_tracked', 'enet.blocks.1.0.conv_dw.weight', 'enet.blocks.1.0.bn2.weight', 'enet.blocks.1.0.bn2.bias', 'enet.blocks.1.0.bn2.running_mean', 'enet.blocks.1.0.bn2.running_var', 'enet.blocks.1.0.bn2.num_batches_tracked', 'enet.blocks.1.0.se.conv_reduce.weight', 'enet.blocks.1.0.se.conv_reduce.bias', 'enet.blocks.1.0.se.conv_expand.weight', 'enet.blocks.1.0.se.conv_expand.bias', 'enet.blocks.1.0.conv_pwl.weight', 'enet.blocks.1.0.bn3.weight', 'enet.blocks.1.0.bn3.bias', 'enet.blocks.1.0.bn3.running_mean', 'enet.blocks.1.0.bn3.running_var', 'enet.blocks.1.0.bn3.num_batches_tracked', 'enet.blocks.1.1.conv_pw.weight', 'enet.blocks.1.1.bn1.weight', 'enet.blocks.1.1.bn1.bias', 'enet.blocks.1.1.bn1.running_mean', 'enet.blocks.1.1.bn1.running_var', 'enet.blocks.1.1.bn1.num_batches_tracked', 'enet.blocks.1.1.conv_dw.weight', 'enet.blocks.1.1.bn2.weight', 'enet.blocks.1.1.bn2.bias', 'enet.blocks.1.1.bn2.running_mean', 'enet.blocks.1.1.bn2.running_var', 'enet.blocks.1.1.bn2.num_batches_tracked', 'enet.blocks.1.1.se.conv_reduce.weight', 'enet.blocks.1.1.se.conv_reduce.bias', 'enet.blocks.1.1.se.conv_expand.weight', 'enet.blocks.1.1.se.conv_expand.bias', 'enet.blocks.1.1.conv_pwl.weight', 'enet.blocks.1.1.bn3.weight', 'enet.blocks.1.1.bn3.bias', 'enet.blocks.1.1.bn3.running_mean', 'enet.blocks.1.1.bn3.running_var', 'enet.blocks.1.1.bn3.num_batches_tracked', 'enet.blocks.2.0.conv_pw.weight', 'enet.blocks.2.0.bn1.weight', 'enet.blocks.2.0.bn1.bias', 'enet.blocks.2.0.bn1.running_mean', 'enet.blocks.2.0.bn1.running_var', 'enet.blocks.2.0.bn1.num_batches_tracked', 'enet.blocks.2.0.conv_dw.weight', 'enet.blocks.2.0.bn2.weight', 'enet.blocks.2.0.bn2.bias', 'enet.blocks.2.0.bn2.running_mean', 'enet.blocks.2.0.bn2.running_var', 'enet.blocks.2.0.bn2.num_batches_tracked', 'enet.blocks.2.0.se.conv_reduce.weight', 'enet.blocks.2.0.se.conv_reduce.bias', 'enet.blocks.2.0.se.conv_expand.weight', 'enet.blocks.2.0.se.conv_expand.bias', 'enet.blocks.2.0.conv_pwl.weight', 'enet.blocks.2.0.bn3.weight', 'enet.blocks.2.0.bn3.bias', 'enet.blocks.2.0.bn3.running_mean', 'enet.blocks.2.0.bn3.running_var', 'enet.blocks.2.0.bn3.num_batches_tracked', 'enet.blocks.2.1.conv_pw.weight', 'enet.blocks.2.1.bn1.weight', 'enet.blocks.2.1.bn1.bias', 'enet.blocks.2.1.bn1.running_mean', 'enet.blocks.2.1.bn1.running_var', 'enet.blocks.2.1.bn1.num_batches_tracked', 'enet.blocks.2.1.conv_dw.weight', 'enet.blocks.2.1.bn2.weight', 'enet.blocks.2.1.bn2.bias', 'enet.blocks.2.1.bn2.running_mean', 'enet.blocks.2.1.bn2.running_var', 'enet.blocks.2.1.bn2.num_batches_tracked', 'enet.blocks.2.1.se.conv_reduce.weight', 'enet.blocks.2.1.se.conv_reduce.bias', 'enet.blocks.2.1.se.conv_expand.weight', 'enet.blocks.2.1.se.conv_expand.bias', 'enet.blocks.2.1.conv_pwl.weight', 'enet.blocks.2.1.bn3.weight', 'enet.blocks.2.1.bn3.bias', 'enet.blocks.2.1.bn3.running_mean', 'enet.blocks.2.1.bn3.running_var', 'enet.blocks.2.1.bn3.num_batches_tracked', 'enet.blocks.3.0.conv_pw.weight', 'enet.blocks.3.0.bn1.weight', 'enet.blocks.3.0.bn1.bias', 'enet.blocks.3.0.bn1.running_mean', 'enet.blocks.3.0.bn1.running_var', 'enet.blocks.3.0.bn1.num_batches_tracked', 'enet.blocks.3.0.conv_dw.weight', 'enet.blocks.3.0.bn2.weight', 'enet.blocks.3.0.bn2.bias', 'enet.blocks.3.0.bn2.running_mean', 'enet.blocks.3.0.bn2.running_var', 'enet.blocks.3.0.bn2.num_batches_tracked', 'enet.blocks.3.0.se.conv_reduce.weight', 'enet.blocks.3.0.se.conv_reduce.bias', 'enet.blocks.3.0.se.conv_expand.weight', 'enet.blocks.3.0.se.conv_expand.bias', 'enet.blocks.3.0.conv_pwl.weight', 'enet.blocks.3.0.bn3.weight', 'enet.blocks.3.0.bn3.bias', 'enet.blocks.3.0.bn3.running_mean', 'enet.blocks.3.0.bn3.running_var', 'enet.blocks.3.0.bn3.num_batches_tracked', 'enet.blocks.3.1.conv_pw.weight', 'enet.blocks.3.1.bn1.weight', 'enet.blocks.3.1.bn1.bias', 'enet.blocks.3.1.bn1.running_mean', 'enet.blocks.3.1.bn1.running_var', 'enet.blocks.3.1.bn1.num_batches_tracked', 'enet.blocks.3.1.conv_dw.weight', 'enet.blocks.3.1.bn2.weight', 'enet.blocks.3.1.bn2.bias', 'enet.blocks.3.1.bn2.running_mean', 'enet.blocks.3.1.bn2.running_var', 'enet.blocks.3.1.bn2.num_batches_tracked', 'enet.blocks.3.1.se.conv_reduce.weight', 'enet.blocks.3.1.se.conv_reduce.bias', 'enet.blocks.3.1.se.conv_expand.weight', 'enet.blocks.3.1.se.conv_expand.bias', 'enet.blocks.3.1.conv_pwl.weight', 'enet.blocks.3.1.bn3.weight', 'enet.blocks.3.1.bn3.bias', 'enet.blocks.3.1.bn3.running_mean', 'enet.blocks.3.1.bn3.running_var', 'enet.blocks.3.1.bn3.num_batches_tracked', 'enet.blocks.3.2.conv_pw.weight', 'enet.blocks.3.2.bn1.weight', 'enet.blocks.3.2.bn1.bias', 'enet.blocks.3.2.bn1.running_mean', 'enet.blocks.3.2.bn1.running_var', 'enet.blocks.3.2.bn1.num_batches_tracked', 'enet.blocks.3.2.conv_dw.weight', 'enet.blocks.3.2.bn2.weight', 'enet.blocks.3.2.bn2.bias', 'enet.blocks.3.2.bn2.running_mean', 'enet.blocks.3.2.bn2.running_var', 'enet.blocks.3.2.bn2.num_batches_tracked', 'enet.blocks.3.2.se.conv_reduce.weight', 'enet.blocks.3.2.se.conv_reduce.bias', 'enet.blocks.3.2.se.conv_expand.weight', 'enet.blocks.3.2.se.conv_expand.bias', 'enet.blocks.3.2.conv_pwl.weight', 'enet.blocks.3.2.bn3.weight', 'enet.blocks.3.2.bn3.bias', 'enet.blocks.3.2.bn3.running_mean', 'enet.blocks.3.2.bn3.running_var', 'enet.blocks.3.2.bn3.num_batches_tracked', 'enet.blocks.4.0.conv_pw.weight', 'enet.blocks.4.0.bn1.weight', 'enet.blocks.4.0.bn1.bias', 'enet.blocks.4.0.bn1.running_mean', 'enet.blocks.4.0.bn1.running_var', 'enet.blocks.4.0.bn1.num_batches_tracked', 'enet.blocks.4.0.conv_dw.weight', 'enet.blocks.4.0.bn2.weight', 'enet.blocks.4.0.bn2.bias', 'enet.blocks.4.0.bn2.running_mean', 'enet.blocks.4.0.bn2.running_var', 'enet.blocks.4.0.bn2.num_batches_tracked', 'enet.blocks.4.0.se.conv_reduce.weight', 'enet.blocks.4.0.se.conv_reduce.bias', 'enet.blocks.4.0.se.conv_expand.weight', 'enet.blocks.4.0.se.conv_expand.bias', 'enet.blocks.4.0.conv_pwl.weight', 'enet.blocks.4.0.bn3.weight', 'enet.blocks.4.0.bn3.bias', 'enet.blocks.4.0.bn3.running_mean', 'enet.blocks.4.0.bn3.running_var', 'enet.blocks.4.0.bn3.num_batches_tracked', 'enet.blocks.4.1.conv_pw.weight', 'enet.blocks.4.1.bn1.weight', 'enet.blocks.4.1.bn1.bias', 'enet.blocks.4.1.bn1.running_mean', 'enet.blocks.4.1.bn1.running_var', 'enet.blocks.4.1.bn1.num_batches_tracked', 'enet.blocks.4.1.conv_dw.weight', 'enet.blocks.4.1.bn2.weight', 'enet.blocks.4.1.bn2.bias', 'enet.blocks.4.1.bn2.running_mean', 'enet.blocks.4.1.bn2.running_var', 'enet.blocks.4.1.bn2.num_batches_tracked', 'enet.blocks.4.1.se.conv_reduce.weight', 'enet.blocks.4.1.se.conv_reduce.bias', 'enet.blocks.4.1.se.conv_expand.weight', 'enet.blocks.4.1.se.conv_expand.bias', 'enet.blocks.4.1.conv_pwl.weight', 'enet.blocks.4.1.bn3.weight', 'enet.blocks.4.1.bn3.bias', 'enet.blocks.4.1.bn3.running_mean', 'enet.blocks.4.1.bn3.running_var', 'enet.blocks.4.1.bn3.num_batches_tracked', 'enet.blocks.4.2.conv_pw.weight', 'enet.blocks.4.2.bn1.weight', 'enet.blocks.4.2.bn1.bias', 'enet.blocks.4.2.bn1.running_mean', 'enet.blocks.4.2.bn1.running_var', 'enet.blocks.4.2.bn1.num_batches_tracked', 'enet.blocks.4.2.conv_dw.weight', 'enet.blocks.4.2.bn2.weight', 'enet.blocks.4.2.bn2.bias', 'enet.blocks.4.2.bn2.running_mean', 'enet.blocks.4.2.bn2.running_var', 'enet.blocks.4.2.bn2.num_batches_tracked', 'enet.blocks.4.2.se.conv_reduce.weight', 'enet.blocks.4.2.se.conv_reduce.bias', 'enet.blocks.4.2.se.conv_expand.weight', 'enet.blocks.4.2.se.conv_expand.bias', 'enet.blocks.4.2.conv_pwl.weight', 'enet.blocks.4.2.bn3.weight', 'enet.blocks.4.2.bn3.bias', 'enet.blocks.4.2.bn3.running_mean', 'enet.blocks.4.2.bn3.running_var', 'enet.blocks.4.2.bn3.num_batches_tracked', 'enet.blocks.5.0.conv_pw.weight', 'enet.blocks.5.0.bn1.weight', 'enet.blocks.5.0.bn1.bias', 'enet.blocks.5.0.bn1.running_mean', 'enet.blocks.5.0.bn1.running_var', 'enet.blocks.5.0.bn1.num_batches_tracked', 'enet.blocks.5.0.conv_dw.weight', 'enet.blocks.5.0.bn2.weight', 'enet.blocks.5.0.bn2.bias', 'enet.blocks.5.0.bn2.running_mean', 'enet.blocks.5.0.bn2.running_var', 'enet.blocks.5.0.bn2.num_batches_tracked', 'enet.blocks.5.0.se.conv_reduce.weight', 'enet.blocks.5.0.se.conv_reduce.bias', 'enet.blocks.5.0.se.conv_expand.weight', 'enet.blocks.5.0.se.conv_expand.bias', 'enet.blocks.5.0.conv_pwl.weight', 'enet.blocks.5.0.bn3.weight', 'enet.blocks.5.0.bn3.bias', 'enet.blocks.5.0.bn3.running_mean', 'enet.blocks.5.0.bn3.running_var', 'enet.blocks.5.0.bn3.num_batches_tracked', 'enet.blocks.5.1.conv_pw.weight', 'enet.blocks.5.1.bn1.weight', 'enet.blocks.5.1.bn1.bias', 'enet.blocks.5.1.bn1.running_mean', 'enet.blocks.5.1.bn1.running_var', 'enet.blocks.5.1.bn1.num_batches_tracked', 'enet.blocks.5.1.conv_dw.weight', 'enet.blocks.5.1.bn2.weight', 'enet.blocks.5.1.bn2.bias', 'enet.blocks.5.1.bn2.running_mean', 'enet.blocks.5.1.bn2.running_var', 'enet.blocks.5.1.bn2.num_batches_tracked', 'enet.blocks.5.1.se.conv_reduce.weight', 'enet.blocks.5.1.se.conv_reduce.bias', 'enet.blocks.5.1.se.conv_expand.weight', 'enet.blocks.5.1.se.conv_expand.bias', 'enet.blocks.5.1.conv_pwl.weight', 'enet.blocks.5.1.bn3.weight', 'enet.blocks.5.1.bn3.bias', 'enet.blocks.5.1.bn3.running_mean', 'enet.blocks.5.1.bn3.running_var', 'enet.blocks.5.1.bn3.num_batches_tracked', 'enet.blocks.5.2.conv_pw.weight', 'enet.blocks.5.2.bn1.weight', 'enet.blocks.5.2.bn1.bias', 'enet.blocks.5.2.bn1.running_mean', 'enet.blocks.5.2.bn1.running_var', 'enet.blocks.5.2.bn1.num_batches_tracked', 'enet.blocks.5.2.conv_dw.weight', 'enet.blocks.5.2.bn2.weight', 'enet.blocks.5.2.bn2.bias', 'enet.blocks.5.2.bn2.running_mean', 'enet.blocks.5.2.bn2.running_var', 'enet.blocks.5.2.bn2.num_batches_tracked', 'enet.blocks.5.2.se.conv_reduce.weight', 'enet.blocks.5.2.se.conv_reduce.bias', 'enet.blocks.5.2.se.conv_expand.weight', 'enet.blocks.5.2.se.conv_expand.bias', 'enet.blocks.5.2.conv_pwl.weight', 'enet.blocks.5.2.bn3.weight', 'enet.blocks.5.2.bn3.bias', 'enet.blocks.5.2.bn3.running_mean', 'enet.blocks.5.2.bn3.running_var', 'enet.blocks.5.2.bn3.num_batches_tracked', 'enet.blocks.5.3.conv_pw.weight', 'enet.blocks.5.3.bn1.weight', 'enet.blocks.5.3.bn1.bias', 'enet.blocks.5.3.bn1.running_mean', 'enet.blocks.5.3.bn1.running_var', 'enet.blocks.5.3.bn1.num_batches_tracked', 'enet.blocks.5.3.conv_dw.weight', 'enet.blocks.5.3.bn2.weight', 'enet.blocks.5.3.bn2.bias', 'enet.blocks.5.3.bn2.running_mean', 'enet.blocks.5.3.bn2.running_var', 'enet.blocks.5.3.bn2.num_batches_tracked', 'enet.blocks.5.3.se.conv_reduce.weight', 'enet.blocks.5.3.se.conv_reduce.bias', 'enet.blocks.5.3.se.conv_expand.weight', 'enet.blocks.5.3.se.conv_expand.bias', 'enet.blocks.5.3.conv_pwl.weight', 'enet.blocks.5.3.bn3.weight', 'enet.blocks.5.3.bn3.bias', 'enet.blocks.5.3.bn3.running_mean', 'enet.blocks.5.3.bn3.running_var', 'enet.blocks.5.3.bn3.num_batches_tracked', 'enet.blocks.6.0.conv_pw.weight', 'enet.blocks.6.0.bn1.weight', 'enet.blocks.6.0.bn1.bias', 'enet.blocks.6.0.bn1.running_mean', 'enet.blocks.6.0.bn1.running_var', 'enet.blocks.6.0.bn1.num_batches_tracked', 'enet.blocks.6.0.conv_dw.weight', 'enet.blocks.6.0.bn2.weight', 'enet.blocks.6.0.bn2.bias', 'enet.blocks.6.0.bn2.running_mean', 'enet.blocks.6.0.bn2.running_var', 'enet.blocks.6.0.bn2.num_batches_tracked', 'enet.blocks.6.0.se.conv_reduce.weight', 'enet.blocks.6.0.se.conv_reduce.bias', 'enet.blocks.6.0.se.conv_expand.weight', 'enet.blocks.6.0.se.conv_expand.bias', 'enet.blocks.6.0.conv_pwl.weight', 'enet.blocks.6.0.bn3.weight', 'enet.blocks.6.0.bn3.bias', 'enet.blocks.6.0.bn3.running_mean', 'enet.blocks.6.0.bn3.running_var', 'enet.blocks.6.0.bn3.num_batches_tracked', 'enet.conv_head.weight', 'enet.bn2.weight', 'enet.bn2.bias', 'enet.bn2.running_mean', 'enet.bn2.running_var', 'enet.bn2.num_batches_tracked', 'feat.weight', 'feat.bias', 'metric_classify.weight'])"
      ]
     },
     "execution_count": 51,
     "metadata": {},
     "output_type": "execute_result"
    }
   ],
   "source": [
    "foo.keys()"
   ]
  },
  {
   "cell_type": "code",
   "execution_count": 52,
   "metadata": {},
   "outputs": [],
   "source": [
    "bar = shpmodel.state_dict()"
   ]
  },
  {
   "cell_type": "code",
   "execution_count": 53,
   "metadata": {
    "scrolled": true
   },
   "outputs": [
    {
     "data": {
      "text/plain": [
       "odict_keys(['enet.conv_stem.weight', 'enet.bn1.weight', 'enet.bn1.bias', 'enet.bn1.running_mean', 'enet.bn1.running_var', 'enet.bn1.num_batches_tracked', 'enet.blocks.0.0.conv_dw.weight', 'enet.blocks.0.0.bn1.weight', 'enet.blocks.0.0.bn1.bias', 'enet.blocks.0.0.bn1.running_mean', 'enet.blocks.0.0.bn1.running_var', 'enet.blocks.0.0.bn1.num_batches_tracked', 'enet.blocks.0.0.se.conv_reduce.weight', 'enet.blocks.0.0.se.conv_reduce.bias', 'enet.blocks.0.0.se.conv_expand.weight', 'enet.blocks.0.0.se.conv_expand.bias', 'enet.blocks.0.0.conv_pw.weight', 'enet.blocks.0.0.bn2.weight', 'enet.blocks.0.0.bn2.bias', 'enet.blocks.0.0.bn2.running_mean', 'enet.blocks.0.0.bn2.running_var', 'enet.blocks.0.0.bn2.num_batches_tracked', 'enet.blocks.1.0.conv_pw.weight', 'enet.blocks.1.0.bn1.weight', 'enet.blocks.1.0.bn1.bias', 'enet.blocks.1.0.bn1.running_mean', 'enet.blocks.1.0.bn1.running_var', 'enet.blocks.1.0.bn1.num_batches_tracked', 'enet.blocks.1.0.conv_dw.weight', 'enet.blocks.1.0.bn2.weight', 'enet.blocks.1.0.bn2.bias', 'enet.blocks.1.0.bn2.running_mean', 'enet.blocks.1.0.bn2.running_var', 'enet.blocks.1.0.bn2.num_batches_tracked', 'enet.blocks.1.0.se.conv_reduce.weight', 'enet.blocks.1.0.se.conv_reduce.bias', 'enet.blocks.1.0.se.conv_expand.weight', 'enet.blocks.1.0.se.conv_expand.bias', 'enet.blocks.1.0.conv_pwl.weight', 'enet.blocks.1.0.bn3.weight', 'enet.blocks.1.0.bn3.bias', 'enet.blocks.1.0.bn3.running_mean', 'enet.blocks.1.0.bn3.running_var', 'enet.blocks.1.0.bn3.num_batches_tracked', 'enet.blocks.1.1.conv_pw.weight', 'enet.blocks.1.1.bn1.weight', 'enet.blocks.1.1.bn1.bias', 'enet.blocks.1.1.bn1.running_mean', 'enet.blocks.1.1.bn1.running_var', 'enet.blocks.1.1.bn1.num_batches_tracked', 'enet.blocks.1.1.conv_dw.weight', 'enet.blocks.1.1.bn2.weight', 'enet.blocks.1.1.bn2.bias', 'enet.blocks.1.1.bn2.running_mean', 'enet.blocks.1.1.bn2.running_var', 'enet.blocks.1.1.bn2.num_batches_tracked', 'enet.blocks.1.1.se.conv_reduce.weight', 'enet.blocks.1.1.se.conv_reduce.bias', 'enet.blocks.1.1.se.conv_expand.weight', 'enet.blocks.1.1.se.conv_expand.bias', 'enet.blocks.1.1.conv_pwl.weight', 'enet.blocks.1.1.bn3.weight', 'enet.blocks.1.1.bn3.bias', 'enet.blocks.1.1.bn3.running_mean', 'enet.blocks.1.1.bn3.running_var', 'enet.blocks.1.1.bn3.num_batches_tracked', 'enet.blocks.2.0.conv_pw.weight', 'enet.blocks.2.0.bn1.weight', 'enet.blocks.2.0.bn1.bias', 'enet.blocks.2.0.bn1.running_mean', 'enet.blocks.2.0.bn1.running_var', 'enet.blocks.2.0.bn1.num_batches_tracked', 'enet.blocks.2.0.conv_dw.weight', 'enet.blocks.2.0.bn2.weight', 'enet.blocks.2.0.bn2.bias', 'enet.blocks.2.0.bn2.running_mean', 'enet.blocks.2.0.bn2.running_var', 'enet.blocks.2.0.bn2.num_batches_tracked', 'enet.blocks.2.0.se.conv_reduce.weight', 'enet.blocks.2.0.se.conv_reduce.bias', 'enet.blocks.2.0.se.conv_expand.weight', 'enet.blocks.2.0.se.conv_expand.bias', 'enet.blocks.2.0.conv_pwl.weight', 'enet.blocks.2.0.bn3.weight', 'enet.blocks.2.0.bn3.bias', 'enet.blocks.2.0.bn3.running_mean', 'enet.blocks.2.0.bn3.running_var', 'enet.blocks.2.0.bn3.num_batches_tracked', 'enet.blocks.2.1.conv_pw.weight', 'enet.blocks.2.1.bn1.weight', 'enet.blocks.2.1.bn1.bias', 'enet.blocks.2.1.bn1.running_mean', 'enet.blocks.2.1.bn1.running_var', 'enet.blocks.2.1.bn1.num_batches_tracked', 'enet.blocks.2.1.conv_dw.weight', 'enet.blocks.2.1.bn2.weight', 'enet.blocks.2.1.bn2.bias', 'enet.blocks.2.1.bn2.running_mean', 'enet.blocks.2.1.bn2.running_var', 'enet.blocks.2.1.bn2.num_batches_tracked', 'enet.blocks.2.1.se.conv_reduce.weight', 'enet.blocks.2.1.se.conv_reduce.bias', 'enet.blocks.2.1.se.conv_expand.weight', 'enet.blocks.2.1.se.conv_expand.bias', 'enet.blocks.2.1.conv_pwl.weight', 'enet.blocks.2.1.bn3.weight', 'enet.blocks.2.1.bn3.bias', 'enet.blocks.2.1.bn3.running_mean', 'enet.blocks.2.1.bn3.running_var', 'enet.blocks.2.1.bn3.num_batches_tracked', 'enet.blocks.3.0.conv_pw.weight', 'enet.blocks.3.0.bn1.weight', 'enet.blocks.3.0.bn1.bias', 'enet.blocks.3.0.bn1.running_mean', 'enet.blocks.3.0.bn1.running_var', 'enet.blocks.3.0.bn1.num_batches_tracked', 'enet.blocks.3.0.conv_dw.weight', 'enet.blocks.3.0.bn2.weight', 'enet.blocks.3.0.bn2.bias', 'enet.blocks.3.0.bn2.running_mean', 'enet.blocks.3.0.bn2.running_var', 'enet.blocks.3.0.bn2.num_batches_tracked', 'enet.blocks.3.0.se.conv_reduce.weight', 'enet.blocks.3.0.se.conv_reduce.bias', 'enet.blocks.3.0.se.conv_expand.weight', 'enet.blocks.3.0.se.conv_expand.bias', 'enet.blocks.3.0.conv_pwl.weight', 'enet.blocks.3.0.bn3.weight', 'enet.blocks.3.0.bn3.bias', 'enet.blocks.3.0.bn3.running_mean', 'enet.blocks.3.0.bn3.running_var', 'enet.blocks.3.0.bn3.num_batches_tracked', 'enet.blocks.3.1.conv_pw.weight', 'enet.blocks.3.1.bn1.weight', 'enet.blocks.3.1.bn1.bias', 'enet.blocks.3.1.bn1.running_mean', 'enet.blocks.3.1.bn1.running_var', 'enet.blocks.3.1.bn1.num_batches_tracked', 'enet.blocks.3.1.conv_dw.weight', 'enet.blocks.3.1.bn2.weight', 'enet.blocks.3.1.bn2.bias', 'enet.blocks.3.1.bn2.running_mean', 'enet.blocks.3.1.bn2.running_var', 'enet.blocks.3.1.bn2.num_batches_tracked', 'enet.blocks.3.1.se.conv_reduce.weight', 'enet.blocks.3.1.se.conv_reduce.bias', 'enet.blocks.3.1.se.conv_expand.weight', 'enet.blocks.3.1.se.conv_expand.bias', 'enet.blocks.3.1.conv_pwl.weight', 'enet.blocks.3.1.bn3.weight', 'enet.blocks.3.1.bn3.bias', 'enet.blocks.3.1.bn3.running_mean', 'enet.blocks.3.1.bn3.running_var', 'enet.blocks.3.1.bn3.num_batches_tracked', 'enet.blocks.3.2.conv_pw.weight', 'enet.blocks.3.2.bn1.weight', 'enet.blocks.3.2.bn1.bias', 'enet.blocks.3.2.bn1.running_mean', 'enet.blocks.3.2.bn1.running_var', 'enet.blocks.3.2.bn1.num_batches_tracked', 'enet.blocks.3.2.conv_dw.weight', 'enet.blocks.3.2.bn2.weight', 'enet.blocks.3.2.bn2.bias', 'enet.blocks.3.2.bn2.running_mean', 'enet.blocks.3.2.bn2.running_var', 'enet.blocks.3.2.bn2.num_batches_tracked', 'enet.blocks.3.2.se.conv_reduce.weight', 'enet.blocks.3.2.se.conv_reduce.bias', 'enet.blocks.3.2.se.conv_expand.weight', 'enet.blocks.3.2.se.conv_expand.bias', 'enet.blocks.3.2.conv_pwl.weight', 'enet.blocks.3.2.bn3.weight', 'enet.blocks.3.2.bn3.bias', 'enet.blocks.3.2.bn3.running_mean', 'enet.blocks.3.2.bn3.running_var', 'enet.blocks.3.2.bn3.num_batches_tracked', 'enet.blocks.4.0.conv_pw.weight', 'enet.blocks.4.0.bn1.weight', 'enet.blocks.4.0.bn1.bias', 'enet.blocks.4.0.bn1.running_mean', 'enet.blocks.4.0.bn1.running_var', 'enet.blocks.4.0.bn1.num_batches_tracked', 'enet.blocks.4.0.conv_dw.weight', 'enet.blocks.4.0.bn2.weight', 'enet.blocks.4.0.bn2.bias', 'enet.blocks.4.0.bn2.running_mean', 'enet.blocks.4.0.bn2.running_var', 'enet.blocks.4.0.bn2.num_batches_tracked', 'enet.blocks.4.0.se.conv_reduce.weight', 'enet.blocks.4.0.se.conv_reduce.bias', 'enet.blocks.4.0.se.conv_expand.weight', 'enet.blocks.4.0.se.conv_expand.bias', 'enet.blocks.4.0.conv_pwl.weight', 'enet.blocks.4.0.bn3.weight', 'enet.blocks.4.0.bn3.bias', 'enet.blocks.4.0.bn3.running_mean', 'enet.blocks.4.0.bn3.running_var', 'enet.blocks.4.0.bn3.num_batches_tracked', 'enet.blocks.4.1.conv_pw.weight', 'enet.blocks.4.1.bn1.weight', 'enet.blocks.4.1.bn1.bias', 'enet.blocks.4.1.bn1.running_mean', 'enet.blocks.4.1.bn1.running_var', 'enet.blocks.4.1.bn1.num_batches_tracked', 'enet.blocks.4.1.conv_dw.weight', 'enet.blocks.4.1.bn2.weight', 'enet.blocks.4.1.bn2.bias', 'enet.blocks.4.1.bn2.running_mean', 'enet.blocks.4.1.bn2.running_var', 'enet.blocks.4.1.bn2.num_batches_tracked', 'enet.blocks.4.1.se.conv_reduce.weight', 'enet.blocks.4.1.se.conv_reduce.bias', 'enet.blocks.4.1.se.conv_expand.weight', 'enet.blocks.4.1.se.conv_expand.bias', 'enet.blocks.4.1.conv_pwl.weight', 'enet.blocks.4.1.bn3.weight', 'enet.blocks.4.1.bn3.bias', 'enet.blocks.4.1.bn3.running_mean', 'enet.blocks.4.1.bn3.running_var', 'enet.blocks.4.1.bn3.num_batches_tracked', 'enet.blocks.4.2.conv_pw.weight', 'enet.blocks.4.2.bn1.weight', 'enet.blocks.4.2.bn1.bias', 'enet.blocks.4.2.bn1.running_mean', 'enet.blocks.4.2.bn1.running_var', 'enet.blocks.4.2.bn1.num_batches_tracked', 'enet.blocks.4.2.conv_dw.weight', 'enet.blocks.4.2.bn2.weight', 'enet.blocks.4.2.bn2.bias', 'enet.blocks.4.2.bn2.running_mean', 'enet.blocks.4.2.bn2.running_var', 'enet.blocks.4.2.bn2.num_batches_tracked', 'enet.blocks.4.2.se.conv_reduce.weight', 'enet.blocks.4.2.se.conv_reduce.bias', 'enet.blocks.4.2.se.conv_expand.weight', 'enet.blocks.4.2.se.conv_expand.bias', 'enet.blocks.4.2.conv_pwl.weight', 'enet.blocks.4.2.bn3.weight', 'enet.blocks.4.2.bn3.bias', 'enet.blocks.4.2.bn3.running_mean', 'enet.blocks.4.2.bn3.running_var', 'enet.blocks.4.2.bn3.num_batches_tracked', 'enet.blocks.5.0.conv_pw.weight', 'enet.blocks.5.0.bn1.weight', 'enet.blocks.5.0.bn1.bias', 'enet.blocks.5.0.bn1.running_mean', 'enet.blocks.5.0.bn1.running_var', 'enet.blocks.5.0.bn1.num_batches_tracked', 'enet.blocks.5.0.conv_dw.weight', 'enet.blocks.5.0.bn2.weight', 'enet.blocks.5.0.bn2.bias', 'enet.blocks.5.0.bn2.running_mean', 'enet.blocks.5.0.bn2.running_var', 'enet.blocks.5.0.bn2.num_batches_tracked', 'enet.blocks.5.0.se.conv_reduce.weight', 'enet.blocks.5.0.se.conv_reduce.bias', 'enet.blocks.5.0.se.conv_expand.weight', 'enet.blocks.5.0.se.conv_expand.bias', 'enet.blocks.5.0.conv_pwl.weight', 'enet.blocks.5.0.bn3.weight', 'enet.blocks.5.0.bn3.bias', 'enet.blocks.5.0.bn3.running_mean', 'enet.blocks.5.0.bn3.running_var', 'enet.blocks.5.0.bn3.num_batches_tracked', 'enet.blocks.5.1.conv_pw.weight', 'enet.blocks.5.1.bn1.weight', 'enet.blocks.5.1.bn1.bias', 'enet.blocks.5.1.bn1.running_mean', 'enet.blocks.5.1.bn1.running_var', 'enet.blocks.5.1.bn1.num_batches_tracked', 'enet.blocks.5.1.conv_dw.weight', 'enet.blocks.5.1.bn2.weight', 'enet.blocks.5.1.bn2.bias', 'enet.blocks.5.1.bn2.running_mean', 'enet.blocks.5.1.bn2.running_var', 'enet.blocks.5.1.bn2.num_batches_tracked', 'enet.blocks.5.1.se.conv_reduce.weight', 'enet.blocks.5.1.se.conv_reduce.bias', 'enet.blocks.5.1.se.conv_expand.weight', 'enet.blocks.5.1.se.conv_expand.bias', 'enet.blocks.5.1.conv_pwl.weight', 'enet.blocks.5.1.bn3.weight', 'enet.blocks.5.1.bn3.bias', 'enet.blocks.5.1.bn3.running_mean', 'enet.blocks.5.1.bn3.running_var', 'enet.blocks.5.1.bn3.num_batches_tracked', 'enet.blocks.5.2.conv_pw.weight', 'enet.blocks.5.2.bn1.weight', 'enet.blocks.5.2.bn1.bias', 'enet.blocks.5.2.bn1.running_mean', 'enet.blocks.5.2.bn1.running_var', 'enet.blocks.5.2.bn1.num_batches_tracked', 'enet.blocks.5.2.conv_dw.weight', 'enet.blocks.5.2.bn2.weight', 'enet.blocks.5.2.bn2.bias', 'enet.blocks.5.2.bn2.running_mean', 'enet.blocks.5.2.bn2.running_var', 'enet.blocks.5.2.bn2.num_batches_tracked', 'enet.blocks.5.2.se.conv_reduce.weight', 'enet.blocks.5.2.se.conv_reduce.bias', 'enet.blocks.5.2.se.conv_expand.weight', 'enet.blocks.5.2.se.conv_expand.bias', 'enet.blocks.5.2.conv_pwl.weight', 'enet.blocks.5.2.bn3.weight', 'enet.blocks.5.2.bn3.bias', 'enet.blocks.5.2.bn3.running_mean', 'enet.blocks.5.2.bn3.running_var', 'enet.blocks.5.2.bn3.num_batches_tracked', 'enet.blocks.5.3.conv_pw.weight', 'enet.blocks.5.3.bn1.weight', 'enet.blocks.5.3.bn1.bias', 'enet.blocks.5.3.bn1.running_mean', 'enet.blocks.5.3.bn1.running_var', 'enet.blocks.5.3.bn1.num_batches_tracked', 'enet.blocks.5.3.conv_dw.weight', 'enet.blocks.5.3.bn2.weight', 'enet.blocks.5.3.bn2.bias', 'enet.blocks.5.3.bn2.running_mean', 'enet.blocks.5.3.bn2.running_var', 'enet.blocks.5.3.bn2.num_batches_tracked', 'enet.blocks.5.3.se.conv_reduce.weight', 'enet.blocks.5.3.se.conv_reduce.bias', 'enet.blocks.5.3.se.conv_expand.weight', 'enet.blocks.5.3.se.conv_expand.bias', 'enet.blocks.5.3.conv_pwl.weight', 'enet.blocks.5.3.bn3.weight', 'enet.blocks.5.3.bn3.bias', 'enet.blocks.5.3.bn3.running_mean', 'enet.blocks.5.3.bn3.running_var', 'enet.blocks.5.3.bn3.num_batches_tracked', 'enet.blocks.6.0.conv_pw.weight', 'enet.blocks.6.0.bn1.weight', 'enet.blocks.6.0.bn1.bias', 'enet.blocks.6.0.bn1.running_mean', 'enet.blocks.6.0.bn1.running_var', 'enet.blocks.6.0.bn1.num_batches_tracked', 'enet.blocks.6.0.conv_dw.weight', 'enet.blocks.6.0.bn2.weight', 'enet.blocks.6.0.bn2.bias', 'enet.blocks.6.0.bn2.running_mean', 'enet.blocks.6.0.bn2.running_var', 'enet.blocks.6.0.bn2.num_batches_tracked', 'enet.blocks.6.0.se.conv_reduce.weight', 'enet.blocks.6.0.se.conv_reduce.bias', 'enet.blocks.6.0.se.conv_expand.weight', 'enet.blocks.6.0.se.conv_expand.bias', 'enet.blocks.6.0.conv_pwl.weight', 'enet.blocks.6.0.bn3.weight', 'enet.blocks.6.0.bn3.bias', 'enet.blocks.6.0.bn3.running_mean', 'enet.blocks.6.0.bn3.running_var', 'enet.blocks.6.0.bn3.num_batches_tracked', 'enet.conv_head.weight', 'enet.bn2.weight', 'enet.bn2.bias', 'enet.bn2.running_mean', 'enet.bn2.running_var', 'enet.bn2.num_batches_tracked', 'feat.weight', 'feat.bias', 'metric_classify.weight'])"
      ]
     },
     "execution_count": 53,
     "metadata": {},
     "output_type": "execute_result"
    }
   ],
   "source": [
    "foo.keys()"
   ]
  },
  {
   "cell_type": "code",
   "execution_count": 54,
   "metadata": {},
   "outputs": [
    {
     "data": {
      "text/plain": [
       "odict_keys(['model.enet.conv_stem.weight', 'model.enet.bn1.weight', 'model.enet.bn1.bias', 'model.enet.bn1.running_mean', 'model.enet.bn1.running_var', 'model.enet.bn1.num_batches_tracked', 'model.enet.blocks.0.0.conv_dw.weight', 'model.enet.blocks.0.0.bn1.weight', 'model.enet.blocks.0.0.bn1.bias', 'model.enet.blocks.0.0.bn1.running_mean', 'model.enet.blocks.0.0.bn1.running_var', 'model.enet.blocks.0.0.bn1.num_batches_tracked', 'model.enet.blocks.0.0.se.conv_reduce.weight', 'model.enet.blocks.0.0.se.conv_reduce.bias', 'model.enet.blocks.0.0.se.conv_expand.weight', 'model.enet.blocks.0.0.se.conv_expand.bias', 'model.enet.blocks.0.0.conv_pw.weight', 'model.enet.blocks.0.0.bn2.weight', 'model.enet.blocks.0.0.bn2.bias', 'model.enet.blocks.0.0.bn2.running_mean', 'model.enet.blocks.0.0.bn2.running_var', 'model.enet.blocks.0.0.bn2.num_batches_tracked', 'model.enet.blocks.1.0.conv_pw.weight', 'model.enet.blocks.1.0.bn1.weight', 'model.enet.blocks.1.0.bn1.bias', 'model.enet.blocks.1.0.bn1.running_mean', 'model.enet.blocks.1.0.bn1.running_var', 'model.enet.blocks.1.0.bn1.num_batches_tracked', 'model.enet.blocks.1.0.conv_dw.weight', 'model.enet.blocks.1.0.bn2.weight', 'model.enet.blocks.1.0.bn2.bias', 'model.enet.blocks.1.0.bn2.running_mean', 'model.enet.blocks.1.0.bn2.running_var', 'model.enet.blocks.1.0.bn2.num_batches_tracked', 'model.enet.blocks.1.0.se.conv_reduce.weight', 'model.enet.blocks.1.0.se.conv_reduce.bias', 'model.enet.blocks.1.0.se.conv_expand.weight', 'model.enet.blocks.1.0.se.conv_expand.bias', 'model.enet.blocks.1.0.conv_pwl.weight', 'model.enet.blocks.1.0.bn3.weight', 'model.enet.blocks.1.0.bn3.bias', 'model.enet.blocks.1.0.bn3.running_mean', 'model.enet.blocks.1.0.bn3.running_var', 'model.enet.blocks.1.0.bn3.num_batches_tracked', 'model.enet.blocks.1.1.conv_pw.weight', 'model.enet.blocks.1.1.bn1.weight', 'model.enet.blocks.1.1.bn1.bias', 'model.enet.blocks.1.1.bn1.running_mean', 'model.enet.blocks.1.1.bn1.running_var', 'model.enet.blocks.1.1.bn1.num_batches_tracked', 'model.enet.blocks.1.1.conv_dw.weight', 'model.enet.blocks.1.1.bn2.weight', 'model.enet.blocks.1.1.bn2.bias', 'model.enet.blocks.1.1.bn2.running_mean', 'model.enet.blocks.1.1.bn2.running_var', 'model.enet.blocks.1.1.bn2.num_batches_tracked', 'model.enet.blocks.1.1.se.conv_reduce.weight', 'model.enet.blocks.1.1.se.conv_reduce.bias', 'model.enet.blocks.1.1.se.conv_expand.weight', 'model.enet.blocks.1.1.se.conv_expand.bias', 'model.enet.blocks.1.1.conv_pwl.weight', 'model.enet.blocks.1.1.bn3.weight', 'model.enet.blocks.1.1.bn3.bias', 'model.enet.blocks.1.1.bn3.running_mean', 'model.enet.blocks.1.1.bn3.running_var', 'model.enet.blocks.1.1.bn3.num_batches_tracked', 'model.enet.blocks.2.0.conv_pw.weight', 'model.enet.blocks.2.0.bn1.weight', 'model.enet.blocks.2.0.bn1.bias', 'model.enet.blocks.2.0.bn1.running_mean', 'model.enet.blocks.2.0.bn1.running_var', 'model.enet.blocks.2.0.bn1.num_batches_tracked', 'model.enet.blocks.2.0.conv_dw.weight', 'model.enet.blocks.2.0.bn2.weight', 'model.enet.blocks.2.0.bn2.bias', 'model.enet.blocks.2.0.bn2.running_mean', 'model.enet.blocks.2.0.bn2.running_var', 'model.enet.blocks.2.0.bn2.num_batches_tracked', 'model.enet.blocks.2.0.se.conv_reduce.weight', 'model.enet.blocks.2.0.se.conv_reduce.bias', 'model.enet.blocks.2.0.se.conv_expand.weight', 'model.enet.blocks.2.0.se.conv_expand.bias', 'model.enet.blocks.2.0.conv_pwl.weight', 'model.enet.blocks.2.0.bn3.weight', 'model.enet.blocks.2.0.bn3.bias', 'model.enet.blocks.2.0.bn3.running_mean', 'model.enet.blocks.2.0.bn3.running_var', 'model.enet.blocks.2.0.bn3.num_batches_tracked', 'model.enet.blocks.2.1.conv_pw.weight', 'model.enet.blocks.2.1.bn1.weight', 'model.enet.blocks.2.1.bn1.bias', 'model.enet.blocks.2.1.bn1.running_mean', 'model.enet.blocks.2.1.bn1.running_var', 'model.enet.blocks.2.1.bn1.num_batches_tracked', 'model.enet.blocks.2.1.conv_dw.weight', 'model.enet.blocks.2.1.bn2.weight', 'model.enet.blocks.2.1.bn2.bias', 'model.enet.blocks.2.1.bn2.running_mean', 'model.enet.blocks.2.1.bn2.running_var', 'model.enet.blocks.2.1.bn2.num_batches_tracked', 'model.enet.blocks.2.1.se.conv_reduce.weight', 'model.enet.blocks.2.1.se.conv_reduce.bias', 'model.enet.blocks.2.1.se.conv_expand.weight', 'model.enet.blocks.2.1.se.conv_expand.bias', 'model.enet.blocks.2.1.conv_pwl.weight', 'model.enet.blocks.2.1.bn3.weight', 'model.enet.blocks.2.1.bn3.bias', 'model.enet.blocks.2.1.bn3.running_mean', 'model.enet.blocks.2.1.bn3.running_var', 'model.enet.blocks.2.1.bn3.num_batches_tracked', 'model.enet.blocks.3.0.conv_pw.weight', 'model.enet.blocks.3.0.bn1.weight', 'model.enet.blocks.3.0.bn1.bias', 'model.enet.blocks.3.0.bn1.running_mean', 'model.enet.blocks.3.0.bn1.running_var', 'model.enet.blocks.3.0.bn1.num_batches_tracked', 'model.enet.blocks.3.0.conv_dw.weight', 'model.enet.blocks.3.0.bn2.weight', 'model.enet.blocks.3.0.bn2.bias', 'model.enet.blocks.3.0.bn2.running_mean', 'model.enet.blocks.3.0.bn2.running_var', 'model.enet.blocks.3.0.bn2.num_batches_tracked', 'model.enet.blocks.3.0.se.conv_reduce.weight', 'model.enet.blocks.3.0.se.conv_reduce.bias', 'model.enet.blocks.3.0.se.conv_expand.weight', 'model.enet.blocks.3.0.se.conv_expand.bias', 'model.enet.blocks.3.0.conv_pwl.weight', 'model.enet.blocks.3.0.bn3.weight', 'model.enet.blocks.3.0.bn3.bias', 'model.enet.blocks.3.0.bn3.running_mean', 'model.enet.blocks.3.0.bn3.running_var', 'model.enet.blocks.3.0.bn3.num_batches_tracked', 'model.enet.blocks.3.1.conv_pw.weight', 'model.enet.blocks.3.1.bn1.weight', 'model.enet.blocks.3.1.bn1.bias', 'model.enet.blocks.3.1.bn1.running_mean', 'model.enet.blocks.3.1.bn1.running_var', 'model.enet.blocks.3.1.bn1.num_batches_tracked', 'model.enet.blocks.3.1.conv_dw.weight', 'model.enet.blocks.3.1.bn2.weight', 'model.enet.blocks.3.1.bn2.bias', 'model.enet.blocks.3.1.bn2.running_mean', 'model.enet.blocks.3.1.bn2.running_var', 'model.enet.blocks.3.1.bn2.num_batches_tracked', 'model.enet.blocks.3.1.se.conv_reduce.weight', 'model.enet.blocks.3.1.se.conv_reduce.bias', 'model.enet.blocks.3.1.se.conv_expand.weight', 'model.enet.blocks.3.1.se.conv_expand.bias', 'model.enet.blocks.3.1.conv_pwl.weight', 'model.enet.blocks.3.1.bn3.weight', 'model.enet.blocks.3.1.bn3.bias', 'model.enet.blocks.3.1.bn3.running_mean', 'model.enet.blocks.3.1.bn3.running_var', 'model.enet.blocks.3.1.bn3.num_batches_tracked', 'model.enet.blocks.3.2.conv_pw.weight', 'model.enet.blocks.3.2.bn1.weight', 'model.enet.blocks.3.2.bn1.bias', 'model.enet.blocks.3.2.bn1.running_mean', 'model.enet.blocks.3.2.bn1.running_var', 'model.enet.blocks.3.2.bn1.num_batches_tracked', 'model.enet.blocks.3.2.conv_dw.weight', 'model.enet.blocks.3.2.bn2.weight', 'model.enet.blocks.3.2.bn2.bias', 'model.enet.blocks.3.2.bn2.running_mean', 'model.enet.blocks.3.2.bn2.running_var', 'model.enet.blocks.3.2.bn2.num_batches_tracked', 'model.enet.blocks.3.2.se.conv_reduce.weight', 'model.enet.blocks.3.2.se.conv_reduce.bias', 'model.enet.blocks.3.2.se.conv_expand.weight', 'model.enet.blocks.3.2.se.conv_expand.bias', 'model.enet.blocks.3.2.conv_pwl.weight', 'model.enet.blocks.3.2.bn3.weight', 'model.enet.blocks.3.2.bn3.bias', 'model.enet.blocks.3.2.bn3.running_mean', 'model.enet.blocks.3.2.bn3.running_var', 'model.enet.blocks.3.2.bn3.num_batches_tracked', 'model.enet.blocks.4.0.conv_pw.weight', 'model.enet.blocks.4.0.bn1.weight', 'model.enet.blocks.4.0.bn1.bias', 'model.enet.blocks.4.0.bn1.running_mean', 'model.enet.blocks.4.0.bn1.running_var', 'model.enet.blocks.4.0.bn1.num_batches_tracked', 'model.enet.blocks.4.0.conv_dw.weight', 'model.enet.blocks.4.0.bn2.weight', 'model.enet.blocks.4.0.bn2.bias', 'model.enet.blocks.4.0.bn2.running_mean', 'model.enet.blocks.4.0.bn2.running_var', 'model.enet.blocks.4.0.bn2.num_batches_tracked', 'model.enet.blocks.4.0.se.conv_reduce.weight', 'model.enet.blocks.4.0.se.conv_reduce.bias', 'model.enet.blocks.4.0.se.conv_expand.weight', 'model.enet.blocks.4.0.se.conv_expand.bias', 'model.enet.blocks.4.0.conv_pwl.weight', 'model.enet.blocks.4.0.bn3.weight', 'model.enet.blocks.4.0.bn3.bias', 'model.enet.blocks.4.0.bn3.running_mean', 'model.enet.blocks.4.0.bn3.running_var', 'model.enet.blocks.4.0.bn3.num_batches_tracked', 'model.enet.blocks.4.1.conv_pw.weight', 'model.enet.blocks.4.1.bn1.weight', 'model.enet.blocks.4.1.bn1.bias', 'model.enet.blocks.4.1.bn1.running_mean', 'model.enet.blocks.4.1.bn1.running_var', 'model.enet.blocks.4.1.bn1.num_batches_tracked', 'model.enet.blocks.4.1.conv_dw.weight', 'model.enet.blocks.4.1.bn2.weight', 'model.enet.blocks.4.1.bn2.bias', 'model.enet.blocks.4.1.bn2.running_mean', 'model.enet.blocks.4.1.bn2.running_var', 'model.enet.blocks.4.1.bn2.num_batches_tracked', 'model.enet.blocks.4.1.se.conv_reduce.weight', 'model.enet.blocks.4.1.se.conv_reduce.bias', 'model.enet.blocks.4.1.se.conv_expand.weight', 'model.enet.blocks.4.1.se.conv_expand.bias', 'model.enet.blocks.4.1.conv_pwl.weight', 'model.enet.blocks.4.1.bn3.weight', 'model.enet.blocks.4.1.bn3.bias', 'model.enet.blocks.4.1.bn3.running_mean', 'model.enet.blocks.4.1.bn3.running_var', 'model.enet.blocks.4.1.bn3.num_batches_tracked', 'model.enet.blocks.4.2.conv_pw.weight', 'model.enet.blocks.4.2.bn1.weight', 'model.enet.blocks.4.2.bn1.bias', 'model.enet.blocks.4.2.bn1.running_mean', 'model.enet.blocks.4.2.bn1.running_var', 'model.enet.blocks.4.2.bn1.num_batches_tracked', 'model.enet.blocks.4.2.conv_dw.weight', 'model.enet.blocks.4.2.bn2.weight', 'model.enet.blocks.4.2.bn2.bias', 'model.enet.blocks.4.2.bn2.running_mean', 'model.enet.blocks.4.2.bn2.running_var', 'model.enet.blocks.4.2.bn2.num_batches_tracked', 'model.enet.blocks.4.2.se.conv_reduce.weight', 'model.enet.blocks.4.2.se.conv_reduce.bias', 'model.enet.blocks.4.2.se.conv_expand.weight', 'model.enet.blocks.4.2.se.conv_expand.bias', 'model.enet.blocks.4.2.conv_pwl.weight', 'model.enet.blocks.4.2.bn3.weight', 'model.enet.blocks.4.2.bn3.bias', 'model.enet.blocks.4.2.bn3.running_mean', 'model.enet.blocks.4.2.bn3.running_var', 'model.enet.blocks.4.2.bn3.num_batches_tracked', 'model.enet.blocks.5.0.conv_pw.weight', 'model.enet.blocks.5.0.bn1.weight', 'model.enet.blocks.5.0.bn1.bias', 'model.enet.blocks.5.0.bn1.running_mean', 'model.enet.blocks.5.0.bn1.running_var', 'model.enet.blocks.5.0.bn1.num_batches_tracked', 'model.enet.blocks.5.0.conv_dw.weight', 'model.enet.blocks.5.0.bn2.weight', 'model.enet.blocks.5.0.bn2.bias', 'model.enet.blocks.5.0.bn2.running_mean', 'model.enet.blocks.5.0.bn2.running_var', 'model.enet.blocks.5.0.bn2.num_batches_tracked', 'model.enet.blocks.5.0.se.conv_reduce.weight', 'model.enet.blocks.5.0.se.conv_reduce.bias', 'model.enet.blocks.5.0.se.conv_expand.weight', 'model.enet.blocks.5.0.se.conv_expand.bias', 'model.enet.blocks.5.0.conv_pwl.weight', 'model.enet.blocks.5.0.bn3.weight', 'model.enet.blocks.5.0.bn3.bias', 'model.enet.blocks.5.0.bn3.running_mean', 'model.enet.blocks.5.0.bn3.running_var', 'model.enet.blocks.5.0.bn3.num_batches_tracked', 'model.enet.blocks.5.1.conv_pw.weight', 'model.enet.blocks.5.1.bn1.weight', 'model.enet.blocks.5.1.bn1.bias', 'model.enet.blocks.5.1.bn1.running_mean', 'model.enet.blocks.5.1.bn1.running_var', 'model.enet.blocks.5.1.bn1.num_batches_tracked', 'model.enet.blocks.5.1.conv_dw.weight', 'model.enet.blocks.5.1.bn2.weight', 'model.enet.blocks.5.1.bn2.bias', 'model.enet.blocks.5.1.bn2.running_mean', 'model.enet.blocks.5.1.bn2.running_var', 'model.enet.blocks.5.1.bn2.num_batches_tracked', 'model.enet.blocks.5.1.se.conv_reduce.weight', 'model.enet.blocks.5.1.se.conv_reduce.bias', 'model.enet.blocks.5.1.se.conv_expand.weight', 'model.enet.blocks.5.1.se.conv_expand.bias', 'model.enet.blocks.5.1.conv_pwl.weight', 'model.enet.blocks.5.1.bn3.weight', 'model.enet.blocks.5.1.bn3.bias', 'model.enet.blocks.5.1.bn3.running_mean', 'model.enet.blocks.5.1.bn3.running_var', 'model.enet.blocks.5.1.bn3.num_batches_tracked', 'model.enet.blocks.5.2.conv_pw.weight', 'model.enet.blocks.5.2.bn1.weight', 'model.enet.blocks.5.2.bn1.bias', 'model.enet.blocks.5.2.bn1.running_mean', 'model.enet.blocks.5.2.bn1.running_var', 'model.enet.blocks.5.2.bn1.num_batches_tracked', 'model.enet.blocks.5.2.conv_dw.weight', 'model.enet.blocks.5.2.bn2.weight', 'model.enet.blocks.5.2.bn2.bias', 'model.enet.blocks.5.2.bn2.running_mean', 'model.enet.blocks.5.2.bn2.running_var', 'model.enet.blocks.5.2.bn2.num_batches_tracked', 'model.enet.blocks.5.2.se.conv_reduce.weight', 'model.enet.blocks.5.2.se.conv_reduce.bias', 'model.enet.blocks.5.2.se.conv_expand.weight', 'model.enet.blocks.5.2.se.conv_expand.bias', 'model.enet.blocks.5.2.conv_pwl.weight', 'model.enet.blocks.5.2.bn3.weight', 'model.enet.blocks.5.2.bn3.bias', 'model.enet.blocks.5.2.bn3.running_mean', 'model.enet.blocks.5.2.bn3.running_var', 'model.enet.blocks.5.2.bn3.num_batches_tracked', 'model.enet.blocks.5.3.conv_pw.weight', 'model.enet.blocks.5.3.bn1.weight', 'model.enet.blocks.5.3.bn1.bias', 'model.enet.blocks.5.3.bn1.running_mean', 'model.enet.blocks.5.3.bn1.running_var', 'model.enet.blocks.5.3.bn1.num_batches_tracked', 'model.enet.blocks.5.3.conv_dw.weight', 'model.enet.blocks.5.3.bn2.weight', 'model.enet.blocks.5.3.bn2.bias', 'model.enet.blocks.5.3.bn2.running_mean', 'model.enet.blocks.5.3.bn2.running_var', 'model.enet.blocks.5.3.bn2.num_batches_tracked', 'model.enet.blocks.5.3.se.conv_reduce.weight', 'model.enet.blocks.5.3.se.conv_reduce.bias', 'model.enet.blocks.5.3.se.conv_expand.weight', 'model.enet.blocks.5.3.se.conv_expand.bias', 'model.enet.blocks.5.3.conv_pwl.weight', 'model.enet.blocks.5.3.bn3.weight', 'model.enet.blocks.5.3.bn3.bias', 'model.enet.blocks.5.3.bn3.running_mean', 'model.enet.blocks.5.3.bn3.running_var', 'model.enet.blocks.5.3.bn3.num_batches_tracked', 'model.enet.blocks.6.0.conv_pw.weight', 'model.enet.blocks.6.0.bn1.weight', 'model.enet.blocks.6.0.bn1.bias', 'model.enet.blocks.6.0.bn1.running_mean', 'model.enet.blocks.6.0.bn1.running_var', 'model.enet.blocks.6.0.bn1.num_batches_tracked', 'model.enet.blocks.6.0.conv_dw.weight', 'model.enet.blocks.6.0.bn2.weight', 'model.enet.blocks.6.0.bn2.bias', 'model.enet.blocks.6.0.bn2.running_mean', 'model.enet.blocks.6.0.bn2.running_var', 'model.enet.blocks.6.0.bn2.num_batches_tracked', 'model.enet.blocks.6.0.se.conv_reduce.weight', 'model.enet.blocks.6.0.se.conv_reduce.bias', 'model.enet.blocks.6.0.se.conv_expand.weight', 'model.enet.blocks.6.0.se.conv_expand.bias', 'model.enet.blocks.6.0.conv_pwl.weight', 'model.enet.blocks.6.0.bn3.weight', 'model.enet.blocks.6.0.bn3.bias', 'model.enet.blocks.6.0.bn3.running_mean', 'model.enet.blocks.6.0.bn3.running_var', 'model.enet.blocks.6.0.bn3.num_batches_tracked', 'model.enet.conv_head.weight', 'model.enet.bn2.weight', 'model.enet.bn2.bias', 'model.enet.bn2.running_mean', 'model.enet.bn2.running_var', 'model.enet.bn2.num_batches_tracked', 'model.feat.weight', 'model.feat.bias', 'model.metric_classify.weight'])"
      ]
     },
     "execution_count": 54,
     "metadata": {},
     "output_type": "execute_result"
    }
   ],
   "source": [
    "bar.keys()"
   ]
  },
  {
   "cell_type": "code",
   "execution_count": null,
   "metadata": {},
   "outputs": [],
   "source": []
  },
  {
   "cell_type": "code",
   "execution_count": 63,
   "metadata": {},
   "outputs": [],
   "source": [
    "model_b0 = enet_arcface_FINAL('tf_efficientnet_b0_ns', out_dim=out_dim).to(device)\n",
    "model_b0 = load_model(model_b0, shpmodel)\n"
   ]
  },
  {
   "cell_type": "code",
   "execution_count": null,
   "metadata": {},
   "outputs": [],
   "source": []
  },
  {
   "cell_type": "code",
   "execution_count": null,
   "metadata": {},
   "outputs": [],
   "source": []
  },
  {
   "cell_type": "code",
   "execution_count": null,
   "metadata": {},
   "outputs": [],
   "source": []
  },
  {
   "cell_type": "code",
   "execution_count": null,
   "metadata": {},
   "outputs": [],
   "source": []
  },
  {
   "cell_type": "markdown",
   "metadata": {},
   "source": [
    "# old"
   ]
  },
  {
   "cell_type": "code",
   "execution_count": 2,
   "metadata": {},
   "outputs": [],
   "source": [
    "HOME = \"/data/git/shopee-product-matching\"\n",
    "p_out = f'{HOME}/output/dev0028'\n",
    "!mkdir -p {p_out}\n",
    "p_prp = f'{HOME}/output/prep001/train_prep.csv'\n",
    "\n",
    "FOLD = 0\n",
    "\n",
    "\n",
    "import sys\n",
    "sys.path.append(f\"{HOME}/src\")\n",
    "\n",
    "import pandas as pd\n",
    "from argparse import ArgumentParser\n",
    "import pytorch_lightning as pl\n",
    "from pytorch_lightning.callbacks.early_stopping import EarlyStopping\n",
    "from pl_model import ShpModel, ShpDataModule\n",
    "import os\n",
    "\n",
    "os.environ[\"TOKENIZERS_PARALLELISM\"] = \"false\""
   ]
  },
  {
   "cell_type": "code",
   "execution_count": 3,
   "metadata": {},
   "outputs": [],
   "source": [
    "parser = ArgumentParser()\n",
    "parser.add_argument(\n",
    "    \"--train_batch_size\",\n",
    "    help=\"How many samples per batch to load for train dataloader.\",\n",
    "    type=int,\n",
    "    default=64,\n",
    ")\n",
    "parser.add_argument(\n",
    "    \"--val_batch_size\",\n",
    "    help=\"How many samples per batch to load for validation dataloader.\",\n",
    "    type=int,\n",
    "    default=128,\n",
    ")\n",
    "parser.add_argument(\n",
    "    \"--dataloader_num_workers\",\n",
    "    help=\"How many subprocesses to use for data loading. 0 means that the data will be loaded in the main process.\",\n",
    "    type=int,\n",
    "    default=8,\n",
    ")\n",
    "parser.add_argument(\n",
    "    \"--pin_memory\",\n",
    "    help=\"Wether to use pin_memory in pytorch dataloader. If True, the data loader will copy Tensors into CUDA pinned memory before returning them.\",\n",
    "    action=\"store_true\",\n",
    ")\n",
    "\n",
    "parser = pl.Trainer.add_argparse_args(parser)\n",
    "parser = ShpModel.add_model_specific_args(parser)\n",
    "args_list = [\n",
    "    '--default_root_dir', p_out,\n",
    "    '--kernel-type', '',\n",
    "    '--enet-type', 'tf_efficientnet_b0_ns',\n",
    "\n",
    "]\n",
    "\n",
    "args = parser.parse_args(args_list)"
   ]
  },
  {
   "cell_type": "code",
   "execution_count": 4,
   "metadata": {},
   "outputs": [
    {
     "data": {
      "text/html": [
       "<div>\n",
       "<style scoped>\n",
       "    .dataframe tbody tr th:only-of-type {\n",
       "        vertical-align: middle;\n",
       "    }\n",
       "\n",
       "    .dataframe tbody tr th {\n",
       "        vertical-align: top;\n",
       "    }\n",
       "\n",
       "    .dataframe thead th {\n",
       "        text-align: right;\n",
       "    }\n",
       "</style>\n",
       "<table border=\"1\" class=\"dataframe\">\n",
       "  <thead>\n",
       "    <tr style=\"text-align: right;\">\n",
       "      <th></th>\n",
       "      <th>posting_id</th>\n",
       "      <th>image</th>\n",
       "      <th>image_phash</th>\n",
       "      <th>title</th>\n",
       "      <th>label_group</th>\n",
       "      <th>fold</th>\n",
       "      <th>filepath</th>\n",
       "    </tr>\n",
       "  </thead>\n",
       "  <tbody>\n",
       "    <tr>\n",
       "      <th>0</th>\n",
       "      <td>train_129225211</td>\n",
       "      <td>0000a68812bc7e98c42888dfb1c07da0.jpg</td>\n",
       "      <td>94974f937d4c2433</td>\n",
       "      <td>Paper Bag Victoria Secret</td>\n",
       "      <td>249114794</td>\n",
       "      <td>0</td>\n",
       "      <td>/data/git/shopee-product-matching/input/shopee...</td>\n",
       "    </tr>\n",
       "    <tr>\n",
       "      <th>1</th>\n",
       "      <td>train_3386243561</td>\n",
       "      <td>00039780dfc94d01db8676fe789ecd05.jpg</td>\n",
       "      <td>af3f9460c2838f0f</td>\n",
       "      <td>Double Tape 3M VHB 12 mm x 4,5 m ORIGINAL / DO...</td>\n",
       "      <td>2937985045</td>\n",
       "      <td>2</td>\n",
       "      <td>/data/git/shopee-product-matching/input/shopee...</td>\n",
       "    </tr>\n",
       "    <tr>\n",
       "      <th>2</th>\n",
       "      <td>train_2288590299</td>\n",
       "      <td>000a190fdd715a2a36faed16e2c65df7.jpg</td>\n",
       "      <td>b94cb00ed3e50f78</td>\n",
       "      <td>Maling TTS Canned Pork Luncheon Meat 397 gr</td>\n",
       "      <td>2395904891</td>\n",
       "      <td>0</td>\n",
       "      <td>/data/git/shopee-product-matching/input/shopee...</td>\n",
       "    </tr>\n",
       "  </tbody>\n",
       "</table>\n",
       "</div>"
      ],
      "text/plain": [
       "         posting_id                                 image       image_phash  \\\n",
       "0   train_129225211  0000a68812bc7e98c42888dfb1c07da0.jpg  94974f937d4c2433   \n",
       "1  train_3386243561  00039780dfc94d01db8676fe789ecd05.jpg  af3f9460c2838f0f   \n",
       "2  train_2288590299  000a190fdd715a2a36faed16e2c65df7.jpg  b94cb00ed3e50f78   \n",
       "\n",
       "                                               title  label_group  fold  \\\n",
       "0                          Paper Bag Victoria Secret    249114794     0   \n",
       "1  Double Tape 3M VHB 12 mm x 4,5 m ORIGINAL / DO...   2937985045     2   \n",
       "2        Maling TTS Canned Pork Luncheon Meat 397 gr   2395904891     0   \n",
       "\n",
       "                                            filepath  \n",
       "0  /data/git/shopee-product-matching/input/shopee...  \n",
       "1  /data/git/shopee-product-matching/input/shopee...  \n",
       "2  /data/git/shopee-product-matching/input/shopee...  "
      ]
     },
     "metadata": {},
     "output_type": "display_data"
    }
   ],
   "source": [
    "df = pd.read_csv(p_prp)\n",
    "display(df.head(3))\n",
    "dftrn = df[df.fold!=FOLD].copy()\n",
    "dfval = df[df.fold==FOLD].copy()\n",
    "dftrn.shape, dfval.shape\n",
    "\n",
    "data_module = ShpDataModule(\n",
    "    dftrn=dftrn,\n",
    "    dfval=dfval,\n",
    "    train_batch_size=args.train_batch_size,\n",
    "    val_batch_size=args.val_batch_size,\n",
    "    pin_memory=args.pin_memory,    \n",
    "    \n",
    ")"
   ]
  },
  {
   "cell_type": "code",
   "execution_count": 5,
   "metadata": {},
   "outputs": [
    {
     "data": {
      "text/plain": [
       "11014"
      ]
     },
     "execution_count": 5,
     "metadata": {},
     "output_type": "execute_result"
    }
   ],
   "source": [
    "data_module.setup()\n",
    "data_module.num_classes"
   ]
  },
  {
   "cell_type": "code",
   "execution_count": 6,
   "metadata": {
    "scrolled": true
   },
   "outputs": [
    {
     "name": "stderr",
     "output_type": "stream",
     "text": [
      "Downloading: \"https://github.com/rwightman/pytorch-image-models/releases/download/v0.1-weights/tf_efficientnet_b0_ns-c0e6a31c.pth\" to /home/ubuntu/.cache/torch/hub/checkpoints/tf_efficientnet_b0_ns-c0e6a31c.pth\n"
     ]
    }
   ],
   "source": [
    "shpmodel = ShpModel(\n",
    "    kernel_type=args.kernel_type,\n",
    "    enet_type=args.enet_type,\n",
    "    learning_rate=args.learning_rate,\n",
    "    num_classes=data_module.num_classes,\n",
    "    margins=data_module.margins,\n",
    ")"
   ]
  },
  {
   "cell_type": "raw",
   "metadata": {
    "scrolled": true
   },
   "source": [
    "dl = data_module.train_dataloader()\n",
    "for dat in dl:\n",
    "    dat\n",
    "    break\n",
    "feat = shpmodel(dat[0])\n",
    "feat.shape"
   ]
  },
  {
   "cell_type": "code",
   "execution_count": 7,
   "metadata": {},
   "outputs": [
    {
     "name": "stderr",
     "output_type": "stream",
     "text": [
      "GPU available: True, used: True\n",
      "TPU available: False, using: 0 TPU cores\n"
     ]
    }
   ],
   "source": [
    "from pytorch_lightning.callbacks.early_stopping import EarlyStopping\n",
    "from pytorch_lightning.loggers import CSVLogger, TensorBoardLogger\n",
    "\n",
    "csv_logger = CSVLogger(p_out, name='csv')\n",
    "tb_logger = TensorBoardLogger(p_out, name='tensorboard')\n",
    "\n",
    "trainer = pl.Trainer.from_argparse_args(args, \n",
    "#                                         limit_train_batches=10, limit_val_batches=2, \n",
    "#                                         fast_dev_run=True,\n",
    "                                        max_epochs=50,\n",
    "                                        callbacks=[EarlyStopping(monitor='valid_loss')],\n",
    "                                        stochastic_weight_avg=True,\n",
    "                                        log_gpu_memory=True, \n",
    "                                        gpus=1,\n",
    "                                        logger=[tb_logger,csv_logger],\n",
    "                                       )"
   ]
  },
  {
   "cell_type": "code",
   "execution_count": null,
   "metadata": {
    "scrolled": false
   },
   "outputs": [
    {
     "name": "stderr",
     "output_type": "stream",
     "text": [
      "Global seed set to 1234\n",
      "LOCAL_RANK: 0 - CUDA_VISIBLE_DEVICES: [0]\n",
      "\n",
      "  | Name     | Type                      | Params\n",
      "-------------------------------------------------------\n",
      "0 | model    | Effnet_Landmark           | 21.6 M\n",
      "1 | arc      | ArcFaceLossAdaptiveMargin | 0     \n",
      "2 | accuracy | Accuracy                  | 0     \n",
      "-------------------------------------------------------\n",
      "21.6 M    Trainable params\n",
      "0         Non-trainable params\n",
      "21.6 M    Total params\n",
      "86.324    Total estimated model params size (MB)\n"
     ]
    },
    {
     "data": {
      "application/vnd.jupyter.widget-view+json": {
       "model_id": "",
       "version_major": 2,
       "version_minor": 0
      },
      "text/plain": [
       "Validation sanity check: 0it [00:00, ?it/s]"
      ]
     },
     "metadata": {},
     "output_type": "display_data"
    },
    {
     "name": "stderr",
     "output_type": "stream",
     "text": [
      "/data/anaconda3/envs/shopee/lib/python3.7/site-packages/pytorch_lightning/core/step_result.py:148: UserWarning: To copy construct from a tensor, it is recommended to use sourceTensor.clone().detach() or sourceTensor.clone().detach().requires_grad_(True), rather than torch.tensor(sourceTensor).\n",
      "  value = torch.tensor(value, device=device, dtype=torch.float)\n"
     ]
    },
    {
     "data": {
      "application/vnd.jupyter.widget-view+json": {
       "model_id": "6d9dc21fcf144743ab8027726cf5dd51",
       "version_major": 2,
       "version_minor": 0
      },
      "text/plain": [
       "Training: 0it [00:00, ?it/s]"
      ]
     },
     "metadata": {},
     "output_type": "display_data"
    },
    {
     "data": {
      "application/vnd.jupyter.widget-view+json": {
       "model_id": "",
       "version_major": 2,
       "version_minor": 0
      },
      "text/plain": [
       "Validating: 0it [00:00, ?it/s]"
      ]
     },
     "metadata": {},
     "output_type": "display_data"
    },
    {
     "data": {
      "application/vnd.jupyter.widget-view+json": {
       "model_id": "",
       "version_major": 2,
       "version_minor": 0
      },
      "text/plain": [
       "Validating: 0it [00:00, ?it/s]"
      ]
     },
     "metadata": {},
     "output_type": "display_data"
    },
    {
     "data": {
      "application/vnd.jupyter.widget-view+json": {
       "model_id": "",
       "version_major": 2,
       "version_minor": 0
      },
      "text/plain": [
       "Validating: 0it [00:00, ?it/s]"
      ]
     },
     "metadata": {},
     "output_type": "display_data"
    },
    {
     "data": {
      "application/vnd.jupyter.widget-view+json": {
       "model_id": "",
       "version_major": 2,
       "version_minor": 0
      },
      "text/plain": [
       "Validating: 0it [00:00, ?it/s]"
      ]
     },
     "metadata": {},
     "output_type": "display_data"
    },
    {
     "data": {
      "application/vnd.jupyter.widget-view+json": {
       "model_id": "",
       "version_major": 2,
       "version_minor": 0
      },
      "text/plain": [
       "Validating: 0it [00:00, ?it/s]"
      ]
     },
     "metadata": {},
     "output_type": "display_data"
    },
    {
     "data": {
      "application/vnd.jupyter.widget-view+json": {
       "model_id": "",
       "version_major": 2,
       "version_minor": 0
      },
      "text/plain": [
       "Validating: 0it [00:00, ?it/s]"
      ]
     },
     "metadata": {},
     "output_type": "display_data"
    },
    {
     "data": {
      "application/vnd.jupyter.widget-view+json": {
       "model_id": "",
       "version_major": 2,
       "version_minor": 0
      },
      "text/plain": [
       "Validating: 0it [00:00, ?it/s]"
      ]
     },
     "metadata": {},
     "output_type": "display_data"
    },
    {
     "data": {
      "application/vnd.jupyter.widget-view+json": {
       "model_id": "",
       "version_major": 2,
       "version_minor": 0
      },
      "text/plain": [
       "Validating: 0it [00:00, ?it/s]"
      ]
     },
     "metadata": {},
     "output_type": "display_data"
    },
    {
     "data": {
      "application/vnd.jupyter.widget-view+json": {
       "model_id": "",
       "version_major": 2,
       "version_minor": 0
      },
      "text/plain": [
       "Validating: 0it [00:00, ?it/s]"
      ]
     },
     "metadata": {},
     "output_type": "display_data"
    },
    {
     "data": {
      "application/vnd.jupyter.widget-view+json": {
       "model_id": "",
       "version_major": 2,
       "version_minor": 0
      },
      "text/plain": [
       "Validating: 0it [00:00, ?it/s]"
      ]
     },
     "metadata": {},
     "output_type": "display_data"
    },
    {
     "data": {
      "application/vnd.jupyter.widget-view+json": {
       "model_id": "",
       "version_major": 2,
       "version_minor": 0
      },
      "text/plain": [
       "Validating: 0it [00:00, ?it/s]"
      ]
     },
     "metadata": {},
     "output_type": "display_data"
    },
    {
     "data": {
      "application/vnd.jupyter.widget-view+json": {
       "model_id": "",
       "version_major": 2,
       "version_minor": 0
      },
      "text/plain": [
       "Validating: 0it [00:00, ?it/s]"
      ]
     },
     "metadata": {},
     "output_type": "display_data"
    },
    {
     "data": {
      "application/vnd.jupyter.widget-view+json": {
       "model_id": "",
       "version_major": 2,
       "version_minor": 0
      },
      "text/plain": [
       "Validating: 0it [00:00, ?it/s]"
      ]
     },
     "metadata": {},
     "output_type": "display_data"
    },
    {
     "data": {
      "application/vnd.jupyter.widget-view+json": {
       "model_id": "f001ece3cca74fb6b80e279f93557ec8",
       "version_major": 2,
       "version_minor": 0
      },
      "text/plain": [
       "Validating: 0it [00:00, ?it/s]"
      ]
     },
     "metadata": {},
     "output_type": "display_data"
    }
   ],
   "source": [
    "pl.seed_everything(1234)\n",
    "trainer.fit(shpmodel, data_module)"
   ]
  },
  {
   "cell_type": "code",
   "execution_count": null,
   "metadata": {},
   "outputs": [],
   "source": [
    "!find $p_out/"
   ]
  },
  {
   "cell_type": "code",
   "execution_count": null,
   "metadata": {},
   "outputs": [],
   "source": [
    "!find $p_out/tensorboard/"
   ]
  },
  {
   "cell_type": "code",
   "execution_count": null,
   "metadata": {},
   "outputs": [],
   "source": [
    "ls -hl {p_out}/tensorboard_csv/*/checkpoints/*.ckpt"
   ]
  },
  {
   "cell_type": "code",
   "execution_count": null,
   "metadata": {},
   "outputs": [],
   "source": [
    "!nvidia-smi"
   ]
  },
  {
   "cell_type": "markdown",
   "metadata": {},
   "source": [
    "# load model"
   ]
  },
  {
   "cell_type": "code",
   "execution_count": null,
   "metadata": {},
   "outputs": [],
   "source": [
    "import torch\n",
    "import numpy as np\n",
    "from tqdm import tqdm\n",
    "\n",
    "from utils import meanf1, get_targets, get_preds_by_thrsh, preds2pids\n",
    "from neighbor import get_nbrs"
   ]
  },
  {
   "cell_type": "code",
   "execution_count": null,
   "metadata": {},
   "outputs": [],
   "source": [
    "device = torch.device('cuda')\n",
    "\n",
    "shpmodel = ShpModel.load_from_checkpoint(f'{p_out}/tensorboard_csv/0_0/checkpoints/epoch=21-step=9437.ckpt')\n",
    "shpmodel = shpmodel.eval()\n",
    "shpmodel = shpmodel.to(device)"
   ]
  },
  {
   "cell_type": "markdown",
   "metadata": {},
   "source": [
    "# dataloader"
   ]
  },
  {
   "cell_type": "code",
   "execution_count": null,
   "metadata": {},
   "outputs": [],
   "source": [
    "from dataset import ShopeeDataset, get_transforms\n",
    "from torch.utils.data import DataLoader\n",
    "\n",
    "df = pd.read_csv(p_prp)\n",
    "\n",
    "pids = df.posting_id.values\n",
    "\n",
    "tfms_trn, tfms_val = get_transforms(224)\n",
    "ds = ShopeeDataset(df, mode=\"test\", transform=tfms_val)\n",
    "dl = DataLoader(ds,\n",
    "            batch_size=128,\n",
    "            num_workers=8,\n",
    "            pin_memory=True,\n",
    "        )"
   ]
  },
  {
   "cell_type": "markdown",
   "metadata": {},
   "source": [
    "# get feats"
   ]
  },
  {
   "cell_type": "code",
   "execution_count": null,
   "metadata": {},
   "outputs": [],
   "source": [
    "for dat in dl:\n",
    "    dat = dat.to(device)\n",
    "    with torch.no_grad():\n",
    "        feat = shpmodel(dat)\n",
    "    break\n",
    "\n",
    "feat.shape"
   ]
  },
  {
   "cell_type": "code",
   "execution_count": null,
   "metadata": {},
   "outputs": [],
   "source": [
    "feats = np.zeros((len(ds), feat.shape[1]))\n",
    "i = 0\n",
    "for dat in tqdm(dl):\n",
    "    with torch.no_grad():\n",
    "        dat = dat.to(device)\n",
    "        output = shpmodel(dat)\n",
    "        l = len(output)\n",
    "        feats[i : i + l, :] = output.cpu().detach().numpy()\n",
    "        i += l"
   ]
  },
  {
   "cell_type": "code",
   "execution_count": null,
   "metadata": {},
   "outputs": [],
   "source": [
    "feats.shape"
   ]
  },
  {
   "cell_type": "markdown",
   "metadata": {},
   "source": [
    "# verify"
   ]
  },
  {
   "cell_type": "code",
   "execution_count": null,
   "metadata": {},
   "outputs": [],
   "source": [
    "dists, idx = get_nbrs(feats)"
   ]
  },
  {
   "cell_type": "code",
   "execution_count": null,
   "metadata": {},
   "outputs": [],
   "source": [
    "preds = get_preds_by_thrsh(dists, idx, thrsh=2.)\n",
    "preds = preds2pids(preds, pids)"
   ]
  },
  {
   "cell_type": "code",
   "execution_count": null,
   "metadata": {},
   "outputs": [],
   "source": [
    "targets = get_targets(df)"
   ]
  },
  {
   "cell_type": "code",
   "execution_count": null,
   "metadata": {},
   "outputs": [],
   "source": [
    "meanf1(preds,targets)"
   ]
  },
  {
   "cell_type": "code",
   "execution_count": null,
   "metadata": {},
   "outputs": [],
   "source": [
    "thrshes = np.linspace(1.75,2.25,num=11)\n",
    "print(thrshes)"
   ]
  },
  {
   "cell_type": "code",
   "execution_count": null,
   "metadata": {},
   "outputs": [],
   "source": [
    "f1_lst = []\n",
    "for thrsh in tqdm(thrshes):\n",
    "    preds = get_preds_by_thrsh(dists, idx, thrsh)\n",
    "    preds = preds2pids(preds, pids)\n",
    "    f1_lst.append(meanf1(preds,targets))"
   ]
  },
  {
   "cell_type": "code",
   "execution_count": null,
   "metadata": {},
   "outputs": [],
   "source": [
    "import matplotlib.pyplot as plt\n",
    "plt.plot(thrshes, f1_lst)  "
   ]
  },
  {
   "cell_type": "code",
   "execution_count": null,
   "metadata": {},
   "outputs": [],
   "source": [
    "def find_best(dists, idx, thrshes = np.linspace(1.75,2.25,num=11)):\n",
    "    f1_lst = []\n",
    "    preds_lst = []\n",
    "    for thrsh in tqdm(thrshes):\n",
    "        preds = get_preds_by_thrsh(dists, idx, thrsh)\n",
    "        preds = preds2pids(preds, pids)\n",
    "        preds_lst.append(preds)\n",
    "        f1 = meanf1(preds,targets)\n",
    "        f1_lst.append(f1)\n",
    "    f1_best, thrsh_best, preds_best = sorted(zip(f1_lst, thrshes, preds_lst), reverse=True)[0]\n",
    "    return f1_best, thrsh_best, preds_best"
   ]
  },
  {
   "cell_type": "code",
   "execution_count": null,
   "metadata": {},
   "outputs": [],
   "source": [
    "f1_best, thrsh_best, preds_best = find_best(dists, idx, thrshes)"
   ]
  },
  {
   "cell_type": "code",
   "execution_count": null,
   "metadata": {},
   "outputs": [],
   "source": [
    "f1_best, thrsh_best"
   ]
  },
  {
   "cell_type": "raw",
   "metadata": {},
   "source": [
    "!cp /data/git/shopee-product-matching/output/dev0027/tensorboard_csv/0_0/checkpoints/epoch=21-step=9437.ckpt ."
   ]
  },
  {
   "cell_type": "code",
   "execution_count": null,
   "metadata": {},
   "outputs": [],
   "source": []
  }
 ],
 "metadata": {
  "kernelspec": {
   "display_name": "shopee",
   "language": "python",
   "name": "shopee"
  },
  "language_info": {
   "codemirror_mode": {
    "name": "ipython",
    "version": 3
   },
   "file_extension": ".py",
   "mimetype": "text/x-python",
   "name": "python",
   "nbconvert_exporter": "python",
   "pygments_lexer": "ipython3",
   "version": "3.7.10"
  },
  "toc": {
   "base_numbering": 1,
   "nav_menu": {},
   "number_sections": true,
   "sideBar": true,
   "skip_h1_title": false,
   "title_cell": "Table of Contents",
   "title_sidebar": "Contents",
   "toc_cell": false,
   "toc_position": {},
   "toc_section_display": true,
   "toc_window_display": true
  }
 },
 "nbformat": 4,
 "nbformat_minor": 4
}
