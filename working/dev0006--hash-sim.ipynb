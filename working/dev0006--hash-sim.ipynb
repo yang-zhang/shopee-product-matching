{
 "cells": [
  {
   "cell_type": "markdown",
   "metadata": {},
   "source": [
    "# setup"
   ]
  },
  {
   "cell_type": "code",
   "execution_count": 1,
   "metadata": {},
   "outputs": [
    {
     "name": "stdout",
     "output_type": "stream",
     "text": [
      "sample_submission.csv  test.csv  test_images  train.csv  train_images\r\n"
     ]
    }
   ],
   "source": [
    "import pandas as pd\n",
    "import numpy as np\n",
    "from tqdm import tqdm\n",
    "\n",
    "from efficientnet_pytorch import EfficientNet\n",
    "from PIL import Image\n",
    "from torchvision import transforms\n",
    "\n",
    "from transformers import AutoModel, AutoTokenizer\n",
    "import torch\n",
    "from torch.utils.data import Dataset, TensorDataset, DataLoader\n",
    "import torch, gc\n",
    "\n",
    "from sklearn.metrics.pairwise import cosine_similarity\n",
    "from sklearn.metrics import pairwise_distances\n",
    "\n",
    "HOME = '/data/git/shopee-product-matching'\n",
    "pdata = f'{HOME}/data/shopee-product-matching'\n",
    "!ls $pdata\n",
    "\n",
    "BS = 256\n",
    "NWKRS = 8\n",
    "DEVICE = 'cuda'\n",
    "PIN_MEMORY = True\n",
    "MAXLEN = 128"
   ]
  },
  {
   "cell_type": "markdown",
   "metadata": {},
   "source": [
    "# data"
   ]
  },
  {
   "cell_type": "code",
   "execution_count": 2,
   "metadata": {
    "scrolled": true
   },
   "outputs": [
    {
     "data": {
      "text/html": [
       "<div>\n",
       "<style scoped>\n",
       "    .dataframe tbody tr th:only-of-type {\n",
       "        vertical-align: middle;\n",
       "    }\n",
       "\n",
       "    .dataframe tbody tr th {\n",
       "        vertical-align: top;\n",
       "    }\n",
       "\n",
       "    .dataframe thead th {\n",
       "        text-align: right;\n",
       "    }\n",
       "</style>\n",
       "<table border=\"1\" class=\"dataframe\">\n",
       "  <thead>\n",
       "    <tr style=\"text-align: right;\">\n",
       "      <th></th>\n",
       "      <th>posting_id</th>\n",
       "      <th>image</th>\n",
       "      <th>image_phash</th>\n",
       "      <th>title</th>\n",
       "      <th>label_group</th>\n",
       "    </tr>\n",
       "  </thead>\n",
       "  <tbody>\n",
       "    <tr>\n",
       "      <th>0</th>\n",
       "      <td>train_129225211</td>\n",
       "      <td>0000a68812bc7e98c42888dfb1c07da0.jpg</td>\n",
       "      <td>94974f937d4c2433</td>\n",
       "      <td>Paper Bag Victoria Secret</td>\n",
       "      <td>249114794</td>\n",
       "    </tr>\n",
       "    <tr>\n",
       "      <th>1</th>\n",
       "      <td>train_3386243561</td>\n",
       "      <td>00039780dfc94d01db8676fe789ecd05.jpg</td>\n",
       "      <td>af3f9460c2838f0f</td>\n",
       "      <td>Double Tape 3M VHB 12 mm x 4,5 m ORIGINAL / DO...</td>\n",
       "      <td>2937985045</td>\n",
       "    </tr>\n",
       "  </tbody>\n",
       "</table>\n",
       "</div>"
      ],
      "text/plain": [
       "         posting_id                                 image       image_phash  \\\n",
       "0   train_129225211  0000a68812bc7e98c42888dfb1c07da0.jpg  94974f937d4c2433   \n",
       "1  train_3386243561  00039780dfc94d01db8676fe789ecd05.jpg  af3f9460c2838f0f   \n",
       "\n",
       "                                               title  label_group  \n",
       "0                          Paper Bag Victoria Secret    249114794  \n",
       "1  Double Tape 3M VHB 12 mm x 4,5 m ORIGINAL / DO...   2937985045  "
      ]
     },
     "execution_count": 2,
     "metadata": {},
     "output_type": "execute_result"
    }
   ],
   "source": [
    "fnm = 'train'\n",
    "df = pd.read_csv(f'{pdata}/{fnm}.csv')\n",
    "assert len(df) == df.posting_id.nunique()\n",
    "p_imgs = f\"{pdata}/train_images\"\n",
    "df.head(2)"
   ]
  },
  {
   "cell_type": "markdown",
   "metadata": {},
   "source": [
    "# hash"
   ]
  },
  {
   "cell_type": "code",
   "execution_count": 3,
   "metadata": {},
   "outputs": [
    {
     "name": "stderr",
     "output_type": "stream",
     "text": [
      "100%|██████████| 34250/34250 [1:23:10<00:00,  6.86it/s] \n"
     ]
    }
   ],
   "source": [
    "def hamming(x1, x2): return sum(o1!=o2 for o1,o2 in zip(x1,x2))\n",
    "\n",
    "hfeats = df.image_phash.apply(lambda x: bin(int(x, 16))).values\n",
    "\n",
    "n = len(hfeats)\n",
    "hdists = np.zeros((n, n))\n",
    "for i in tqdm(range(n)):\n",
    "    for j in range(i, n):\n",
    "        x1 = hfeats[i]\n",
    "        x2 = hfeats[j]\n",
    "        hdists[i,j]=hdists[j,i]=hamming(x1, x2)"
   ]
  },
  {
   "cell_type": "code",
   "execution_count": 4,
   "metadata": {},
   "outputs": [],
   "source": [
    "hsims = 1/(1+hdists)"
   ]
  },
  {
   "cell_type": "code",
   "execution_count": 5,
   "metadata": {},
   "outputs": [
    {
     "data": {
      "text/plain": [
       "array([[1.        , 0.02325581, 0.02439024, ..., 0.02702703, 0.02857143,\n",
       "        0.03225806],\n",
       "       [0.02325581, 1.        , 0.03448276, ..., 0.03703704, 0.03030303,\n",
       "        0.04347826],\n",
       "       [0.02439024, 0.03448276, 1.        , ..., 0.03225806, 0.02564103,\n",
       "        0.02857143],\n",
       "       ...,\n",
       "       [0.02702703, 0.03703704, 0.03225806, ..., 1.        , 0.03448276,\n",
       "        0.03448276],\n",
       "       [0.02857143, 0.03030303, 0.02564103, ..., 0.03448276, 1.        ,\n",
       "        0.02857143],\n",
       "       [0.03225806, 0.04347826, 0.02857143, ..., 0.03448276, 0.02857143,\n",
       "        1.        ]])"
      ]
     },
     "execution_count": 5,
     "metadata": {},
     "output_type": "execute_result"
    }
   ],
   "source": [
    "hsims"
   ]
  },
  {
   "cell_type": "markdown",
   "metadata": {},
   "source": [
    "# demo"
   ]
  },
  {
   "cell_type": "code",
   "execution_count": 18,
   "metadata": {},
   "outputs": [
    {
     "name": "stdout",
     "output_type": "stream",
     "text": [
      "34221\n"
     ]
    },
    {
     "data": {
      "text/plain": [
       "{'posting_id': 'train_2918683619',\n",
       " 'image': 'ffbf2266ff17f4bc336002a00d82b647.jpg',\n",
       " 'image_phash': 'afde42252f25c992',\n",
       " 'title': 'Sticker Star Wall Glow In The Dark | Stiker Bintang',\n",
       " 'label_group': 3251156563}"
      ]
     },
     "execution_count": 18,
     "metadata": {},
     "output_type": "execute_result"
    }
   ],
   "source": [
    "i = np.random.choice(range(len(df)))\n",
    "print(i)\n",
    "df.iloc[i].to_dict()"
   ]
  },
  {
   "cell_type": "code",
   "execution_count": 19,
   "metadata": {},
   "outputs": [
    {
     "data": {
      "text/html": [
       "<div>\n",
       "<style scoped>\n",
       "    .dataframe tbody tr th:only-of-type {\n",
       "        vertical-align: middle;\n",
       "    }\n",
       "\n",
       "    .dataframe tbody tr th {\n",
       "        vertical-align: top;\n",
       "    }\n",
       "\n",
       "    .dataframe thead th {\n",
       "        text-align: right;\n",
       "    }\n",
       "</style>\n",
       "<table border=\"1\" class=\"dataframe\">\n",
       "  <thead>\n",
       "    <tr style=\"text-align: right;\">\n",
       "      <th></th>\n",
       "      <th>title</th>\n",
       "      <th>image_phash</th>\n",
       "      <th>label_group</th>\n",
       "    </tr>\n",
       "  </thead>\n",
       "  <tbody>\n",
       "    <tr>\n",
       "      <th>10216</th>\n",
       "      <td>Hiasan Dinding 100 PC Bintang Star Cantik LED ...</td>\n",
       "      <td>afde42250f25c9d2</td>\n",
       "      <td>3251156563</td>\n",
       "    </tr>\n",
       "    <tr>\n",
       "      <th>34221</th>\n",
       "      <td>Sticker Star Wall Glow In The Dark | Stiker Bi...</td>\n",
       "      <td>afde42252f25c992</td>\n",
       "      <td>3251156563</td>\n",
       "    </tr>\n",
       "  </tbody>\n",
       "</table>\n",
       "</div>"
      ],
      "text/plain": [
       "                                                   title       image_phash  \\\n",
       "10216  Hiasan Dinding 100 PC Bintang Star Cantik LED ...  afde42250f25c9d2   \n",
       "34221  Sticker Star Wall Glow In The Dark | Stiker Bi...  afde42252f25c992   \n",
       "\n",
       "       label_group  \n",
       "10216   3251156563  \n",
       "34221   3251156563  "
      ]
     },
     "execution_count": 19,
     "metadata": {},
     "output_type": "execute_result"
    }
   ],
   "source": [
    "grp = df.iloc[i].label_group\n",
    "\n",
    "df[df.label_group==grp][['title', 'image_phash', 'label_group']]"
   ]
  },
  {
   "cell_type": "code",
   "execution_count": 20,
   "metadata": {},
   "outputs": [],
   "source": [
    "ntop = 10"
   ]
  },
  {
   "cell_type": "code",
   "execution_count": 21,
   "metadata": {},
   "outputs": [
    {
     "data": {
      "text/html": [
       "<div>\n",
       "<style scoped>\n",
       "    .dataframe tbody tr th:only-of-type {\n",
       "        vertical-align: middle;\n",
       "    }\n",
       "\n",
       "    .dataframe tbody tr th {\n",
       "        vertical-align: top;\n",
       "    }\n",
       "\n",
       "    .dataframe thead th {\n",
       "        text-align: right;\n",
       "    }\n",
       "</style>\n",
       "<table border=\"1\" class=\"dataframe\">\n",
       "  <thead>\n",
       "    <tr style=\"text-align: right;\">\n",
       "      <th></th>\n",
       "      <th>title</th>\n",
       "      <th>image_phash</th>\n",
       "      <th>label_group</th>\n",
       "    </tr>\n",
       "  </thead>\n",
       "  <tbody>\n",
       "    <tr>\n",
       "      <th>34221</th>\n",
       "      <td>Sticker Star Wall Glow In The Dark | Stiker Bi...</td>\n",
       "      <td>afde42252f25c992</td>\n",
       "      <td>3251156563</td>\n",
       "    </tr>\n",
       "    <tr>\n",
       "      <th>10216</th>\n",
       "      <td>Hiasan Dinding 100 PC Bintang Star Cantik LED ...</td>\n",
       "      <td>afde42250f25c9d2</td>\n",
       "      <td>3251156563</td>\n",
       "    </tr>\n",
       "    <tr>\n",
       "      <th>25022</th>\n",
       "      <td>[isi 3] GMY | Celana dalam gt man isi 3 | CD g...</td>\n",
       "      <td>bd9ad2340f64cdc2</td>\n",
       "      <td>1611718867</td>\n",
       "    </tr>\n",
       "    <tr>\n",
       "      <th>26825</th>\n",
       "      <td>Sisir Besi Butterfly Balisong Training Knife C...</td>\n",
       "      <td>abcc12952e69c89f</td>\n",
       "      <td>3226463072</td>\n",
       "    </tr>\n",
       "    <tr>\n",
       "      <th>18039</th>\n",
       "      <td>Porto Sepatu Sneakers Sports Pria AA001M Size ...</td>\n",
       "      <td>af96c06b3f359842</td>\n",
       "      <td>1206386793</td>\n",
       "    </tr>\n",
       "    <tr>\n",
       "      <th>31260</th>\n",
       "      <td>Implora Cheek &amp; Liptint</td>\n",
       "      <td>abce96258525cc7a</td>\n",
       "      <td>3627744656</td>\n",
       "    </tr>\n",
       "    <tr>\n",
       "      <th>755</th>\n",
       "      <td>SOREX cd Basic Katun premium  1232 Soft Comfor...</td>\n",
       "      <td>bc9e813d1e65c9c2</td>\n",
       "      <td>1468444411</td>\n",
       "    </tr>\n",
       "    <tr>\n",
       "      <th>32742</th>\n",
       "      <td>Mainan Bola balon Basket karet murah</td>\n",
       "      <td>bdc2c20dcf34cd32</td>\n",
       "      <td>69923982</td>\n",
       "    </tr>\n",
       "    <tr>\n",
       "      <th>28809</th>\n",
       "      <td>KAIN KATUN TOYOBO ROYAL MIX PER 1 METER</td>\n",
       "      <td>add0d26f0d2dd0d2</td>\n",
       "      <td>2057938818</td>\n",
       "    </tr>\n",
       "    <tr>\n",
       "      <th>32405</th>\n",
       "      <td>McDoDo 1.8M Kabel Gaming Fast Charging 3.0 Mic...</td>\n",
       "      <td>be4e80b72561c3f2</td>\n",
       "      <td>1124629473</td>\n",
       "    </tr>\n",
       "  </tbody>\n",
       "</table>\n",
       "</div>"
      ],
      "text/plain": [
       "                                                   title       image_phash  \\\n",
       "34221  Sticker Star Wall Glow In The Dark | Stiker Bi...  afde42252f25c992   \n",
       "10216  Hiasan Dinding 100 PC Bintang Star Cantik LED ...  afde42250f25c9d2   \n",
       "25022  [isi 3] GMY | Celana dalam gt man isi 3 | CD g...  bd9ad2340f64cdc2   \n",
       "26825  Sisir Besi Butterfly Balisong Training Knife C...  abcc12952e69c89f   \n",
       "18039  Porto Sepatu Sneakers Sports Pria AA001M Size ...  af96c06b3f359842   \n",
       "31260                            Implora Cheek & Liptint  abce96258525cc7a   \n",
       "755    SOREX cd Basic Katun premium  1232 Soft Comfor...  bc9e813d1e65c9c2   \n",
       "32742               Mainan Bola balon Basket karet murah  bdc2c20dcf34cd32   \n",
       "28809            KAIN KATUN TOYOBO ROYAL MIX PER 1 METER  add0d26f0d2dd0d2   \n",
       "32405  McDoDo 1.8M Kabel Gaming Fast Charging 3.0 Mic...  be4e80b72561c3f2   \n",
       "\n",
       "       label_group  \n",
       "34221   3251156563  \n",
       "10216   3251156563  \n",
       "25022   1611718867  \n",
       "26825   3226463072  \n",
       "18039   1206386793  \n",
       "31260   3627744656  \n",
       "755     1468444411  \n",
       "32742     69923982  \n",
       "28809   2057938818  \n",
       "32405   1124629473  "
      ]
     },
     "execution_count": 21,
     "metadata": {},
     "output_type": "execute_result"
    }
   ],
   "source": [
    "idx_sim = np.argsort(-hsims[i])[:ntop]\n",
    "df.iloc[idx_sim][['title', 'image_phash', 'label_group']]"
   ]
  },
  {
   "cell_type": "markdown",
   "metadata": {},
   "source": [
    "# save "
   ]
  },
  {
   "cell_type": "code",
   "execution_count": 10,
   "metadata": {},
   "outputs": [],
   "source": [
    "pout = f\"{HOME}/data/dev0006\"\n",
    "!mkdir -p $pout"
   ]
  },
  {
   "cell_type": "code",
   "execution_count": 11,
   "metadata": {},
   "outputs": [],
   "source": [
    "np.save(f\"{pout}/hdists.npy\", hdists)\n",
    "np.save(f\"{pout}/hsims.npy\", hsims)"
   ]
  },
  {
   "cell_type": "code",
   "execution_count": null,
   "metadata": {},
   "outputs": [],
   "source": []
  },
  {
   "cell_type": "code",
   "execution_count": null,
   "metadata": {},
   "outputs": [],
   "source": []
  },
  {
   "cell_type": "code",
   "execution_count": null,
   "metadata": {},
   "outputs": [],
   "source": []
  }
 ],
 "metadata": {
  "kernelspec": {
   "display_name": "shopee",
   "language": "python",
   "name": "shopee"
  },
  "language_info": {
   "codemirror_mode": {
    "name": "ipython",
    "version": 3
   },
   "file_extension": ".py",
   "mimetype": "text/x-python",
   "name": "python",
   "nbconvert_exporter": "python",
   "pygments_lexer": "ipython3",
   "version": "3.7.9"
  },
  "toc": {
   "base_numbering": 1,
   "nav_menu": {},
   "number_sections": true,
   "sideBar": true,
   "skip_h1_title": false,
   "title_cell": "Table of Contents",
   "title_sidebar": "Contents",
   "toc_cell": false,
   "toc_position": {},
   "toc_section_display": true,
   "toc_window_display": false
  }
 },
 "nbformat": 4,
 "nbformat_minor": 4
}
