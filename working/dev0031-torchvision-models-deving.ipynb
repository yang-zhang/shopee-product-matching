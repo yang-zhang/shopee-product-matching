{
 "cells": [
  {
   "cell_type": "markdown",
   "metadata": {},
   "source": [
    "https://pytorch.org/vision/stable/models.html\n",
    "\n",
    "- https://discuss.pytorch.org/t/how-to-delete-layer-in-pretrained-model/17648/2?u=yang-zhang\n",
    "\n",
    "    class Identity(nn.Module):\n",
    "        def __init__(self):\n",
    "            super(Identity, self).__init__()\n",
    "\n",
    "        def forward(self, x):\n",
    "            return x\n",
    "\n",
    "\n",
    "    model = models.resnet18(pretrained=False)\n",
    "    model.fc = Identity()\n",
    "    x = torch.randn(1, 3, 224, 224)\n",
    "    output = model(x)\n",
    "    print(output.shape)"
   ]
  },
  {
   "cell_type": "code",
   "execution_count": 263,
   "metadata": {},
   "outputs": [
    {
     "name": "stdout",
     "output_type": "stream",
     "text": [
      "Thu Apr  8 01:12:20 2021       \r\n",
      "+-----------------------------------------------------------------------------+\r\n",
      "| NVIDIA-SMI 440.59       Driver Version: 440.59       CUDA Version: 10.2     |\r\n",
      "|-------------------------------+----------------------+----------------------+\r\n",
      "| GPU  Name        Persistence-M| Bus-Id        Disp.A | Volatile Uncorr. ECC |\r\n",
      "| Fan  Temp  Perf  Pwr:Usage/Cap|         Memory-Usage | GPU-Util  Compute M. |\r\n",
      "|===============================+======================+======================|\r\n",
      "|   0  Tesla V100-SXM2...  Off  | 00000000:00:1E.0 Off |                    0 |\r\n",
      "| N/A   36C    P0    38W / 300W |   1984MiB / 16160MiB |      0%      Default |\r\n",
      "+-------------------------------+----------------------+----------------------+\r\n",
      "                                                                               \r\n",
      "+-----------------------------------------------------------------------------+\r\n",
      "| Processes:                                                       GPU Memory |\r\n",
      "|  GPU       PID   Type   Process name                             Usage      |\r\n",
      "|=============================================================================|\r\n",
      "|    0      8881      C   /data/anaconda3/envs/shopee/bin/python      1973MiB |\r\n",
      "+-----------------------------------------------------------------------------+\r\n"
     ]
    }
   ],
   "source": [
    "!nvidia-smi"
   ]
  },
  {
   "cell_type": "markdown",
   "metadata": {},
   "source": [
    "# code"
   ]
  },
  {
   "cell_type": "markdown",
   "metadata": {},
   "source": [
    "## utils"
   ]
  },
  {
   "cell_type": "code",
   "execution_count": 287,
   "metadata": {},
   "outputs": [],
   "source": [
    "import numpy as np\n",
    "\n",
    "def getf1(x, y):\n",
    "    n = len(np.intersect1d(x, y))\n",
    "    return 2 * n / (len(x) + len(y))\n",
    "\n",
    "\n",
    "def getf1s(xs, ys):\n",
    "    return (getf1(x, y) for x, y in zip(xs, ys))\n",
    "\n",
    "\n",
    "def meanf1(xs, ys):\n",
    "    return np.mean(list(getf1s(xs, ys)))\n",
    "\n",
    "\n",
    "def get_targets(df):\n",
    "    grp2ids = df.groupby(\"label_group\").posting_id.agg(\"unique\").to_dict()\n",
    "    targets = df.label_group.map(grp2ids)\n",
    "    return targets\n",
    "\n",
    "def preds2pids(preds, pids):\n",
    "    return [pids[o] for o in preds]\n"
   ]
  },
  {
   "cell_type": "markdown",
   "metadata": {},
   "source": [
    "## vision"
   ]
  },
  {
   "cell_type": "code",
   "execution_count": 249,
   "metadata": {},
   "outputs": [],
   "source": [
    "import pandas as pd\n",
    "import torchvision\n",
    "import torch\n",
    "from torch import nn\n",
    "from efficientnet_pytorch import EfficientNet\n",
    "from PIL import Image\n",
    "from torchvision import transforms\n",
    "from torch.utils.data import Dataset, TensorDataset, DataLoader\n",
    "from tqdm import tqdm\n",
    "\n",
    "\n",
    "class VDataset(Dataset):\n",
    "    def __init__(self, df, transforms):\n",
    "        self.df = df\n",
    "        self.transforms = transforms\n",
    "\n",
    "    def __len__(self):\n",
    "        return len(self.df)\n",
    "\n",
    "    def __getitem__(self, idx):\n",
    "        img_path = self.df.filepath[idx]\n",
    "        img = Image.open(img_path)\n",
    "        img = self.transforms(img)\n",
    "        return img\n",
    "    \n",
    "# https://github.com/lukemelas/EfficientNet-PyTorch\n",
    "tfms = transforms.Compose(\n",
    "    [\n",
    "        transforms.Resize((IMGSZ, IMGSZ)),\n",
    "        transforms.ToTensor(),\n",
    "        transforms.Normalize([0.485, 0.456, 0.406], [0.229, 0.224, 0.225]),\n",
    "    ]\n",
    ")\n",
    "\n",
    "\n",
    "def mk_dl(df):\n",
    "    ds = VDataset(df, tfms)\n",
    "    dl = DataLoader(\n",
    "        dataset=ds,\n",
    "        batch_size=BS,\n",
    "        num_workers=NWKRS,\n",
    "        pin_memory=PIN_MEMORY,\n",
    "        shuffle=False,\n",
    "    )\n",
    "    return dl\n",
    "\n",
    "# https://discuss.pytorch.org/t/how-to-delete-layer-in-pretrained-model/17648/2?u=yang-zhang\n",
    "class Identity(nn.Module):\n",
    "    def __init__(self):\n",
    "        super(Identity, self).__init__()\n",
    "\n",
    "    def forward(self, x):\n",
    "        return x\n",
    "\n",
    "\n",
    "def mk_embedder(mdl):\n",
    "    if isinstance(mdl, models.resnet.ResNet):\n",
    "        mdl.fc = Identity()\n",
    "    if isinstance(mdl, EfficientNet):\n",
    "        def extract_feats(input_):\n",
    "            return mdl.extract_features(input_).mean(dim=(-1, -2))\n",
    "        mdl.forward = extract_feats\n",
    "    return mdl\n",
    "\n",
    "\n",
    "def mk_feats(dl, mdl):\n",
    "    device = torch.device(DEVICE)\n",
    "    mdl = mdl.to(device)\n",
    "    mdl.eval()\n",
    "    lst = []\n",
    "    for dat in tqdm(dl):\n",
    "        with torch.no_grad():\n",
    "            fts = mdl(dat.to(device))\n",
    "        lst.append(fts.cpu().detach().numpy())\n",
    "    feats = np.concatenate(lst)\n",
    "    return feats"
   ]
  },
  {
   "cell_type": "markdown",
   "metadata": {},
   "source": [
    "## neighbor"
   ]
  },
  {
   "cell_type": "code",
   "execution_count": 285,
   "metadata": {},
   "outputs": [],
   "source": [
    "from cuml.neighbors import NearestNeighbors\n",
    "import numpy as np\n",
    "\n",
    "N_NBRS = 50\n",
    "CHUNK = 1024 * 4\n",
    "\n",
    "\n",
    "def mk_nnmdl(feats, n_nbrs=N_NBRS):\n",
    "    nnmdl = NearestNeighbors(N_NBRS, metric=\"cosine\")\n",
    "    nnmdl.fit(feats)\n",
    "    return nnmdl\n",
    "\n",
    "\n",
    "def get_nbrs_from_nnmdl(feats, nnmdl, sz_chunk=CHUNK):\n",
    "    n = len(feats)\n",
    "    n_nbrs = nnmdl.n_neighbors\n",
    "    dists = np.zeros((n, n_nbrs), dtype=\"float\")\n",
    "    idx = np.zeros((n, n_nbrs), dtype=\"int\")\n",
    "    n_chunks = len(feats) // sz_chunk\n",
    "    if len(feats) % sz_chunk != 0:\n",
    "        n_chunks += 1\n",
    "    for j in tqdm(range(n_chunks)):\n",
    "        a = j * sz_chunk\n",
    "        b = (j + 1) * sz_chunk\n",
    "        b = min(b, len(feats))\n",
    "        dists_, idx_ = nnmdl.kneighbors(\n",
    "            feats[\n",
    "                a:b,\n",
    "            ]\n",
    "        )\n",
    "        dists[a:b] = dists_\n",
    "        idx[a:b] = idx_\n",
    "    return dists, idx\n",
    "\n",
    "\n",
    "def get_nbrs(feats, n_nbrs=N_NBRS, sz_chunk=CHUNK):\n",
    "    nnmdl = mk_nnmdl(feats, n_nbrs)\n",
    "    dists, idx = get_nbrs_from_nnmdl(feats, nnmdl, sz_chunk)\n",
    "    return dists, idx\n",
    "\n",
    "\n",
    "def get_preds_by_thrsh(dists, idx, thrsh):\n",
    "    preds = (ind[dst < thrsh] for dst, ind in zip(dists, idx))\n",
    "    return preds\n",
    "\n",
    "\n",
    "def find_best(dists, idx, thrshes=np.linspace(0.4,0.6,num=21)):\n",
    "    f1_lst = []\n",
    "    preds_lst = []\n",
    "    for thrsh in tqdm(thrshes):\n",
    "        preds = get_preds_by_thrsh(dists, idx, thrsh)\n",
    "        preds = preds2pids(preds, pids)\n",
    "        preds_lst.append(preds)\n",
    "        f1 = meanf1(preds,targets)\n",
    "        f1_lst.append(f1)\n",
    "    f1_best, thrsh_best, preds_best = sorted(zip(f1_lst, thrshes, preds_lst), reverse=True)[0]\n",
    "    return f1_best, thrsh_best, preds_best, thrshes, f1_lst\n"
   ]
  },
  {
   "cell_type": "code",
   "execution_count": 279,
   "metadata": {},
   "outputs": [
    {
     "data": {
      "text/plain": [
       "array([0.4 , 0.41, 0.42, 0.43, 0.44, 0.45, 0.46, 0.47, 0.48, 0.49, 0.5 ,\n",
       "       0.51, 0.52, 0.53, 0.54, 0.55, 0.56, 0.57, 0.58, 0.59, 0.6 ])"
      ]
     },
     "execution_count": 279,
     "metadata": {},
     "output_type": "execute_result"
    }
   ],
   "source": [
    "np.linspace(0.4,0.6,num=21)"
   ]
  },
  {
   "cell_type": "code",
   "execution_count": 265,
   "metadata": {},
   "outputs": [],
   "source": [
    "HOME = \"/data/git/shopee-product-matching\"\n",
    "p_prp = f'{HOME}/output/prep002'\n",
    "pdata = f'{HOME}/input/shopee-product-matching'\n",
    "\n",
    "df = pd.read_csv(f'{p_prp}/df_valid.csv').head(200)\n",
    "pids = df.posting_id.values\n",
    "targets = get_targets(df)\n",
    "\n",
    "\n",
    "\n",
    "p_imgs = f\"{pdata}/train_images\"\n",
    "\n",
    "IMGSZ = 224\n",
    "NWKRS = 8\n",
    "BS = 2\n",
    "DEVICE = torch.device(\"cuda\" if torch.cuda.is_available() else \"cpu\")\n",
    "DEVICE = torch.device(\"cpu\")\n",
    "\n",
    "PIN_MEMORY = True if DEVICE == torch.device(\"cuda\") else False\n",
    "\n",
    "\n",
    "dl = mk_dl(df)"
   ]
  },
  {
   "cell_type": "code",
   "execution_count": 266,
   "metadata": {},
   "outputs": [
    {
     "name": "stdout",
     "output_type": "stream",
     "text": [
      "Loaded pretrained weights for efficientnet-b1\n"
     ]
    }
   ],
   "source": [
    "nm2mdl = {\n",
    "    'resnet18': torchvision.models.resnet18(pretrained=True),\n",
    "#     'resnet34': torchvision.models.resnet34(pretrained=True),\n",
    "#     'resnet50': torchvision.models.resnet50(pretrained=True),\n",
    "#     'resnet101': torchvision.models.resnet101(pretrained=True),\n",
    "#     'resnet152': torchvision.models.resnet152(pretrained=True),\n",
    "#     \"efficientnet-b0\": EfficientNet.from_pretrained(\"efficientnet-b0\"),\n",
    "    \"efficientnet-b1\": EfficientNet.from_pretrained(\"efficientnet-b1\"),\n",
    "}"
   ]
  },
  {
   "cell_type": "code",
   "execution_count": 267,
   "metadata": {},
   "outputs": [],
   "source": [
    "for dat in dl:\n",
    "    dat \n",
    "    break\n",
    "\n",
    "for nm,mdl in nm2mdl.items():\n",
    "    mdl = mk_embedder(mdl)\n",
    "    output = mdl(dat)\n",
    "    print(nm, output.shape[1])"
   ]
  },
  {
   "cell_type": "code",
   "execution_count": 269,
   "metadata": {},
   "outputs": [
    {
     "name": "stderr",
     "output_type": "stream",
     "text": [
      "100%|██████████| 50/50 [00:05<00:00,  9.55it/s]\n",
      "100%|██████████| 50/50 [00:33<00:00,  1.48it/s]\n"
     ]
    }
   ],
   "source": [
    "nm2feats = {nm: mk_feats(dl, mdl) for nm,mdl in nm2mdl.items()}"
   ]
  },
  {
   "cell_type": "code",
   "execution_count": 270,
   "metadata": {},
   "outputs": [
    {
     "name": "stderr",
     "output_type": "stream",
     "text": [
      "100%|██████████| 1/1 [00:00<00:00,  5.35it/s]\n",
      "100%|██████████| 1/1 [00:00<00:00,  5.47it/s]\n"
     ]
    }
   ],
   "source": [
    "nm2nbrs = {nm: get_nbrs(feats) for nm,feats in nm2feats.items()}"
   ]
  },
  {
   "cell_type": "code",
   "execution_count": 288,
   "metadata": {},
   "outputs": [
    {
     "name": "stderr",
     "output_type": "stream",
     "text": [
      "100%|██████████| 21/21 [00:00<00:00, 123.88it/s]\n"
     ]
    }
   ],
   "source": [
    "for nm, (dists, idx) in nm2nbrs.items():\n",
    "    nm, (dists, idx)\n",
    "    f1_best, thrsh_best, preds_best, thrshes, f1_lst = find_best(dists, idx)\n",
    "    break"
   ]
  },
  {
   "cell_type": "code",
   "execution_count": 289,
   "metadata": {},
   "outputs": [
    {
     "data": {
      "text/plain": [
       "[<matplotlib.lines.Line2D at 0x7fd209cd8f90>]"
      ]
     },
     "execution_count": 289,
     "metadata": {},
     "output_type": "execute_result"
    },
    {
     "data": {
      "image/png": "[encoded data removed]",
      "text/plain": [
       "<Figure size 432x288 with 1 Axes>"
      ]
     },
     "metadata": {
      "needs_background": "light"
     },
     "output_type": "display_data"
    }
   ],
   "source": [
    "import matplotlib.pyplot as plt\n",
    "plt.plot(thrshes, f1_lst)  "
   ]
  },
  {
   "cell_type": "code",
   "execution_count": null,
   "metadata": {},
   "outputs": [],
   "source": []
  },
  {
   "cell_type": "code",
   "execution_count": null,
   "metadata": {},
   "outputs": [],
   "source": []
  },
  {
   "cell_type": "code",
   "execution_count": null,
   "metadata": {},
   "outputs": [],
   "source": []
  },
  {
   "cell_type": "code",
   "execution_count": null,
   "metadata": {},
   "outputs": [],
   "source": []
  },
  {
   "cell_type": "code",
   "execution_count": null,
   "metadata": {},
   "outputs": [],
   "source": []
  },
  {
   "cell_type": "markdown",
   "metadata": {},
   "source": [
    "# fin"
   ]
  },
  {
   "cell_type": "code",
   "execution_count": 263,
   "metadata": {},
   "outputs": [
    {
     "name": "stdout",
     "output_type": "stream",
     "text": [
      "Thu Apr  8 01:12:20 2021       \r\n",
      "+-----------------------------------------------------------------------------+\r\n",
      "| NVIDIA-SMI 440.59       Driver Version: 440.59       CUDA Version: 10.2     |\r\n",
      "|-------------------------------+----------------------+----------------------+\r\n",
      "| GPU  Name        Persistence-M| Bus-Id        Disp.A | Volatile Uncorr. ECC |\r\n",
      "| Fan  Temp  Perf  Pwr:Usage/Cap|         Memory-Usage | GPU-Util  Compute M. |\r\n",
      "|===============================+======================+======================|\r\n",
      "|   0  Tesla V100-SXM2...  Off  | 00000000:00:1E.0 Off |                    0 |\r\n",
      "| N/A   36C    P0    38W / 300W |   1984MiB / 16160MiB |      0%      Default |\r\n",
      "+-------------------------------+----------------------+----------------------+\r\n",
      "                                                                               \r\n",
      "+-----------------------------------------------------------------------------+\r\n",
      "| Processes:                                                       GPU Memory |\r\n",
      "|  GPU       PID   Type   Process name                             Usage      |\r\n",
      "|=============================================================================|\r\n",
      "|    0      8881      C   /data/anaconda3/envs/shopee/bin/python      1973MiB |\r\n",
      "+-----------------------------------------------------------------------------+\r\n"
     ]
    }
   ],
   "source": [
    "!nvidia-smi"
   ]
  },
  {
   "cell_type": "code",
   "execution_count": null,
   "metadata": {},
   "outputs": [],
   "source": []
  }
 ],
 "metadata": {
  "kernelspec": {
   "display_name": "shopee",
   "language": "python",
   "name": "shopee"
  },
  "language_info": {
   "codemirror_mode": {
    "name": "ipython",
    "version": 3
   },
   "file_extension": ".py",
   "mimetype": "text/x-python",
   "name": "python",
   "nbconvert_exporter": "python",
   "pygments_lexer": "ipython3",
   "version": "3.7.10"
  },
  "toc": {
   "base_numbering": 1,
   "nav_menu": {},
   "number_sections": true,
   "sideBar": true,
   "skip_h1_title": false,
   "title_cell": "Table of Contents",
   "title_sidebar": "Contents",
   "toc_cell": false,
   "toc_position": {},
   "toc_section_display": true,
   "toc_window_display": true
  }
 },
 "nbformat": 4,
 "nbformat_minor": 4
}
